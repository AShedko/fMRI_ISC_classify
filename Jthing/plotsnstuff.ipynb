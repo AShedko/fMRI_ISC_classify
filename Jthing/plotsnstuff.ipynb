{
 "cells": [
  {
   "cell_type": "code",
   "execution_count": 1,
   "metadata": {
    "collapsed": false,
    "deletable": true,
    "editable": true
   },
   "outputs": [
    {
     "name": "stderr",
     "output_type": "stream",
     "text": [
      "\u001b[1m\u001b[34mINFO: Recompiling stale cache file /home/ashedko/.julia/lib/v0.5/FileIO.ji for module FileIO.\n",
      "\u001b[0m\u001b[1m\u001b[34mINFO: Recompiling stale cache file /home/ashedko/.julia/lib/v0.5/ExcelReaders.ji for module ExcelReaders.\n",
      "\u001b[0mWARNING: Method definition describe(AbstractArray) in module StatsBase at /home/ashedko/.julia/v0.5/StatsBase/src/scalarstats.jl:573 overwritten in module DataFrames at /home/ashedko/.julia/v0.5/DataFrames/src/abstractdataframe/abstractdataframe.jl:407.\n",
      "WARNING: Method definition describe(AbstractArray) in module StatsBase at /home/ashedko/.julia/v0.5/StatsBase/src/scalarstats.jl:573 overwritten in module DataFrames at /home/ashedko/.julia/v0.5/DataFrames/src/abstractdataframe/abstractdataframe.jl:407.\n",
      "WARNING: Method definition describe(AbstractArray) in module StatsBase at /home/ashedko/.julia/v0.5/StatsBase/src/scalarstats.jl:573 overwritten in module DataFrames at /home/ashedko/.julia/v0.5/DataFrames/src/abstractdataframe/abstractdataframe.jl:407.\n",
      "\u001b[1m\u001b[34mINFO: Recompiling stale cache file /home/ashedko/.julia/lib/v0.5/PlotUtils.ji for module PlotUtils.\n",
      "\u001b[0m\u001b[1m\u001b[34mINFO: Recompiling stale cache file /home/ashedko/.julia/lib/v0.5/PlotThemes.ji for module PlotThemes.\n",
      "\u001b[0mWARNING: Method definition info(Any...) in module Base at util.jl:324 overwritten in module Logging at /home/ashedko/.julia/v0.5/Logging/src/Logging.jl:115.\n",
      "WARNING: Method definition warn(Any...) in module Base at util.jl:354 overwritten in module Logging at /home/ashedko/.julia/v0.5/Logging/src/Logging.jl:115.\n",
      "\u001b[1m\u001b[34mINFO: Recompiling stale cache file /home/ashedko/.julia/lib/v0.5/JLD.ji for module JLD.\n",
      "\u001b[0m\u001b[1m\u001b[34mINFO: Recompiling stale cache file /home/ashedko/.julia/lib/v0.5/SimpleTraits.ji for module SimpleTraits.\n",
      "\u001b[0m\u001b[1m\u001b[34mINFO: Recompiling stale cache file /home/ashedko/.julia/lib/v0.5/ImageView.ji for module ImageView.\n",
      "\u001b[0m"
     ]
    }
   ],
   "source": [
    "using ExcelReaders, DataFrames, Plots;\n",
    "push!(LOAD_PATH, \".\")\n",
    "\n",
    "using ISCLib;\n",
    "\n",
    "using HDF5, JLD, NIfTI, Logging, Vis, GtkReactive, ImageView, Images,\n",
    "Colors;"
   ]
  },
  {
   "cell_type": "code",
   "execution_count": 68,
   "metadata": {
    "collapsed": true
   },
   "outputs": [],
   "source": [
    "import Vis"
   ]
  },
  {
   "cell_type": "code",
   "execution_count": 16,
   "metadata": {
    "collapsed": false,
    "deletable": true,
    "editable": true
   },
   "outputs": [],
   "source": [
    "mri = (get_nii(1,1).raw);\n",
    "mask = niread(\"out/S|segmentation_result.nii\",mmap=true).raw;\n",
    "mask2 = niread(\"out/V|segmentation_result.nii\",mmap=true).raw;\n",
    "mask3 = niread(\"out/S_V|segmentation_result.nii\",mmap=true).raw;"
   ]
  },
  {
   "cell_type": "code",
   "execution_count": 32,
   "metadata": {
    "collapsed": false
   },
   "outputs": [],
   "source": [
    "vis(mri,mask2);"
   ]
  },
  {
   "cell_type": "code",
   "execution_count": 91,
   "metadata": {
    "collapsed": false,
    "scrolled": false
   },
   "outputs": [],
   "source": [
    "bl(x) = x>0.05\n",
    "# mask_xor = bl.(mask) $ bl.(mask2);"
   ]
  },
  {
   "cell_type": "code",
   "execution_count": 193,
   "metadata": {
    "collapsed": false
   },
   "outputs": [],
   "source": [
    "@edit ImageFiltering.Pad()"
   ]
  },
  {
   "cell_type": "code",
   "execution_count": 8,
   "metadata": {
    "collapsed": false
   },
   "outputs": [],
   "source": [
    "dat = readxl(DataFrame,joinpath(PATH,\"logs\",\"1.xlsx\"), \"Лист1!A1:G$(NEXP+1)\");"
   ]
  },
  {
   "cell_type": "code",
   "execution_count": 119,
   "metadata": {
    "collapsed": false
   },
   "outputs": [
    {
     "data": {
      "text/plain": [
       "blob_DoH (generic function with 2 methods)"
      ]
     },
     "execution_count": 119,
     "metadata": {},
     "output_type": "execute_result"
    }
   ],
   "source": [
    "function blob_DoH{T,N}(img::AbstractArray{T,N}, σs, edges::Tuple{Vararg{Bool}}=(true, ntuple(d->false, Val{N})...))\n",
    "    sigmas = sort(σs)\n",
    "    img_LoG = Array{Float64}(length(sigmas), size(img)...)\n",
    "    colons = ntuple(d->Colon(), Val{N})\n",
    "    @inbounds for isigma in eachindex(sigmas)\n",
    "        img_LoG[isigma,colons...] = (-sigmas[isigma]) * imfilter(img, Kernel.LoG(ntuple(d->sigmas[isigma],Val{N})))\n",
    "    end\n",
    "    maxima = findlocalmaxima(img_LoG, 1:ndims(img_LoG), edges)    \n",
    "    [BlobLoG(CartesianIndex(x.I), sigmas[x[1]], img_LoG[x]) for x in maxima]\n",
    "end"
   ]
  },
  {
   "cell_type": "code",
   "execution_count": 124,
   "metadata": {
    "collapsed": false,
    "scrolled": true
   },
   "outputs": [],
   "source": [
    "mr = zeros(mask3)\n",
    "mr[mask_df] = mask3[mask_df]\n",
    "blob_DoH(mr,[i for i ∈ 1:0.4:10]);"
   ]
  },
  {
   "cell_type": "code",
   "execution_count": 125,
   "metadata": {
    "collapsed": false
   },
   "outputs": [
    {
     "data": {
      "text/plain": [
       "Array{Float64,3}"
      ]
     },
     "execution_count": 125,
     "metadata": {},
     "output_type": "execute_result"
    }
   ],
   "source": [
    "typeof(mr)"
   ]
  },
  {
   "cell_type": "code",
   "execution_count": 117,
   "metadata": {
    "collapsed": false
   },
   "outputs": [],
   "source": [
    "res = sort(ans,by=x-> -x.σ);"
   ]
  },
  {
   "cell_type": "code",
   "execution_count": 121,
   "metadata": {
    "collapsed": false
   },
   "outputs": [
    {
     "data": {
      "text/plain": [
       "30109-element Array{Images.BlobLoG{Float64,Float64,4},1}:\n",
       " Images.BlobLoG{Float64,Float64,4}(CartesianIndex{4}((1,33,69,6)),1.0,-6.01201e-18)  \n",
       " Images.BlobLoG{Float64,Float64,4}(CartesianIndex{4}((1,33,64,6)),1.0,-4.31427e-18)  \n",
       " Images.BlobLoG{Float64,Float64,4}(CartesianIndex{4}((1,43,91,24)),1.0,-2.15923e-18) \n",
       " Images.BlobLoG{Float64,Float64,4}(CartesianIndex{4}((1,51,60,20)),1.0,-2.03455e-18) \n",
       " Images.BlobLoG{Float64,Float64,4}(CartesianIndex{4}((1,28,81,11)),1.0,-7.56211e-19) \n",
       " Images.BlobLoG{Float64,Float64,4}(CartesianIndex{4}((1,30,90,12)),1.0,-4.75029e-19) \n",
       " Images.BlobLoG{Float64,Float64,4}(CartesianIndex{4}((7,11,39,25)),3.4,-2.68952e-19) \n",
       " Images.BlobLoG{Float64,Float64,4}(CartesianIndex{4}((1,37,84,34)),1.0,-2.36498e-19) \n",
       " Images.BlobLoG{Float64,Float64,4}(CartesianIndex{4}((1,33,75,67)),1.0,-2.17437e-19) \n",
       " Images.BlobLoG{Float64,Float64,4}(CartesianIndex{4}((8,5,18,30)),3.8,-2.0354e-19)   \n",
       " Images.BlobLoG{Float64,Float64,4}(CartesianIndex{4}((6,78,70,66)),3.0,-2.03288e-19) \n",
       " Images.BlobLoG{Float64,Float64,4}(CartesianIndex{4}((11,58,40,50)),5.0,-1.80693e-19)\n",
       " Images.BlobLoG{Float64,Float64,4}(CartesianIndex{4}((8,26,52,48)),3.8,-1.71136e-19) \n",
       " ⋮                                                                                   \n",
       " Images.BlobLoG{Float64,Float64,4}(CartesianIndex{4}((1,37,91,32)),1.0,0.230103)     \n",
       " Images.BlobLoG{Float64,Float64,4}(CartesianIndex{4}((1,25,64,14)),1.0,0.241493)     \n",
       " Images.BlobLoG{Float64,Float64,4}(CartesianIndex{4}((1,27,65,12)),1.0,0.254567)     \n",
       " Images.BlobLoG{Float64,Float64,4}(CartesianIndex{4}((1,28,89,20)),1.0,0.257486)     \n",
       " Images.BlobLoG{Float64,Float64,4}(CartesianIndex{4}((1,43,87,60)),1.0,0.258934)     \n",
       " Images.BlobLoG{Float64,Float64,4}(CartesianIndex{4}((1,58,64,15)),1.0,0.262167)     \n",
       " Images.BlobLoG{Float64,Float64,4}(CartesianIndex{4}((1,55,91,34)),1.0,0.26658)      \n",
       " Images.BlobLoG{Float64,Float64,4}(CartesianIndex{4}((1,27,86,18)),1.0,0.272808)     \n",
       " Images.BlobLoG{Float64,Float64,4}(CartesianIndex{4}((1,39,63,74)),1.0,0.28959)      \n",
       " Images.BlobLoG{Float64,Float64,4}(CartesianIndex{4}((1,33,68,13)),1.0,0.347079)     \n",
       " Images.BlobLoG{Float64,Float64,4}(CartesianIndex{4}((1,61,63,13)),1.0,0.382299)     \n",
       " Images.BlobLoG{Float64,Float64,4}(CartesianIndex{4}((1,27,69,13)),1.0,0.387171)     "
      ]
     },
     "execution_count": 121,
     "metadata": {},
     "output_type": "execute_result"
    }
   ],
   "source": [
    "sort(res, by=x-> x.amplitude)\n",
    "# filter(x->x.σ>8, res)"
   ]
  },
  {
   "cell_type": "code",
   "execution_count": 37,
   "metadata": {
    "collapsed": false,
    "scrolled": true
   },
   "outputs": [
    {
     "name": "stderr",
     "output_type": "stream",
     "text": [
      "\u001b[1m\u001b[34mINFO: Recompiling stale cache file /home/ashedko/.julia/lib/v0.5/ImageMagick.ji for module ImageMagick.\n",
      "\u001b[0mWARNING: Method definition macroexpand(Module, Any) in module Compat at /home/ashedko/.julia/v0.5/Compat/src/Compat.jl:1491 overwritten in module MacroTools at /home/ashedko/.julia/v0.5/MacroTools/src/utils.jl:64.\n"
     ]
    },
    {
     "data": {
      "text/html": [
       "<table><tbody><tr><td style='text-align:center;vertical-align:middle; margin: 0.5em;border:1px #90999f solid;border-collapse:collapse'><img style='max-width: 100px; max-height:100px;display:inline' src=\"data:image/png;base64,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\"></td><td style='text-align:center;vertical-align:middle; margin: 0.5em;border:1px #90999f solid;border-collapse:collapse'><img style='max-width: 100px; max-height:100px;display:inline' src=\"data:image/png;base64,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\"></td><td style='text-align:center;vertical-align:middle; margin: 0.5em;border:1px #90999f solid;border-collapse:collapse'><img style='max-width: 100px; max-height:100px;display:inline' src=\"data:image/png;base64,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\"></td><td style='text-align:center;vertical-align:middle; margin: 0.5em;border:1px #90999f solid;border-collapse:collapse'><img style='max-width: 100px; max-height:100px;display:inline' src=\"data:image/png;base64,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\"></td><td style='text-align:center;vertical-align:middle; margin: 0.5em;border:1px #90999f solid;border-collapse:collapse'><img style='max-width: 100px; max-height:100px;display:inline' src=\"data:image/png;base64,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\"></td><td style='text-align:center;vertical-align:middle; margin: 0.5em;border:1px #90999f solid;border-collapse:collapse'><img style='max-width: 100px; max-height:100px;display:inline' src=\"data:image/png;base64,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\"></td><td style='text-align:center;vertical-align:middle; margin: 0.5em;border:1px #90999f solid;border-collapse:collapse'><img style='max-width: 100px; max-height:100px;display:inline' src=\"data:image/png;base64,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\"></td></tr></tbody></table>"
      ],
      "text/plain": [
       "7-element Array{ImageMetadata.ImageMeta{ColorTypes.RGBA{Float32},2,Array{ColorTypes.RGBA{Float32},2}},1}:\n",
       " RGBA ImageMeta with:\n",
       "  data: 91×109 Array{RGBA{Float32},2}\n",
       "  properties:\n",
       " RGBA ImageMeta with:\n",
       "  data: 91×109 Array{RGBA{Float32},2}\n",
       "  properties:\n",
       " RGBA ImageMeta with:\n",
       "  data: 91×109 Array{RGBA{Float32},2}\n",
       "  properties:\n",
       " RGBA ImageMeta with:\n",
       "  data: 91×109 Array{RGBA{Float32},2}\n",
       "  properties:\n",
       " RGBA ImageMeta with:\n",
       "  data: 91×109 Array{RGBA{Float32},2}\n",
       "  properties:\n",
       " RGBA ImageMeta with:\n",
       "  data: 91×109 Array{RGBA{Float32},2}\n",
       "  properties:\n",
       " RGBA ImageMeta with:\n",
       "  data: 91×109 Array{RGBA{Float32},2}\n",
       "  properties:"
      ]
     },
     "execution_count": 37,
     "metadata": {},
     "output_type": "execute_result"
    }
   ],
   "source": [
    "seq = [ImageMeta(mriseg[:,:,j]) for j in 10:10:75]"
   ]
  },
  {
   "cell_type": "code",
   "execution_count": 73,
   "metadata": {
    "collapsed": false,
    "deletable": true,
    "editable": true
   },
   "outputs": [
    {
     "ename": "LoadError",
     "evalue": "MethodError: no method matching tail(::Tuple{Int64,Int64,Int64,Int64})\nyou may have intended to import Base.tail\u001b[0m\nClosest candidates are:\n  tail(\u001b[1m\u001b[31m::DataFrames.AbstractDataFrame\u001b[0m) at /home/ashedko/.julia/v0.5/DataFrames/src/abstractdataframe/abstractdataframe.jl:291\n  tail(\u001b[1m\u001b[31m::DataFrames.AbstractDataFrame\u001b[0m, \u001b[1m\u001b[31m::Int64\u001b[0m) at /home/ashedko/.julia/v0.5/DataFrames/src/abstractdataframe/abstractdataframe.jl:290\u001b[0m",
     "output_type": "error",
     "traceback": [
      "MethodError: no method matching tail(::Tuple{Int64,Int64,Int64,Int64})\nyou may have intended to import Base.tail\u001b[0m\nClosest candidates are:\n  tail(\u001b[1m\u001b[31m::DataFrames.AbstractDataFrame\u001b[0m) at /home/ashedko/.julia/v0.5/DataFrames/src/abstractdataframe/abstractdataframe.jl:291\n  tail(\u001b[1m\u001b[31m::DataFrames.AbstractDataFrame\u001b[0m, \u001b[1m\u001b[31m::Int64\u001b[0m) at /home/ashedko/.julia/v0.5/DataFrames/src/abstractdataframe/abstractdataframe.jl:290\u001b[0m",
      "",
      " in execute_request(::ZMQ.Socket, ::IJulia.Msg) at /home/ashedko/.julia/v0.5/IJulia/src/execute_request.jl:156",
      " in eventloop(::ZMQ.Socket) at /home/ashedko/.julia/v0.5/IJulia/src/eventloop.jl:8",
      " in (::IJulia.##13#19)() at ./task.jl:360"
     ]
    }
   ],
   "source": [
    "# map!(x->isnan(x)?0:min(abs(x),1)*sign(x),nisc)\\\n",
    "tail(CartesianIndex(3,5,56,6).I)"
   ]
  },
  {
   "cell_type": "code",
   "execution_count": 95,
   "metadata": {
    "collapsed": false,
    "deletable": true,
    "editable": true
   },
   "outputs": [],
   "source": [
    "# cleared = map(x->isnan(x)?0:min(abs(x),1)*sign(x),nisc);\n",
    "# length(cleared) - countnz(cleared)\n",
    "# PyPlot.plt[:hist](cleared,100)\n",
    "imshow(mask_df)"
   ]
  },
  {
   "cell_type": "code",
   "execution_count": null,
   "metadata": {
    "collapsed": false,
    "deletable": true,
    "editable": true
   },
   "outputs": [],
   "source": [
    "Path = \"/run/media/ashedko/5cdd1287-7dba-4138-8a1b-91148f9f8ab5/ashedko/UNC/\"\n",
    "data = readxlsheet(DataFrame,joinpath(Path,\"logs\",\"1.xlsx\"), \"Лист1\");"
   ]
  },
  {
   "cell_type": "code",
   "execution_count": null,
   "metadata": {
    "collapsed": false,
    "deletable": true,
    "editable": true
   },
   "outputs": [],
   "source": [
    "# res = map(x-> x<0.05? 0: x*2+1/29, cleared)\n",
    "# res = Array{Float32}(res);\n",
    "nisc"
   ]
  },
  {
   "cell_type": "code",
   "execution_count": null,
   "metadata": {
    "collapsed": false,
    "deletable": true,
    "editable": true
   },
   "outputs": [],
   "source": [
    "map!(x->x>0.1?x*2+1/29:0, nisc)"
   ]
  },
  {
   "cell_type": "code",
   "execution_count": null,
   "metadata": {
    "collapsed": false,
    "deletable": true,
    "editable": true
   },
   "outputs": [],
   "source": [
    "niwrite(\"out.nii\",NIVolume(ni.header,reshape(nisc,(91,109,91))))"
   ]
  },
  {
   "cell_type": "code",
   "execution_count": null,
   "metadata": {
    "collapsed": false,
    "deletable": true,
    "editable": true
   },
   "outputs": [],
   "source": []
  },
  {
   "cell_type": "code",
   "execution_count": null,
   "metadata": {
    "collapsed": false,
    "deletable": true,
    "editable": true
   },
   "outputs": [],
   "source": [
    "# data = readxl(DataFrame,joinpath(PATH,\"logs\",\"2.xlsx\"), \"Лист1!A1:G92\");\n",
    "data = data[reduce(|,data[:Stimul_1] .== w for w in t),:]"
   ]
  },
  {
   "cell_type": "code",
   "execution_count": 117,
   "metadata": {
    "collapsed": false,
    "deletable": true,
    "editable": true
   },
   "outputs": [],
   "source": [
    "wei_dsp = reshape(dsp,SHAPE) ./ mri\n",
    "map!(x-> !isfinite(x) ? 0:x,wei_dsp);"
   ]
  },
  {
   "cell_type": "code",
   "execution_count": 118,
   "metadata": {
    "collapsed": false,
    "deletable": true,
    "editable": true
   },
   "outputs": [],
   "source": [
    "normD = wei_dsp/maximum(wei_dsp);"
   ]
  },
  {
   "cell_type": "code",
   "execution_count": 89,
   "metadata": {
    "collapsed": false
   },
   "outputs": [],
   "source": [
    "normD = reshape(dsp,SHAPE)/maximum(dsp);"
   ]
  },
  {
   "cell_type": "code",
   "execution_count": 58,
   "metadata": {
    "collapsed": false,
    "deletable": true,
    "editable": true,
    "scrolled": true
   },
   "outputs": [],
   "source": [
    "pic = Gray.(dsp/maximum(dsp));"
   ]
  },
  {
   "cell_type": "code",
   "execution_count": 92,
   "metadata": {
    "collapsed": false,
    "scrolled": false
   },
   "outputs": [],
   "source": [
    "mask_df = copy(bl.(mask3))\n",
    "mask_df[normD .<= 0.04] .= false\n",
    "mask_df;"
   ]
  },
  {
   "cell_type": "code",
   "execution_count": 14,
   "metadata": {
    "collapsed": false
   },
   "outputs": [],
   "source": [
    "# ni = get_nii(1,1)\n",
    "# res = NIfTI.NIVolume(ni.header, ni.extensions,mriseg) # Cheap, as reshape returns a view\n",
    "# niwrite(\"mask.nii\",res)"
   ]
  },
  {
   "cell_type": "code",
   "execution_count": 165,
   "metadata": {
    "collapsed": true
   },
   "outputs": [],
   "source": [
    "thresh=slider(50.:1.:400.)\n",
    "# mask2 = mask.*map(x-> x>signal(thresh), mri)\n",
    "mric = Gray.(copy(mri)/ maximum(mri))\n",
    "mriseg = RGBA.(mric)\n",
    "# mriseg[mask .> 0.1] += RGBA(0.,0.,1.,0.3)\n",
    "mriseg[mask_df] += RGBA(1.,0.,0.,0.4)\n",
    "# mriseg[mask3 .> 0.1] += RGBA(0.,1.,0.,0.3)\n",
    "\n",
    "zr, slicedata = roi(mric, (1,2))\n",
    "gd = imshow_gui((200, 200), slicedata, (1,2))\n",
    "imshow(gd[\"frame\"][1,1], gd[\"canvas\"][1,1], mric, nothing, zr, slicedata)\n",
    "imshow(gd[\"frame\"][1,2], gd[\"canvas\"][1,2], mriseg, nothing, zr, slicedata)\n",
    "showall(gd[\"window\"]);"
   ]
  },
  {
   "cell_type": "code",
   "execution_count": 166,
   "metadata": {
    "collapsed": false
   },
   "outputs": [
    {
     "data": {
      "text/html": [
       "<table><tbody><tr><td style='text-align:center;vertical-align:middle; margin: 0.5em;border:1px #90999f solid;border-collapse:collapse'><img style='max-width: 100px; max-height:100px;display:inline' src=\"data:image/png;base64,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\"></td><td style='text-align:center;vertical-align:middle; margin: 0.5em;border:1px #90999f solid;border-collapse:collapse'><img style='max-width: 100px; max-height:100px;display:inline' src=\"data:image/png;base64,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\"></td><td style='text-align:center;vertical-align:middle; margin: 0.5em;border:1px #90999f solid;border-collapse:collapse'><img style='max-width: 100px; max-height:100px;display:inline' src=\"data:image/png;base64,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\"></td><td style='text-align:center;vertical-align:middle; margin: 0.5em;border:1px #90999f solid;border-collapse:collapse'><img style='max-width: 100px; max-height:100px;display:inline' src=\"data:image/png;base64,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\"></td><td style='text-align:center;vertical-align:middle; margin: 0.5em;border:1px #90999f solid;border-collapse:collapse'><img style='max-width: 100px; max-height:100px;display:inline' src=\"data:image/png;base64,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\"></td></tr></tbody></table>"
      ],
      "text/plain": [
       "5-element Array{ImageMetadata.ImageMeta{ColorTypes.RGBA{Float32},2,Array{ColorTypes.RGBA{Float32},2}},1}:\n",
       " RGBA ImageMeta with:\n",
       "  data: 91×109 Array{RGBA{Float32},2}\n",
       "  properties:\n",
       " RGBA ImageMeta with:\n",
       "  data: 91×109 Array{RGBA{Float32},2}\n",
       "  properties:\n",
       " RGBA ImageMeta with:\n",
       "  data: 91×109 Array{RGBA{Float32},2}\n",
       "  properties:\n",
       " RGBA ImageMeta with:\n",
       "  data: 91×109 Array{RGBA{Float32},2}\n",
       "  properties:\n",
       " RGBA ImageMeta with:\n",
       "  data: 91×109 Array{RGBA{Float32},2}\n",
       "  properties:"
      ]
     },
     "execution_count": 166,
     "metadata": {},
     "output_type": "execute_result"
    }
   ],
   "source": [
    "seq = [ImageMeta(mriseg[:,:,j]) for j in [15,20,45,55,73]]"
   ]
  },
  {
   "cell_type": "code",
   "execution_count": 88,
   "metadata": {
    "collapsed": false
   },
   "outputs": [
    {
     "data": {
      "text/html": [],
      "text/plain": [
       "Interact.Options{:SelectionSlider,Float64}(897: \"input-487\" = 0.5 Float64 ,\"thresh\",0.5,\"0.5\",Interact.OptionDict(DataStructures.OrderedDict(\"0.0\"=>0.0,\"0.01\"=>0.01,\"0.02\"=>0.02,\"0.03\"=>0.03,\"0.04\"=>0.04,\"0.05\"=>0.05,\"0.06\"=>0.06,\"0.07\"=>0.07,\"0.08\"=>0.08,\"0.09\"=>0.09…),Dict(0.54=>\"0.54\",0.86=>\"0.86\",0.09=>\"0.09\",0.35=>\"0.35\",0.22=>\"0.22\",0.38=>\"0.38\",0.56=>\"0.56\",0.2=>\"0.2\",0.89=>\"0.89\",0.06=>\"0.06\"…)),Any[],Any[],true,\"horizontal\")"
      ]
     },
     "metadata": {},
     "output_type": "display_data"
    },
    {
     "data": {
      "text/plain": [
       "Gtk.GtkWindowLeaf(name=\"\", parent, width-request=-1, height-request=-1, visible=TRUE, sensitive=TRUE, app-paintable=FALSE, can-focus=FALSE, has-focus=FALSE, is-focus=FALSE, focus-on-click=TRUE, can-default=FALSE, has-default=FALSE, receives-default=FALSE, composite-child=FALSE, style, events=0, no-show-all=FALSE, has-tooltip=FALSE, tooltip-markup=NULL, tooltip-text=NULL, window, opacity=1.000000, double-buffered, halign=GTK_ALIGN_FILL, valign=GTK_ALIGN_FILL, margin-left, margin-right, margin-start=0, margin-end=0, margin-top=0, margin-bottom=0, margin=0, hexpand=FALSE, vexpand=FALSE, hexpand-set=FALSE, vexpand-set=FALSE, expand=FALSE, scale-factor=1, border-width=0, resize-mode, child, type=GTK_WINDOW_TOPLEVEL, title=\"ImageView\", role=NULL, resizable=TRUE, modal=FALSE, window-position=GTK_WIN_POS_NONE, default-width=200, default-height=400, destroy-with-parent=FALSE, hide-titlebar-when-maximized=FALSE, icon, icon-name=NULL, screen, type-hint=GDK_WINDOW_TYPE_HINT_NORMAL, skip-taskbar-hint=FALSE, skip-pager-hint=FALSE, urgency-hint=FALSE, accept-focus=TRUE, focus-on-map=TRUE, decorated=TRUE, deletable=TRUE, gravity=GDK_GRAVITY_NORTH_WEST, transient-for, attached-to, has-resize-grip, resize-grip-visible, application, is-active=FALSE, has-toplevel-focus=FALSE, startup-id, mnemonics-visible=FALSE, focus-visible=FALSE, is-maximized=FALSE)"
      ]
     },
     "execution_count": 88,
     "metadata": {
      "comm_id": "af2e516d-3566-4916-8afd-38684cba71de",
      "reactive": true
     },
     "output_type": "execute_result"
    }
   ],
   "source": [
    "@manipulate for thresh in 0.:0.01:1.\n",
    "    mriseg = RGBA.(mri)\n",
    "    # mriseg[mask .> 0.1] += RGBA(0.,0.,1.,0.3)\n",
    "    mriseg[normD.>(thresh)] += RGBA(1.,0.,0.,0.3)\n",
    "    # mriseg[mask3 .> 0.1] += RGBA(0.,1.,0.,0.3)\n",
    "\n",
    "    zr, slicedata = roi(mri, (1,2))\n",
    "    gd = imshow_gui((200, 200), slicedata, (1,2))\n",
    "    imshow(gd[\"frame\"][1,1], gd[\"canvas\"][1,1], mri, nothing, zr, slicedata);\n",
    "    imshow(gd[\"frame\"][1,2], gd[\"canvas\"][1,2], mriseg, nothing, zr, slicedata);\n",
    "    showall(gd[\"window\"]);\n",
    "end;"
   ]
  },
  {
   "cell_type": "code",
   "execution_count": null,
   "metadata": {
    "collapsed": false,
    "deletable": true,
    "editable": true
   },
   "outputs": [],
   "source": [
    "indexes = [get_indexes(i,[\"S1\"]) for i in 1:NSUBJ]"
   ]
  },
  {
   "cell_type": "code",
   "execution_count": 50,
   "metadata": {
    "collapsed": false
   },
   "outputs": [
    {
     "ename": "LoadError",
     "evalue": "UndefVarError: @nref not defined",
     "output_type": "error",
     "traceback": [
      "UndefVarError: @nref not defined",
      "",
      " in execute_request(::ZMQ.Socket, ::IJulia.Msg) at /home/ashedko/.julia/v0.5/IJulia/src/execute_request.jl:156",
      " in eventloop(::ZMQ.Socket) at /home/ashedko/.julia/v0.5/IJulia/src/eventloop.jl:8",
      " in (::IJulia.##13#19)() at ./task.jl:360"
     ]
    }
   ],
   "source": [
    "@nref"
   ]
  },
  {
   "cell_type": "code",
   "execution_count": 66,
   "metadata": {
    "collapsed": false
   },
   "outputs": [
    {
     "data": {
      "text/plain": [
       "57773"
      ]
     },
     "execution_count": 66,
     "metadata": {},
     "output_type": "execute_result"
    }
   ],
   "source": [
    "length(dsp)-countnz(dsp)"
   ]
  },
  {
   "cell_type": "code",
   "execution_count": 63,
   "metadata": {
    "collapsed": false
   },
   "outputs": [
    {
     "name": "stderr",
     "output_type": "stream",
     "text": [
      "WARNING: imported binding for h overwritten in module Main\n"
     ]
    },
    {
     "data": {
      "text/html": [
       "<div id=\"47b84cad-318b-42c6-80f4-704947b8f9cd\" class=\"plotly-graph-div\"></div>\n",
       "\n",
       "<script>\n",
       "    window.PLOTLYENV=window.PLOTLYENV || {};\n",
       "    window.PLOTLYENV.BASE_URL=\"https://plot.ly\";\n",
       "    require(['plotly'], function(Plotly) {\n",
       "        Plotly.newPlot('47b84cad-318b-42c6-80f4-704947b8f9cd', [{\"yaxis\":\"y\",\"y\":[102504.0,75653.0,95799.0,71896.0,50764.0,38012.0,33155.0,27028.0,22653.0,17955.0,14447.0,12259.0,10353.0,9100.0,8307.0,8098.0,8632.0,9546.0,10492.0,11753.0,12677.0,13541.0,14641.0,15647.0,16542.0,16260.0,15659.0,14313.0,13006.0,11613.0,10601.0,9934.0,9138.0,8171.0,7625.0,6898.0,6244.0,5580.0,5104.0,4504.0,3906.0,3353.0,2906.0,2643.0,2290.0,2015.0,1843.0,1635.0,1443.0,1302.0,1164.0,1038.0,887.0,858.0,794.0,721.0,710.0,666.0,662.0,594.0,538.0,549.0,534.0,509.0,520.0,465.0,460.0,476.0,466.0,466.0,414.0,394.0,427.0,403.0,403.0,371.0,364.0,353.0,330.0,363.0,295.0,317.0,305.0,260.0,288.0,258.0,231.0,201.0,187.0,197.0,198.0,147.0,150.0,128.0,158.0,118.0,127.0,96.0,111.0,95.0,87.0,71.0,62.0,72.0,63.0,67.0,76.0,77.0,63.0,60.0,50.0,58.0,42.0,40.0,56.0,34.0,32.0,46.0,41.0,45.0,41.0,29.0,46.0,31.0,37.0,28.0,30.0,36.0,32.0,31.0,29.0,31.0,22.0,29.0,33.0,23.0,19.0,26.0,28.0,25.0,25.0,22.0,21.0,30.0,22.0,16.0,24.0,15.0,21.0,15.0,18.0,16.0,16.0,26.0,18.0,12.0,12.0,15.0,4.0,10.0,7.0,11.0,7.0,9.0,13.0,8.0,3.0,10.0,8.0,14.0,11.0,10.0,12.0,10.0,5.0,3.0,5.0,9.0,9.0,4.0,6.0,4.0,6.0,5.0,2.0,6.0,8.0,4.0,5.0,5.0,3.0,6.0,4.0,4.0,2.0,6.0,7.0,4.0,1.0,4.0,2.0,7.0,2.0,3.0,3.0,2.0,2.0,4.0,3.0,0.0,1.0,2.0,0.0,3.0,2.0,0.0,1.0,1.0,0.0,2.0,2.0,0.0,4.0,2.0,1.0,2.0,2.0,0.0,0.0,0.0,1.0,1.0,0.0,0.0,0.0,0.0,0.0,0.0,0.0,0.0,0.0,1.0,0.0,0.0,0.0,0.0,0.0,1.0],\"showlegend\":true,\"name\":\"y1\",\"type\":\"bar\",\"xaxis\":\"x\",\"orientation\":\"v\",\"colorbar\":{\"title\":\"\"},\"x\":[1.0,3.0,5.0,7.0,9.0,11.0,13.0,15.0,17.0,19.0,21.0,23.0,25.0,27.0,29.0,31.0,33.0,35.0,37.0,39.0,41.0,43.0,45.0,47.0,49.0,51.0,53.0,55.0,57.0,59.0,61.0,63.0,65.0,67.0,69.0,71.0,73.0,75.0,77.0,79.0,81.0,83.0,85.0,87.0,89.0,91.0,93.0,95.0,97.0,99.0,101.0,103.0,105.0,107.0,109.0,111.0,113.0,115.0,117.0,119.0,121.0,123.0,125.0,127.0,129.0,131.0,133.0,135.0,137.0,139.0,141.0,143.0,145.0,147.0,149.0,151.0,153.0,155.0,157.0,159.0,161.0,163.0,165.0,167.0,169.0,171.0,173.0,175.0,177.0,179.0,181.0,183.0,185.0,187.0,189.0,191.0,193.0,195.0,197.0,199.0,201.0,203.0,205.0,207.0,209.0,211.0,213.0,215.0,217.0,219.0,221.0,223.0,225.0,227.0,229.0,231.0,233.0,235.0,237.0,239.0,241.0,243.0,245.0,247.0,249.0,251.0,253.0,255.0,257.0,259.0,261.0,263.0,265.0,267.0,269.0,271.0,273.0,275.0,277.0,279.0,281.0,283.0,285.0,287.0,289.0,291.0,293.0,295.0,297.0,299.0,301.0,303.0,305.0,307.0,309.0,311.0,313.0,315.0,317.0,319.0,321.0,323.0,325.0,327.0,329.0,331.0,333.0,335.0,337.0,339.0,341.0,343.0,345.0,347.0,349.0,351.0,353.0,355.0,357.0,359.0,361.0,363.0,365.0,367.0,369.0,371.0,373.0,375.0,377.0,379.0,381.0,383.0,385.0,387.0,389.0,391.0,393.0,395.0,397.0,399.0,401.0,403.0,405.0,407.0,409.0,411.0,413.0,415.0,417.0,419.0,421.0,423.0,425.0,427.0,429.0,431.0,433.0,435.0,437.0,439.0,441.0,443.0,445.0,447.0,449.0,451.0,453.0,455.0,457.0,459.0,461.0,463.0,465.0,467.0,469.0,471.0,473.0,475.0,477.0,479.0,481.0,483.0,485.0,487.0,489.0,491.0,493.0,495.0],\"marker\":{\"color\":\"rgba(0, 154, 250, 1.000)\"}}],\n",
       "               {\"yaxis\":{\"type\":\"-\",\"titlefont\":{\"size\":15,\"color\":\"rgba(0, 0, 0, 1.000)\",\"family\":\"sans-serif\"},\"title\":\"\",\"tickfont\":{\"size\":11,\"color\":\"rgba(0, 0, 0, 1.000)\",\"family\":\"sans-serif\"},\"ticks\":\"inside\",\"tickmode\":\"array\",\"showgrid\":true,\"tickvals\":[0.0,20000.0,40000.0,60000.0,80000.0,100000.0],\"domain\":[0.03762029746281716,0.9901574803149606],\"ticktext\":[\"0\",\"20000\",\"40000\",\"60000\",\"80000\",\"100000\"],\"tickangle\":0,\"zeroline\":false,\"linecolor\":\"rgba(0, 0, 0, 1.000)\",\"tickcolor\":\"rgba(0, 0, 0, 1.000)\",\"anchor\":\"x\"},\"annotations\":[],\"width\":600,\"plot_bgcolor\":\"rgba(255, 255, 255, 1.000)\",\"showlegend\":true,\"legend\":{\"bgcolor\":\"rgba(255, 255, 255, 1.000)\",\"y\":1.0,\"font\":{\"size\":11,\"color\":\"rgba(0, 0, 0, 1.000)\",\"family\":\"sans-serif\"},\"bordercolor\":\"rgba(0, 0, 0, 1.000)\",\"x\":1.0},\"xaxis\":{\"type\":\"-\",\"titlefont\":{\"size\":15,\"color\":\"rgba(0, 0, 0, 1.000)\",\"family\":\"sans-serif\"},\"title\":\"\",\"tickfont\":{\"size\":11,\"color\":\"rgba(0, 0, 0, 1.000)\",\"family\":\"sans-serif\"},\"ticks\":\"inside\",\"tickmode\":\"array\",\"showgrid\":true,\"tickvals\":[0.0,100.0,200.0,300.0,400.0],\"domain\":[0.09545056867891513,0.9934383202099738],\"ticktext\":[\"0\",\"100\",\"200\",\"300\",\"400\"],\"tickangle\":0,\"zeroline\":false,\"linecolor\":\"rgba(0, 0, 0, 1.000)\",\"tickcolor\":\"rgba(0, 0, 0, 1.000)\",\"anchor\":\"y\"},\"paper_bgcolor\":\"rgba(255, 255, 255, 1.000)\",\"margin\":{\"r\":0,\"l\":0,\"b\":20,\"t\":20},\"height\":400}, {showLink: false});\n",
       "\n",
       "    });\n",
       " </script>\n"
      ]
     },
     "execution_count": 63,
     "metadata": {},
     "output_type": "execute_result"
    }
   ],
   "source": [
    "h = histogram(sqrt.(dsp), bins=400)"
   ]
  },
  {
   "cell_type": "code",
   "execution_count": 95,
   "metadata": {
    "collapsed": false,
    "deletable": true,
    "editable": true
   },
   "outputs": [
    {
     "data": {
      "text/plain": [
       "1312.5547908655835"
      ]
     },
     "execution_count": 95,
     "metadata": {},
     "output_type": "execute_result"
    }
   ],
   "source": [
    "sqrt(4maximum(ds)-1)/4"
   ]
  },
  {
   "cell_type": "code",
   "execution_count": 85,
   "metadata": {
    "collapsed": false
   },
   "outputs": [],
   "source": [
    "ds = h5read(\"out/S|disps.h5\",\"data\");"
   ]
  },
  {
   "cell_type": "code",
   "execution_count": null,
   "metadata": {
    "collapsed": false
   },
   "outputs": [],
   "source": []
  },
  {
   "cell_type": "code",
   "execution_count": 87,
   "metadata": {
    "collapsed": false,
    "deletable": true,
    "editable": true
   },
   "outputs": [],
   "source": [
    "dsp = sum(ds,2)/29;"
   ]
  },
  {
   "cell_type": "code",
   "execution_count": 88,
   "metadata": {
    "collapsed": false,
    "deletable": true,
    "editable": true
   },
   "outputs": [],
   "source": [
    "dsp = (dsp)./maximum(dsp);"
   ]
  },
  {
   "cell_type": "code",
   "execution_count": 5,
   "metadata": {
    "collapsed": false
   },
   "outputs": [],
   "source": [
    "using MAT,HDF5"
   ]
  },
  {
   "cell_type": "code",
   "execution_count": 9,
   "metadata": {
    "collapsed": false
   },
   "outputs": [
    {
     "data": {
      "text/plain": [
       "\"12\""
      ]
     },
     "execution_count": 9,
     "metadata": {},
     "output_type": "execute_result"
    }
   ],
   "source": [
    "\"$(11+1)\""
   ]
  },
  {
   "cell_type": "code",
   "execution_count": 8,
   "metadata": {
    "collapsed": false
   },
   "outputs": [],
   "source": [
    "disps = [load(\"out/$str|disps.jld\")[\"data\"] for str in [\"S\",\"V\",\"S_V\"]];"
   ]
  },
  {
   "cell_type": "code",
   "execution_count": 13,
   "metadata": {
    "collapsed": false
   },
   "outputs": [],
   "source": [
    "for i in 1:3\n",
    "    h5write(\"out/$([\"S\",\"V\",\"S_V\"][i])|disps.h5\", \"data\", disps[i]) \n",
    "end"
   ]
  },
  {
   "cell_type": "code",
   "execution_count": 2,
   "metadata": {
    "collapsed": false
   },
   "outputs": [
    {
     "name": "stderr",
     "output_type": "stream",
     "text": [
      "\u001b[1m\u001b[34mINFO: Cloning cache of BufferedStreams from https://github.com/BioJulia/BufferedStreams.jl.git\n",
      "\u001b[0m\u001b[1m\u001b[34mINFO: Cloning cache of Libz from https://github.com/BioJulia/Libz.jl.git\n",
      "\u001b[0m\u001b[1m\u001b[34mINFO: Cloning cache of MAT from https://github.com/simonster/MAT.jl.git\n",
      "\u001b[0m\u001b[1m\u001b[34mINFO: Installing BufferedStreams v0.3.3\n",
      "\u001b[0m\u001b[1m\u001b[34mINFO: Installing Libz v0.2.4\n",
      "\u001b[0m\u001b[1m\u001b[34mINFO: Installing MAT v0.3.2\n",
      "\u001b[0m\u001b[1m\u001b[34mINFO: Building Blosc\n",
      "\u001b[0m\u001b[1m\u001b[34mINFO: Building HDF5\n",
      "\u001b[0m\u001b[1m\u001b[34mINFO: Package database updated\n",
      "\u001b[0m\u001b[1m\u001b[34mINFO: METADATA is out-of-date — you may not have the latest version of MAT\n",
      "\u001b[0m\u001b[1m\u001b[34mINFO: Use `Pkg.update()` to get the latest versions of your packages\n",
      "\u001b[0m"
     ]
    }
   ],
   "source": [
    "Pkg.add(\"MAT\")"
   ]
  },
  {
   "cell_type": "code",
   "execution_count": 85,
   "metadata": {
    "collapsed": false
   },
   "outputs": [],
   "source": [
    "dsp = Gray.(dsp);"
   ]
  },
  {
   "cell_type": "code",
   "execution_count": 86,
   "metadata": {
    "collapsed": false
   },
   "outputs": [
    {
     "data": {
      "text/plain": [
       "Dict{String,Any} with 4 entries:\n",
       "  \"gui\"         => Dict{String,Any}(Pair{String,Any}(\"window\",Gtk.GtkWindowLeaf…\n",
       "  \"roi\"         => Dict{String,Any}(Pair{String,Any}(\"redraw\",92: \"map(clim-map…\n",
       "  \"annotations\" => 41: \"input-34\" = Dict{UInt64,Any}() Dict{UInt64,Any} \n",
       "  \"clim\"        => 40: \"CLim\" = ImageView.CLim{Float64}(0.0,0.09723783993496299…"
      ]
     },
     "execution_count": 86,
     "metadata": {},
     "output_type": "execute_result"
    }
   ],
   "source": [
    "imshow(dsp)"
   ]
  },
  {
   "cell_type": "code",
   "execution_count": 17,
   "metadata": {
    "collapsed": true
   },
   "outputs": [],
   "source": [
    "using Interact\n",
    "using Plots"
   ]
  },
  {
   "cell_type": "code",
   "execution_count": 18,
   "metadata": {
    "collapsed": false
   },
   "outputs": [],
   "source": [
    "int = 0:0.01:0.1;rnd = [sin(x)+rand()/5 for x in int];"
   ]
  },
  {
   "cell_type": "code",
   "execution_count": 23,
   "metadata": {
    "collapsed": false
   },
   "outputs": [
    {
     "name": "stderr",
     "output_type": "stream",
     "text": [
      "WARNING: Method definition rema(#T<:Any, #T<:Any) in module Main at In[22]:2 overwritten at In[23]:2.\n",
      "WARNING: Method definition rema(#T<:Any, #T<:Any, #T<:Any) in module Main at In[22]:2 overwritten at In[23]:2.\n",
      "WARNING: Method definition rema2(#T<:Any, #T<:Any) in module Main at In[22]:7 overwritten at In[23]:7.\n",
      "WARNING: Method definition rema2(#T<:Any, #T<:Any, #T<:Any) in module Main at In[22]:7 overwritten at In[23]:7.\n",
      "WARNING: Method definition smooth(Any, Any) in module Main at In[22]:10 overwritten at In[23]:10.\n"
     ]
    },
    {
     "data": {
      "text/plain": [
       "smooth (generic function with 1 method)"
      ]
     },
     "execution_count": 23,
     "metadata": {},
     "output_type": "execute_result"
    }
   ],
   "source": [
    "function rema{T}(shadow::T, variable::T,decay::T= 0.3)\n",
    "    ret= shadow*decay + variable*(1-decay)\n",
    "    ret\n",
    "end\n",
    "\n",
    "function rema2{T}(shadow::T, variable::T,decay::T= 0.3)\n",
    "    shadow -= (1 - decay) * (shadow - variable)\n",
    "end\n",
    "\n",
    "smooth(x,dec) = begin\n",
    "    s = zeros(x)\n",
    "    s[1] = x[1]\n",
    "    for i=2:length(x)\n",
    "        s[i] = rema2(s[i-1],x[i],dec)\n",
    "    end\n",
    "    s\n",
    "end"
   ]
  },
  {
   "cell_type": "code",
   "execution_count": 24,
   "metadata": {
    "collapsed": false,
    "scrolled": true
   },
   "outputs": [
    {
     "data": {
      "text/html": [],
      "text/plain": [
       "Interact.Options{:SelectionSlider,Float64}(23: \"input-7\" = 0.5 Float64 ,\"dec\",0.5,\"0.5\",Interact.OptionDict(DataStructures.OrderedDict(\"0.0\"=>0.0,\"0.01\"=>0.01,\"0.02\"=>0.02,\"0.03\"=>0.03,\"0.04\"=>0.04,\"0.05\"=>0.05,\"0.06\"=>0.06,\"0.07\"=>0.07,\"0.08\"=>0.08,\"0.09\"=>0.09…),Dict(0.54=>\"0.54\",0.86=>\"0.86\",0.09=>\"0.09\",0.35=>\"0.35\",0.22=>\"0.22\",0.38=>\"0.38\",0.56=>\"0.56\",0.2=>\"0.2\",0.89=>\"0.89\",0.06=>\"0.06\"…)),Any[],Any[],true,\"horizontal\")"
      ]
     },
     "metadata": {},
     "output_type": "display_data"
    },
    {
     "data": {
      "text/html": [
       "<?xml version=\"1.0\" encoding=\"utf-8\"?>\n",
       "<svg xmlns=\"http://www.w3.org/2000/svg\" xmlns:xlink=\"http://www.w3.org/1999/xlink\" width=\"600\" height=\"400\" viewBox=\"0 0 600 400\">\n",
       "<defs>\n",
       "  <clipPath id=\"clip00\">\n",
       "    <rect x=\"0\" y=\"0\" width=\"600\" height=\"400\"/>\n",
       "  </clipPath>\n",
       "</defs>\n",
       "<polygon clip-path=\"url(#clip00)\" points=\"\n",
       "0,400 600,400 600,0 0,0 \n",
       "  \" fill=\"#ffffff\" fill-opacity=\"1\"/>\n",
       "<defs>\n",
       "  <clipPath id=\"clip01\">\n",
       "    <rect x=\"120\" y=\"0\" width=\"421\" height=\"400\"/>\n",
       "  </clipPath>\n",
       "</defs>\n",
       "<polygon clip-path=\"url(#clip00)\" points=\"\n",
       "39.3701,368.504 592.126,368.504 592.126,7.87402 39.3701,7.87402 \n",
       "  \" fill=\"#ffffff\" fill-opacity=\"1\"/>\n",
       "<defs>\n",
       "  <clipPath id=\"clip02\">\n",
       "    <rect x=\"39\" y=\"7\" width=\"553\" height=\"361\"/>\n",
       "  </clipPath>\n",
       "</defs>\n",
       "<polyline clip-path=\"url(#clip02)\" style=\"stroke:#00002d; stroke-width:0.8; stroke-opacity:0.5; fill:none\" stroke-dasharray=\"1, 2\" points=\"\n",
       "  39.3701,363.094 39.3701,13.2835 \n",
       "  \"/>\n",
       "<polyline clip-path=\"url(#clip02)\" style=\"stroke:#00002d; stroke-width:0.8; stroke-opacity:0.5; fill:none\" stroke-dasharray=\"1, 2\" points=\"\n",
       "  149.921,363.094 149.921,13.2835 \n",
       "  \"/>\n",
       "<polyline clip-path=\"url(#clip02)\" style=\"stroke:#00002d; stroke-width:0.8; stroke-opacity:0.5; fill:none\" stroke-dasharray=\"1, 2\" points=\"\n",
       "  260.472,363.094 260.472,13.2835 \n",
       "  \"/>\n",
       "<polyline clip-path=\"url(#clip02)\" style=\"stroke:#00002d; stroke-width:0.8; stroke-opacity:0.5; fill:none\" stroke-dasharray=\"1, 2\" points=\"\n",
       "  371.024,363.094 371.024,13.2835 \n",
       "  \"/>\n",
       "<polyline clip-path=\"url(#clip02)\" style=\"stroke:#00002d; stroke-width:0.8; stroke-opacity:0.5; fill:none\" stroke-dasharray=\"1, 2\" points=\"\n",
       "  481.575,363.094 481.575,13.2835 \n",
       "  \"/>\n",
       "<polyline clip-path=\"url(#clip02)\" style=\"stroke:#00002d; stroke-width:0.8; stroke-opacity:0.5; fill:none\" stroke-dasharray=\"1, 2\" points=\"\n",
       "  592.126,363.094 592.126,13.2835 \n",
       "  \"/>\n",
       "<polyline clip-path=\"url(#clip02)\" style=\"stroke:#00002d; stroke-width:0.8; stroke-opacity:0.5; fill:none\" stroke-dasharray=\"1, 2\" points=\"\n",
       "  47.6614,303.376 583.835,303.376 \n",
       "  \"/>\n",
       "<polyline clip-path=\"url(#clip02)\" style=\"stroke:#00002d; stroke-width:0.8; stroke-opacity:0.5; fill:none\" stroke-dasharray=\"1, 2\" points=\"\n",
       "  47.6614,206.881 583.835,206.881 \n",
       "  \"/>\n",
       "<polyline clip-path=\"url(#clip02)\" style=\"stroke:#00002d; stroke-width:0.8; stroke-opacity:0.5; fill:none\" stroke-dasharray=\"1, 2\" points=\"\n",
       "  47.6614,110.386 583.835,110.386 \n",
       "  \"/>\n",
       "<polyline clip-path=\"url(#clip02)\" style=\"stroke:#00002d; stroke-width:0.8; stroke-opacity:0.5; fill:none\" stroke-dasharray=\"1, 2\" points=\"\n",
       "  47.6614,13.8908 583.835,13.8908 \n",
       "  \"/>\n",
       "<polyline clip-path=\"url(#clip00)\" style=\"stroke:#00002d; stroke-width:0.8; stroke-opacity:1; fill:none\" points=\"\n",
       "  39.3701,368.504 592.126,368.504 \n",
       "  \"/>\n",
       "<polyline clip-path=\"url(#clip00)\" style=\"stroke:#00002d; stroke-width:0.8; stroke-opacity:1; fill:none\" points=\"\n",
       "  39.3701,368.504 39.3701,363.094 \n",
       "  \"/>\n",
       "<polyline clip-path=\"url(#clip00)\" style=\"stroke:#00002d; stroke-width:0.8; stroke-opacity:1; fill:none\" points=\"\n",
       "  149.921,368.504 149.921,363.094 \n",
       "  \"/>\n",
       "<polyline clip-path=\"url(#clip00)\" style=\"stroke:#00002d; stroke-width:0.8; stroke-opacity:1; fill:none\" points=\"\n",
       "  260.472,368.504 260.472,363.094 \n",
       "  \"/>\n",
       "<polyline clip-path=\"url(#clip00)\" style=\"stroke:#00002d; stroke-width:0.8; stroke-opacity:1; fill:none\" points=\"\n",
       "  371.024,368.504 371.024,363.094 \n",
       "  \"/>\n",
       "<polyline clip-path=\"url(#clip00)\" style=\"stroke:#00002d; stroke-width:0.8; stroke-opacity:1; fill:none\" points=\"\n",
       "  481.575,368.504 481.575,363.094 \n",
       "  \"/>\n",
       "<polyline clip-path=\"url(#clip00)\" style=\"stroke:#00002d; stroke-width:0.8; stroke-opacity:1; fill:none\" points=\"\n",
       "  592.126,368.504 592.126,363.094 \n",
       "  \"/>\n",
       "<polyline clip-path=\"url(#clip00)\" style=\"stroke:#00002d; stroke-width:0.8; stroke-opacity:1; fill:none\" points=\"\n",
       "  39.3701,368.504 39.3701,7.87402 \n",
       "  \"/>\n",
       "<polyline clip-path=\"url(#clip00)\" style=\"stroke:#00002d; stroke-width:0.8; stroke-opacity:1; fill:none\" points=\"\n",
       "  39.3701,303.376 47.6614,303.376 \n",
       "  \"/>\n",
       "<polyline clip-path=\"url(#clip00)\" style=\"stroke:#00002d; stroke-width:0.8; stroke-opacity:1; fill:none\" points=\"\n",
       "  39.3701,206.881 47.6614,206.881 \n",
       "  \"/>\n",
       "<polyline clip-path=\"url(#clip00)\" style=\"stroke:#00002d; stroke-width:0.8; stroke-opacity:1; fill:none\" points=\"\n",
       "  39.3701,110.386 47.6614,110.386 \n",
       "  \"/>\n",
       "<polyline clip-path=\"url(#clip00)\" style=\"stroke:#00002d; stroke-width:0.8; stroke-opacity:1; fill:none\" points=\"\n",
       "  39.3701,13.8908 47.6614,13.8908 \n",
       "  \"/>\n",
       "<g clip-path=\"url(#clip00)\">\n",
       "<text style=\"fill:#00002d; fill-opacity:1; font-family:Arial,Helvetica Neue,Helvetica,sans-serif; font-size:12; text-anchor:middle;\" transform=\"rotate(0, 39.3701, 382.304)\" x=\"39.3701\" y=\"382.304\">0.00</text>\n",
       "</g>\n",
       "<g clip-path=\"url(#clip00)\">\n",
       "<text style=\"fill:#00002d; fill-opacity:1; font-family:Arial,Helvetica Neue,Helvetica,sans-serif; font-size:12; text-anchor:middle;\" transform=\"rotate(0, 149.921, 382.304)\" x=\"149.921\" y=\"382.304\">0.02</text>\n",
       "</g>\n",
       "<g clip-path=\"url(#clip00)\">\n",
       "<text style=\"fill:#00002d; fill-opacity:1; font-family:Arial,Helvetica Neue,Helvetica,sans-serif; font-size:12; text-anchor:middle;\" transform=\"rotate(0, 260.472, 382.304)\" x=\"260.472\" y=\"382.304\">0.04</text>\n",
       "</g>\n",
       "<g clip-path=\"url(#clip00)\">\n",
       "<text style=\"fill:#00002d; fill-opacity:1; font-family:Arial,Helvetica Neue,Helvetica,sans-serif; font-size:12; text-anchor:middle;\" transform=\"rotate(0, 371.024, 382.304)\" x=\"371.024\" y=\"382.304\">0.06</text>\n",
       "</g>\n",
       "<g clip-path=\"url(#clip00)\">\n",
       "<text style=\"fill:#00002d; fill-opacity:1; font-family:Arial,Helvetica Neue,Helvetica,sans-serif; font-size:12; text-anchor:middle;\" transform=\"rotate(0, 481.575, 382.304)\" x=\"481.575\" y=\"382.304\">0.08</text>\n",
       "</g>\n",
       "<g clip-path=\"url(#clip00)\">\n",
       "<text style=\"fill:#00002d; fill-opacity:1; font-family:Arial,Helvetica Neue,Helvetica,sans-serif; font-size:12; text-anchor:middle;\" transform=\"rotate(0, 592.126, 382.304)\" x=\"592.126\" y=\"382.304\">0.10</text>\n",
       "</g>\n",
       "<g clip-path=\"url(#clip00)\">\n",
       "<text style=\"fill:#00002d; fill-opacity:1; font-family:Arial,Helvetica Neue,Helvetica,sans-serif; font-size:12; text-anchor:end;\" transform=\"rotate(0, 33.3701, 307.876)\" x=\"33.3701\" y=\"307.876\">0.05</text>\n",
       "</g>\n",
       "<g clip-path=\"url(#clip00)\">\n",
       "<text style=\"fill:#00002d; fill-opacity:1; font-family:Arial,Helvetica Neue,Helvetica,sans-serif; font-size:12; text-anchor:end;\" transform=\"rotate(0, 33.3701, 211.381)\" x=\"33.3701\" y=\"211.381\">0.10</text>\n",
       "</g>\n",
       "<g clip-path=\"url(#clip00)\">\n",
       "<text style=\"fill:#00002d; fill-opacity:1; font-family:Arial,Helvetica Neue,Helvetica,sans-serif; font-size:12; text-anchor:end;\" transform=\"rotate(0, 33.3701, 114.886)\" x=\"33.3701\" y=\"114.886\">0.15</text>\n",
       "</g>\n",
       "<g clip-path=\"url(#clip00)\">\n",
       "<text style=\"fill:#00002d; fill-opacity:1; font-family:Arial,Helvetica Neue,Helvetica,sans-serif; font-size:12; text-anchor:end;\" transform=\"rotate(0, 33.3701, 18.3908)\" x=\"33.3701\" y=\"18.3908\">0.20</text>\n",
       "</g>\n",
       "<polyline clip-path=\"url(#clip02)\" style=\"stroke:#0099ff; stroke-width:0.8; stroke-opacity:1; fill:none\" points=\"\n",
       "  39.3701,368.504 94.6457,309.531 149.921,212.649 205.197,252.735 260.472,232.284 315.748,240.989 371.024,136.903 426.299,114.872 481.575,7.87402 536.85,91.1938 \n",
       "  592.126,51.8281 \n",
       "  \"/>\n",
       "<polygon clip-path=\"url(#clip00)\" points=\"\n",
       "501.61,58.994 574.126,58.994 574.126,28.754 501.61,28.754 \n",
       "  \" fill=\"#ffffff\" fill-opacity=\"1\"/>\n",
       "<polyline clip-path=\"url(#clip00)\" style=\"stroke:#00002d; stroke-width:0.8; stroke-opacity:1; fill:none\" points=\"\n",
       "  501.61,58.994 574.126,58.994 574.126,28.754 501.61,28.754 501.61,58.994 \n",
       "  \"/>\n",
       "<polyline clip-path=\"url(#clip00)\" style=\"stroke:#0099ff; stroke-width:0.8; stroke-opacity:1; fill:none\" points=\"\n",
       "  507.61,43.874 543.61,43.874 \n",
       "  \"/>\n",
       "<g clip-path=\"url(#clip00)\">\n",
       "<text style=\"fill:#00002d; fill-opacity:1; font-family:Arial,Helvetica Neue,Helvetica,sans-serif; font-size:12; text-anchor:start;\" transform=\"rotate(0, 549.61, 48.374)\" x=\"549.61\" y=\"48.374\">y1</text>\n",
       "</g>\n",
       "</svg>\n"
      ]
     },
     "execution_count": 24,
     "metadata": {
      "comm_id": "a5f12538-394b-441e-8c9a-4bf4665eeb4b",
      "reactive": true
     },
     "output_type": "execute_result"
    },
    {
     "name": "stdout",
     "output_type": "stream",
     "text": [
      "best\n",
      "best\n",
      "best\n",
      "best\n",
      "best\n",
      "best\n",
      "best\n",
      "best\n",
      "best\n",
      "best\n",
      "best\n",
      "best\n",
      "best\n",
      "best\n",
      "best\n",
      "best\n",
      "best\n",
      "best\n",
      "best\n",
      "best\n",
      "best\n",
      "best\n",
      "best\n",
      "best\n",
      "best\n",
      "best\n",
      "best\n",
      "best\n",
      "best\n",
      "best\n",
      "best\n",
      "best\n",
      "best\n",
      "best\n",
      "best\n",
      "best\n",
      "best\n",
      "best\n",
      "best\n",
      "best\n",
      "best\n",
      "best\n",
      "best\n",
      "best\n",
      "best\n",
      "best\n",
      "best\n",
      "best\n",
      "best\n",
      "best\n",
      "best\n",
      "best\n",
      "best\n",
      "best\n",
      "best\n",
      "best\n",
      "best\n",
      "best\n",
      "best\n",
      "best\n",
      "best\n",
      "best\n",
      "best\n",
      "best\n",
      "best\n",
      "best\n",
      "best\n",
      "best\n",
      "best\n",
      "best\n",
      "best\n",
      "best\n",
      "best\n",
      "best\n",
      "best\n",
      "best\n",
      "best\n",
      "best\n",
      "best\n",
      "best\n",
      "best\n",
      "best\n",
      "best\n",
      "best\n",
      "best\n",
      "best\n",
      "best\n",
      "best\n",
      "best\n",
      "best\n",
      "best\n",
      "best\n",
      "best\n",
      "best\n",
      "best\n",
      "best\n",
      "best\n",
      "best\n",
      "best\n",
      "best\n",
      "best\n",
      "best\n",
      "best\n"
     ]
    }
   ],
   "source": [
    "@manipulate for dec=0.:0.01:1\n",
    "#     plot(int,rnd)    \n",
    "    plot(int,smooth(rnd,dec))\n",
    "end"
   ]
  },
  {
   "cell_type": "code",
   "execution_count": 48,
   "metadata": {
    "collapsed": false
   },
   "outputs": [
    {
     "name": "stderr",
     "output_type": "stream",
     "text": [
      "WARNING: Method definition smooth(Any, Any) in module Main at In[42]:1 overwritten at In[48]:1.\n"
     ]
    },
    {
     "data": {
      "text/plain": [
       "smooth (generic function with 1 method)"
      ]
     },
     "execution_count": 48,
     "metadata": {},
     "output_type": "execute_result"
    }
   ],
   "source": []
  },
  {
   "cell_type": "code",
   "execution_count": 25,
   "metadata": {
    "collapsed": false
   },
   "outputs": [
    {
     "data": {
      "text/plain": [
       "0.09983341664682815"
      ]
     },
     "execution_count": 25,
     "metadata": {},
     "output_type": "execute_result"
    }
   ],
   "source": [
    "sin(0.1)"
   ]
  },
  {
   "cell_type": "code",
   "execution_count": 29,
   "metadata": {
    "collapsed": false
   },
   "outputs": [
    {
     "data": {
      "text/plain": [
       "3.8"
      ]
     },
     "execution_count": 29,
     "metadata": {},
     "output_type": "execute_result"
    }
   ],
   "source": [
    "(x->rema!(a,x))(5.)"
   ]
  },
  {
   "cell_type": "code",
   "execution_count": 10,
   "metadata": {
    "collapsed": false
   },
   "outputs": [
    {
     "data": {
      "text/plain": [
       "4-element Array{Float64,1}:\n",
       "   1.0  \n",
       "  12.9  \n",
       "  43.61 \n",
       " 360.249"
      ]
     },
     "execution_count": 10,
     "metadata": {},
     "output_type": "execute_result"
    }
   ],
   "source": [
    "smooth([1,12.,32,321],0.1)"
   ]
  },
  {
   "cell_type": "code",
   "execution_count": 37,
   "metadata": {
    "collapsed": false
   },
   "outputs": [
    {
     "data": {
      "text/plain": [
       "30×30×30 Array{Float64,3}:\n",
       "[:, :, 1] =\n",
       "  2.84234    2.73791    -1.33823   …  -1.82963   10.0942    -3.23724  \n",
       " -2.3071    -4.72202    -1.77567      -4.45897    5.37238    6.77418  \n",
       " -4.92693   -0.404261   -6.09005      -1.67537   -7.32463   -1.23421  \n",
       " -0.555088  -2.15065     1.46163      -3.4045    -1.54409    0.773863 \n",
       " -3.3578    -0.405063   -5.08564       7.06363    1.30526    5.58753  \n",
       " -2.27707   -2.65706    -0.890614  …  -2.62123   -0.249389  -1.14534  \n",
       "  4.56588    1.2955     -0.926548     -1.08127   -0.14448   -1.3951   \n",
       "  6.02267    3.93367     8.81481      -4.25724    4.51523   -1.23347  \n",
       "  2.63732   -0.827145    0.783878      2.56394    1.20021   -1.64063  \n",
       " -0.975586   0.412053    0.975754      0.696972   7.93264   -1.2826   \n",
       " -2.6741    -6.10674     6.28816   …  -0.410478   3.51319    4.76971  \n",
       "  1.25029    0.339257   -0.508266      6.0019     2.92308    2.08534  \n",
       " -2.72203   -7.62906    -0.703179     -3.26281   -1.25235   -3.01433  \n",
       "  ⋮                                ⋱                                  \n",
       " -0.420561   1.49193    -1.57716      -1.83969    2.94257   -0.600377 \n",
       " -2.46549    0.0705859  -8.27828       3.33281    1.1253     2.05765  \n",
       " -2.78518   -1.49484     6.41438   …  -3.6143     4.08365   -7.23273  \n",
       "  1.18448    0.266596   -3.35553      -5.22222   -1.12998   -0.266106 \n",
       "  3.76145    3.61286     4.90662       1.44875    2.29215   -0.179326 \n",
       "  1.91724    2.75806     2.27217      -3.31685    3.46093    2.60282  \n",
       " -2.54014   -4.83606     0.441522     -1.20658   -4.87451   -2.84321  \n",
       " -2.68962   -3.41591     0.312001  …  -4.01747    4.15304    0.110228 \n",
       "  0.497715   2.18802    -0.520568     -1.44354   -0.801715   6.12505  \n",
       " -1.47118   -0.431099   -6.29953      -0.659464  -2.16172   -7.28324  \n",
       " -0.178403   0.873779    2.96778      -0.940271  -1.21337   -0.0847494\n",
       " -3.42901   -3.37678    -1.61724       2.56531    0.975475   2.62352  \n",
       "\n",
       "[:, :, 2] =\n",
       "  -1.86056    2.33148   -5.87499     …   -8.05776    10.4169     0.440868\n",
       "  -3.57779   -6.12542   -2.10904         -5.27838    -6.85176   -0.120687\n",
       " -11.0523    -2.46312   -0.943624         1.84365     2.52921   -2.81428 \n",
       "   4.58686   -0.772093  -0.00206478      -4.41331    -6.42749    7.44037 \n",
       "  -4.71091   -0.464878   3.69677         -2.94526     1.92187   -2.07069 \n",
       "  13.2815     4.32996    3.44929     …   -1.36173    -9.94343   -3.3829  \n",
       "  12.9396     7.32977   -1.47972         -7.45274     6.36519   -2.40293 \n",
       "   5.79278    6.68178    6.65511         -2.34107    -2.68017    0.098094\n",
       "   7.96153    8.52825   -5.19923          0.89016    11.6141     1.26225 \n",
       "  -8.5507    -1.50307    1.72098         -4.6578      1.49596    1.83533 \n",
       "   2.34486   -0.101788  -1.82641     …    1.30801     6.44604    3.3358  \n",
       "  -7.17427   -6.27326    1.37035         -8.19882     1.83373    4.59087 \n",
       "   9.24467    2.44418   -4.52905         -1.23034     3.62296    1.28631 \n",
       "   ⋮                                 ⋱                                   \n",
       " -15.5022    -7.07013   -4.19708         -3.76894    -3.66236    4.42832 \n",
       "   4.07148    0.941598   0.127534        -2.01448    -3.11287   -2.65144 \n",
       "  -8.84961   -6.39531    1.90023     …   -1.09665     3.38455   -3.38043 \n",
       "   1.04755    5.49305   -1.40376         -4.78677    -7.69265   -1.40368 \n",
       "  -6.10069   -7.90769    8.25423        -10.7903     -3.19571   -8.25375 \n",
       "   5.58881    4.81948   -4.98764          2.3038      6.18741   14.3753  \n",
       "   0.65977   -4.48124    5.62042        -11.3935    -15.3711   -10.7203  \n",
       "   3.01932    0.67221    3.56465     …    3.18639     5.06978    9.43061 \n",
       "  -5.57023   -8.63477   -2.57042         -1.96473    -7.02492   -1.39387 \n",
       "   2.78501    5.2303    -2.31589          0.277371    9.30221   -1.05973 \n",
       "   0.911999  -6.50117    3.07465         -1.00604    -6.70848    0.703764\n",
       "  -0.292147  -6.11993   -3.66176          2.38353    -1.60613   -4.88509 \n",
       "\n",
       "[:, :, 3] =\n",
       "  -1.18326    -1.35783   -0.0282054  …   3.56663    -1.58093     2.99671 \n",
       "  -1.17284    -4.46592   -1.01905       12.4836      1.91291    -6.52934 \n",
       "  -7.82217    -8.79752   -5.36878       -3.7532     -5.47833     8.75465 \n",
       "  -1.65625     0.549547   9.47027        2.21781    -4.66367    -5.58841 \n",
       "   1.58996    -3.67827   -3.55896       -2.39343     6.30252    10.902   \n",
       "  -7.50293    -0.33923    8.3613     …   3.19514     4.39423     6.612   \n",
       "  -8.95701    -2.75535    0.252308       0.446038   -1.5139      3.05951 \n",
       "  -1.63992    -1.48532   -1.5294        -0.601284    4.60431    -2.83307 \n",
       "  -3.58456    -5.11841    1.68971        6.33863     3.42358     1.78871 \n",
       "   6.34283    -1.3018     0.303301      -1.13101    -6.42654    -8.90907 \n",
       "  -7.38592    -1.78365   -3.2069     …   5.56553     5.52294     3.09524 \n",
       "   6.83414     1.2207     4.99931        5.25173     1.42068    -4.37552 \n",
       "  -4.69245     1.83468   -6.98357       -4.34876    -2.87627   -10.136   \n",
       "   ⋮                                 ⋱                                   \n",
       "  -2.15068     0.183673  -6.0757         0.161617    0.537266    0.567991\n",
       "   0.0816885  -4.96394   -3.82526        0.708428    1.24068    -0.655752\n",
       "  -0.0545632   4.93705   -9.13197    …  -3.8381     -4.21421     3.29591 \n",
       "  -0.176829    4.22117    6.11706        8.75427     5.55296    -1.89488 \n",
       "   7.82266     1.19672   -2.11716       11.9308      0.829204   -6.41487 \n",
       "  -2.3236     -0.685239   8.10262       -4.54017    -1.01931     4.01614 \n",
       "   5.15965    -6.31848    1.20626        5.36214    -1.6058     -8.82494 \n",
       "  -7.00041    -6.91351   -5.05802    …   3.2806     -3.67888    -2.37475 \n",
       "   3.94988     6.46111    0.549043       0.897652   -4.73906    -3.05771 \n",
       " -13.8693     -5.02065   -7.35647       -1.46263     3.96693    -6.50883 \n",
       "   5.62422     3.24933   -2.35239        3.72697   -11.0482     -1.65813 \n",
       " -10.6712     -6.34021   -2.26842        8.64342     3.66747     5.72098 \n",
       "\n",
       "...\n",
       "\n",
       "[:, :, 28] =\n",
       " -2.06599    1.47914     3.21227   …   5.2523     -6.32119    0.177996\n",
       "  0.360453  -3.22797     1.49786       2.33868     2.96452   -5.87134 \n",
       "  3.56324    4.09571    -0.413812      0.305205   -4.73411    0.48418 \n",
       "  8.29904    3.32834    -2.05083       1.31403     3.75453    6.56825 \n",
       " -0.92028   -4.83609     6.09603       8.07465    -3.28499    0.770367\n",
       "  3.35431    6.05066     4.92372   …   4.20898    -1.44127   10.97    \n",
       " -2.65958   -8.0107     -8.51889      13.0852     -1.12488   -1.18139 \n",
       " -6.54105    3.25112     9.65074      -0.0839492  -6.35771    4.95149 \n",
       "  2.40124    6.40355    -0.01905      14.0836      9.9494    -0.120807\n",
       "  3.93847    3.57712    -3.12741      -5.76637    -0.657486   4.16145 \n",
       " -1.13694    2.97966     7.27471   …   6.07849     2.20283    1.50738 \n",
       "  9.31725    4.06281    -1.87244      -5.65809    -1.97747   -3.96763 \n",
       "  5.42876    9.39858     4.18056       6.05308    16.5521     2.90775 \n",
       "  ⋮                                ⋱                                  \n",
       "  0.956308   5.69453     4.09829      -5.84654     2.11469    6.63173 \n",
       "  2.73671    9.16017     6.85729      -5.00008    -4.50455    1.88188 \n",
       " -0.719355  -4.98517    -7.20139   …  -6.82617    11.3386     3.33094 \n",
       " -3.39695    3.3795      0.23135       6.1774     -1.597      0.756951\n",
       " -4.72728   -3.78035     6.62823       0.128357    9.18532    5.88512 \n",
       " -6.546      0.690927    1.61971      -1.27015     3.5316    -1.16004 \n",
       "  2.83424    1.12405    -1.41873      -5.63454    -1.09333    4.25305 \n",
       " -3.64743    2.19157     5.52199   …  -3.75073     1.77013   -1.81786 \n",
       " -3.44468   -7.38464    -7.77277      -3.77612     1.94122   -0.505919\n",
       " 11.3909    -1.98882   -15.6573       -0.420223    6.52018    3.90178 \n",
       " -4.45247   -2.4733     -6.67526      -5.27674    -4.65438   -2.53309 \n",
       " -0.640703  -0.765478   -6.39366       4.1328      3.96209    2.30736 \n",
       "\n",
       "[:, :, 29] =\n",
       "  -2.84565    -7.311        2.301     …    0.124393   -5.81758    -0.281831\n",
       "   3.18196     0.0292555   -2.783         -3.90389    -4.55181    -1.14806 \n",
       "  -8.04147    -6.8892      -1.11758       -3.69841     2.28437    -6.32099 \n",
       "  -8.53367    -7.21576      1.77402       -4.43817   -10.4783     -5.99144 \n",
       "   5.76394    -3.45951    -11.2477        -3.23001     9.56548    -3.88965 \n",
       "  -6.07899    -4.35541      0.213676  …   -0.584417   -4.62695     2.03164 \n",
       "  11.7254      6.1942      -0.351815      -3.28326     1.91096    -0.915925\n",
       "  -1.66908    -4.49407     -8.21412       -0.51952    -3.54393   -15.3097  \n",
       "   2.80582     2.61443      0.202651      -2.33932     2.48287    -1.08902 \n",
       "   2.45271     6.48015     -3.40568        5.06985     5.83947    -2.79808 \n",
       " -18.0078    -11.9582     -12.0072    …  -10.6697     -7.21065    -6.95828 \n",
       "  -9.06651     2.41224     -1.31235       -4.38329   -10.5979     -7.03213 \n",
       " -11.0976     -5.37841     -5.56758       -4.41848    -0.725839   -4.02499 \n",
       "   ⋮                                  ⋱                                    \n",
       "  -5.15773    -9.61078     -0.474481       6.00496    -1.53136    -3.88119 \n",
       "   5.47961     2.822        1.17416        2.92958    -0.659379    3.68152 \n",
       "   7.09302     0.169827    -4.4981    …   -8.20344    -1.51521    -6.95025 \n",
       "  -2.08701     0.560568     3.91289       -0.388454   -6.35831    -0.808137\n",
       "   5.35387    -1.09422     -4.32813        1.05891     4.05191     0.808931\n",
       "  -0.564107   -4.86594     -9.20162       -3.20289    -0.242159    2.81016 \n",
       "  -0.795187    6.33692      6.95712        5.80475     3.34256    -2.57153 \n",
       "   1.3561      2.73501      5.67417   …    3.28029    -3.87489     1.65408 \n",
       "  -2.7284      5.19507     -2.84646        4.07774     3.3981      1.64224 \n",
       "   0.204885    9.55236      4.73871       -7.60253    -9.91486    -0.597373\n",
       "  -6.01374     0.23727      0.679676      -1.20972     0.386673   -6.31863 \n",
       "  -4.85492    -3.80088     -6.37378       -2.59686    -2.50334     2.92357 \n",
       "\n",
       "[:, :, 30] =\n",
       "  5.61238   -0.853907    0.809704   …  -1.12293    6.14985    5.85724   \n",
       " -1.36576    0.716096    1.47815        1.12207    4.23417    8.89821   \n",
       "  6.70986   -1.11071     0.737872       2.03128    1.1736    -3.91534   \n",
       "  1.66773    0.359913    1.43231        6.36966    5.20165    0.20567   \n",
       "  0.366864   4.9141     -1.44236       -1.14119    4.15272   -6.41791   \n",
       " -2.1814    -4.91706     2.03973    …  -2.58704   -0.23263    4.37259   \n",
       " -5.92042   -1.60171     3.83626        4.8458     5.68943    3.14143   \n",
       " -3.18084   -3.73775    -1.12015       -1.78046    0.491034   0.98364   \n",
       " -8.25885   -2.01679     4.82878       -0.745839   5.45488    0.522951  \n",
       " -7.03894   -8.56717   -13.3727         4.00584    7.84477    4.23913   \n",
       "  3.0968     5.01512     0.699031   …  -3.20333   -2.81798   -5.49235   \n",
       " -4.34769   -4.83494    -4.41929        7.33377    4.96842    1.61595   \n",
       " 17.3874    16.9341     15.0491         4.52648    1.56523   -0.00469423\n",
       "  ⋮                                 ⋱                                   \n",
       " 10.4778     3.56021    -0.790914       2.68521    4.74027   10.178     \n",
       " -8.2551    -0.315873    2.07675        3.30228    3.56135   -3.24756   \n",
       "  1.44946   -2.05221    -2.38816    …   6.33499    4.90096    2.03769   \n",
       " -1.59961    0.174486    0.426503       4.4849    -0.300023  -0.361649  \n",
       "  0.715667  -1.52676    -3.84995       -9.5307     0.582628   2.81076   \n",
       "  5.58805    5.7902      2.17438       -2.00863   -5.56749    0.31673   \n",
       "  4.19085   -2.00004     0.0225887     -7.07082   10.6614     5.031     \n",
       "  2.20282    4.48976     2.32947    …   1.35987   -6.1941    -6.70092   \n",
       " 11.115      6.18711   -10.0204        -5.36726    1.80316    1.91402   \n",
       " -1.85363    0.749955   -1.0053         7.69556   -0.226672  -2.18582   \n",
       "  0.532696  -1.2083     -1.80299       -4.71345   -0.666506  -0.637377  \n",
       " -6.99346   -2.27758     4.52342        6.74086   -0.922008  -5.62014   "
      ]
     },
     "execution_count": 37,
     "metadata": {},
     "output_type": "execute_result"
    }
   ],
   "source": [
    "imfilter(randn(30,30,30),centered(randn(3,3,3)))"
   ]
  },
  {
   "cell_type": "code",
   "execution_count": null,
   "metadata": {
    "collapsed": false
   },
   "outputs": [],
   "source": []
  },
  {
   "cell_type": "code",
   "execution_count": 33,
   "metadata": {
    "collapsed": false
   },
   "outputs": [
    {
     "data": {
      "image/svg+xml": [
       "<?xml version=\"1.0\" encoding=\"UTF-8\"?>\n",
       "<!DOCTYPE svg PUBLIC \"-//W3C//DTD SVG 1.1//EN\"\n",
       " \"http://www.w3.org/Graphics/SVG/1.1/DTD/svg11.dtd\">\n",
       "<svg xmlns=\"http://www.w3.org/2000/svg\" version=\"1.1\"\n",
       "     width=\"250.0mm\" height=\"25.0mm\"\n",
       "     shape-rendering=\"crispEdges\">\n",
       "<rect x=\"0.0mm\" y=\"0.0mm\"\n",
       "      width=\"0.9803921568627451mm\" height=\"25.0mm\"\n",
       "      fill=\"#FFFBF6\" stroke=\"none\" />\n",
       "<rect x=\"0.9803921568627451mm\" y=\"0.0mm\"\n",
       "      width=\"0.9803921568627451mm\" height=\"25.0mm\"\n",
       "      fill=\"#FFFBF5\" stroke=\"none\" />\n",
       "<rect x=\"1.9607843137254901mm\" y=\"0.0mm\"\n",
       "      width=\"0.9803921568627451mm\" height=\"25.0mm\"\n",
       "      fill=\"#FFFAF4\" stroke=\"none\" />\n",
       "<rect x=\"2.941176470588235mm\" y=\"0.0mm\"\n",
       "      width=\"0.9803921568627451mm\" height=\"25.0mm\"\n",
       "      fill=\"#FFFAF3\" stroke=\"none\" />\n",
       "<rect x=\"3.9215686274509802mm\" y=\"0.0mm\"\n",
       "      width=\"0.9803921568627451mm\" height=\"25.0mm\"\n",
       "      fill=\"#FFF9F3\" stroke=\"none\" />\n",
       "<rect x=\"4.901960784313725mm\" y=\"0.0mm\"\n",
       "      width=\"0.9803921568627451mm\" height=\"25.0mm\"\n",
       "      fill=\"#FFF9F2\" stroke=\"none\" />\n",
       "<rect x=\"5.88235294117647mm\" y=\"0.0mm\"\n",
       "      width=\"0.9803921568627451mm\" height=\"25.0mm\"\n",
       "      fill=\"#FFF8F1\" stroke=\"none\" />\n",
       "<rect x=\"6.862745098039215mm\" y=\"0.0mm\"\n",
       "      width=\"0.9803921568627451mm\" height=\"25.0mm\"\n",
       "      fill=\"#FFF8F0\" stroke=\"none\" />\n",
       "<rect x=\"7.8431372549019605mm\" y=\"0.0mm\"\n",
       "      width=\"0.9803921568627451mm\" height=\"25.0mm\"\n",
       "      fill=\"#FFF7EF\" stroke=\"none\" />\n",
       "<rect x=\"8.823529411764705mm\" y=\"0.0mm\"\n",
       "      width=\"0.9803921568627451mm\" height=\"25.0mm\"\n",
       "      fill=\"#FFF7EE\" stroke=\"none\" />\n",
       "<rect x=\"9.80392156862745mm\" y=\"0.0mm\"\n",
       "      width=\"0.9803921568627451mm\" height=\"25.0mm\"\n",
       "      fill=\"#FFF6ED\" stroke=\"none\" />\n",
       "<rect x=\"10.784313725490195mm\" y=\"0.0mm\"\n",
       "      width=\"0.9803921568627451mm\" height=\"25.0mm\"\n",
       "      fill=\"#FFF6EC\" stroke=\"none\" />\n",
       "<rect x=\"11.76470588235294mm\" y=\"0.0mm\"\n",
       "      width=\"0.9803921568627451mm\" height=\"25.0mm\"\n",
       "      fill=\"#FFF5EB\" stroke=\"none\" />\n",
       "<rect x=\"12.745098039215685mm\" y=\"0.0mm\"\n",
       "      width=\"0.9803921568627451mm\" height=\"25.0mm\"\n",
       "      fill=\"#FFF5EA\" stroke=\"none\" />\n",
       "<rect x=\"13.72549019607843mm\" y=\"0.0mm\"\n",
       "      width=\"0.9803921568627451mm\" height=\"25.0mm\"\n",
       "      fill=\"#FFF4E9\" stroke=\"none\" />\n",
       "<rect x=\"14.705882352941176mm\" y=\"0.0mm\"\n",
       "      width=\"0.9803921568627451mm\" height=\"25.0mm\"\n",
       "      fill=\"#FFF4E8\" stroke=\"none\" />\n",
       "<rect x=\"15.686274509803921mm\" y=\"0.0mm\"\n",
       "      width=\"0.9803921568627451mm\" height=\"25.0mm\"\n",
       "      fill=\"#FFF3E7\" stroke=\"none\" />\n",
       "<rect x=\"16.666666666666664mm\" y=\"0.0mm\"\n",
       "      width=\"0.9803921568627451mm\" height=\"25.0mm\"\n",
       "      fill=\"#FFF3E6\" stroke=\"none\" />\n",
       "<rect x=\"17.64705882352941mm\" y=\"0.0mm\"\n",
       "      width=\"0.9803921568627451mm\" height=\"25.0mm\"\n",
       "      fill=\"#FFF2E5\" stroke=\"none\" />\n",
       "<rect x=\"18.627450980392155mm\" y=\"0.0mm\"\n",
       "      width=\"0.9803921568627451mm\" height=\"25.0mm\"\n",
       "      fill=\"#FFF2E4\" stroke=\"none\" />\n",
       "<rect x=\"19.6078431372549mm\" y=\"0.0mm\"\n",
       "      width=\"0.9803921568627451mm\" height=\"25.0mm\"\n",
       "      fill=\"#FFF1E3\" stroke=\"none\" />\n",
       "<rect x=\"20.588235294117645mm\" y=\"0.0mm\"\n",
       "      width=\"0.9803921568627451mm\" height=\"25.0mm\"\n",
       "      fill=\"#FFF1E2\" stroke=\"none\" />\n",
       "<rect x=\"21.56862745098039mm\" y=\"0.0mm\"\n",
       "      width=\"0.9803921568627451mm\" height=\"25.0mm\"\n",
       "      fill=\"#FFF0E1\" stroke=\"none\" />\n",
       "<rect x=\"22.549019607843135mm\" y=\"0.0mm\"\n",
       "      width=\"0.9803921568627451mm\" height=\"25.0mm\"\n",
       "      fill=\"#FFEFE0\" stroke=\"none\" />\n",
       "<rect x=\"23.52941176470588mm\" y=\"0.0mm\"\n",
       "      width=\"0.9803921568627451mm\" height=\"25.0mm\"\n",
       "      fill=\"#FFEFDF\" stroke=\"none\" />\n",
       "<rect x=\"24.509803921568626mm\" y=\"0.0mm\"\n",
       "      width=\"0.9803921568627451mm\" height=\"25.0mm\"\n",
       "      fill=\"#FFEEDE\" stroke=\"none\" />\n",
       "<rect x=\"25.49019607843137mm\" y=\"0.0mm\"\n",
       "      width=\"0.9803921568627451mm\" height=\"25.0mm\"\n",
       "      fill=\"#FFEEDD\" stroke=\"none\" />\n",
       "<rect x=\"26.470588235294116mm\" y=\"0.0mm\"\n",
       "      width=\"0.9803921568627451mm\" height=\"25.0mm\"\n",
       "      fill=\"#FFEDDC\" stroke=\"none\" />\n",
       "<rect x=\"27.45098039215686mm\" y=\"0.0mm\"\n",
       "      width=\"0.9803921568627451mm\" height=\"25.0mm\"\n",
       "      fill=\"#FFEDDB\" stroke=\"none\" />\n",
       "<rect x=\"28.431372549019606mm\" y=\"0.0mm\"\n",
       "      width=\"0.9803921568627451mm\" height=\"25.0mm\"\n",
       "      fill=\"#FFECDA\" stroke=\"none\" />\n",
       "<rect x=\"29.41176470588235mm\" y=\"0.0mm\"\n",
       "      width=\"0.9803921568627451mm\" height=\"25.0mm\"\n",
       "      fill=\"#FFECD9\" stroke=\"none\" />\n",
       "<rect x=\"30.392156862745097mm\" y=\"0.0mm\"\n",
       "      width=\"0.9803921568627451mm\" height=\"25.0mm\"\n",
       "      fill=\"#FFEBD8\" stroke=\"none\" />\n",
       "<rect x=\"31.372549019607842mm\" y=\"0.0mm\"\n",
       "      width=\"0.9803921568627451mm\" height=\"25.0mm\"\n",
       "      fill=\"#FFEAD7\" stroke=\"none\" />\n",
       "<rect x=\"32.35294117647059mm\" y=\"0.0mm\"\n",
       "      width=\"0.9803921568627451mm\" height=\"25.0mm\"\n",
       "      fill=\"#FFEAD6\" stroke=\"none\" />\n",
       "<rect x=\"33.33333333333333mm\" y=\"0.0mm\"\n",
       "      width=\"0.9803921568627451mm\" height=\"25.0mm\"\n",
       "      fill=\"#FFE9D5\" stroke=\"none\" />\n",
       "<rect x=\"34.31372549019608mm\" y=\"0.0mm\"\n",
       "      width=\"0.9803921568627451mm\" height=\"25.0mm\"\n",
       "      fill=\"#FFE9D4\" stroke=\"none\" />\n",
       "<rect x=\"35.29411764705882mm\" y=\"0.0mm\"\n",
       "      width=\"0.9803921568627451mm\" height=\"25.0mm\"\n",
       "      fill=\"#FFE8D3\" stroke=\"none\" />\n",
       "<rect x=\"36.27450980392157mm\" y=\"0.0mm\"\n",
       "      width=\"0.9803921568627451mm\" height=\"25.0mm\"\n",
       "      fill=\"#FFE7D2\" stroke=\"none\" />\n",
       "<rect x=\"37.25490196078431mm\" y=\"0.0mm\"\n",
       "      width=\"0.9803921568627451mm\" height=\"25.0mm\"\n",
       "      fill=\"#FFE7D1\" stroke=\"none\" />\n",
       "<rect x=\"38.23529411764706mm\" y=\"0.0mm\"\n",
       "      width=\"0.9803921568627451mm\" height=\"25.0mm\"\n",
       "      fill=\"#FFE6D0\" stroke=\"none\" />\n",
       "<rect x=\"39.2156862745098mm\" y=\"0.0mm\"\n",
       "      width=\"0.9803921568627451mm\" height=\"25.0mm\"\n",
       "      fill=\"#FFE6CF\" stroke=\"none\" />\n",
       "<rect x=\"40.19607843137255mm\" y=\"0.0mm\"\n",
       "      width=\"0.9803921568627451mm\" height=\"25.0mm\"\n",
       "      fill=\"#FFE5CD\" stroke=\"none\" />\n",
       "<rect x=\"41.17647058823529mm\" y=\"0.0mm\"\n",
       "      width=\"0.9803921568627451mm\" height=\"25.0mm\"\n",
       "      fill=\"#FFE4CC\" stroke=\"none\" />\n",
       "<rect x=\"42.15686274509804mm\" y=\"0.0mm\"\n",
       "      width=\"0.9803921568627451mm\" height=\"25.0mm\"\n",
       "      fill=\"#FFE4CB\" stroke=\"none\" />\n",
       "<rect x=\"43.13725490196078mm\" y=\"0.0mm\"\n",
       "      width=\"0.9803921568627451mm\" height=\"25.0mm\"\n",
       "      fill=\"#FFE3CA\" stroke=\"none\" />\n",
       "<rect x=\"44.11764705882353mm\" y=\"0.0mm\"\n",
       "      width=\"0.9803921568627451mm\" height=\"25.0mm\"\n",
       "      fill=\"#FFE2C9\" stroke=\"none\" />\n",
       "<rect x=\"45.09803921568627mm\" y=\"0.0mm\"\n",
       "      width=\"0.9803921568627451mm\" height=\"25.0mm\"\n",
       "      fill=\"#FFE2C8\" stroke=\"none\" />\n",
       "<rect x=\"46.07843137254902mm\" y=\"0.0mm\"\n",
       "      width=\"0.9803921568627451mm\" height=\"25.0mm\"\n",
       "      fill=\"#FFE1C7\" stroke=\"none\" />\n",
       "<rect x=\"47.05882352941176mm\" y=\"0.0mm\"\n",
       "      width=\"0.9803921568627451mm\" height=\"25.0mm\"\n",
       "      fill=\"#FFE1C6\" stroke=\"none\" />\n",
       "<rect x=\"48.03921568627451mm\" y=\"0.0mm\"\n",
       "      width=\"0.9803921568627451mm\" height=\"25.0mm\"\n",
       "      fill=\"#FFE0C5\" stroke=\"none\" />\n",
       "<rect x=\"49.01960784313725mm\" y=\"0.0mm\"\n",
       "      width=\"0.9803921568627451mm\" height=\"25.0mm\"\n",
       "      fill=\"#FFDFC4\" stroke=\"none\" />\n",
       "<rect x=\"50.0mm\" y=\"0.0mm\"\n",
       "      width=\"0.9803921568627451mm\" height=\"25.0mm\"\n",
       "      fill=\"#FFDFC2\" stroke=\"none\" />\n",
       "<rect x=\"50.98039215686274mm\" y=\"0.0mm\"\n",
       "      width=\"0.9803921568627451mm\" height=\"25.0mm\"\n",
       "      fill=\"#FFDEC1\" stroke=\"none\" />\n",
       "<rect x=\"51.96078431372549mm\" y=\"0.0mm\"\n",
       "      width=\"0.9803921568627451mm\" height=\"25.0mm\"\n",
       "      fill=\"#FFDDC0\" stroke=\"none\" />\n",
       "<rect x=\"52.94117647058823mm\" y=\"0.0mm\"\n",
       "      width=\"0.9803921568627451mm\" height=\"25.0mm\"\n",
       "      fill=\"#FFDDBF\" stroke=\"none\" />\n",
       "<rect x=\"53.92156862745098mm\" y=\"0.0mm\"\n",
       "      width=\"0.9803921568627451mm\" height=\"25.0mm\"\n",
       "      fill=\"#FFDCBE\" stroke=\"none\" />\n",
       "<rect x=\"54.90196078431372mm\" y=\"0.0mm\"\n",
       "      width=\"0.9803921568627451mm\" height=\"25.0mm\"\n",
       "      fill=\"#FFDBBD\" stroke=\"none\" />\n",
       "<rect x=\"55.88235294117647mm\" y=\"0.0mm\"\n",
       "      width=\"0.9803921568627451mm\" height=\"25.0mm\"\n",
       "      fill=\"#FFDBBC\" stroke=\"none\" />\n",
       "<rect x=\"56.86274509803921mm\" y=\"0.0mm\"\n",
       "      width=\"0.9803921568627451mm\" height=\"25.0mm\"\n",
       "      fill=\"#FFDABA\" stroke=\"none\" />\n",
       "<rect x=\"57.84313725490196mm\" y=\"0.0mm\"\n",
       "      width=\"0.9803921568627451mm\" height=\"25.0mm\"\n",
       "      fill=\"#FFD9B9\" stroke=\"none\" />\n",
       "<rect x=\"58.8235294117647mm\" y=\"0.0mm\"\n",
       "      width=\"0.9803921568627451mm\" height=\"25.0mm\"\n",
       "      fill=\"#FFD8B8\" stroke=\"none\" />\n",
       "<rect x=\"59.80392156862745mm\" y=\"0.0mm\"\n",
       "      width=\"0.9803921568627451mm\" height=\"25.0mm\"\n",
       "      fill=\"#FFD8B7\" stroke=\"none\" />\n",
       "<rect x=\"60.78431372549019mm\" y=\"0.0mm\"\n",
       "      width=\"0.9803921568627451mm\" height=\"25.0mm\"\n",
       "      fill=\"#FFD7B6\" stroke=\"none\" />\n",
       "<rect x=\"61.76470588235294mm\" y=\"0.0mm\"\n",
       "      width=\"0.9803921568627451mm\" height=\"25.0mm\"\n",
       "      fill=\"#FFD6B5\" stroke=\"none\" />\n",
       "<rect x=\"62.745098039215684mm\" y=\"0.0mm\"\n",
       "      width=\"0.9803921568627451mm\" height=\"25.0mm\"\n",
       "      fill=\"#FFD6B3\" stroke=\"none\" />\n",
       "<rect x=\"63.725490196078425mm\" y=\"0.0mm\"\n",
       "      width=\"0.9803921568627451mm\" height=\"25.0mm\"\n",
       "      fill=\"#FFD5B2\" stroke=\"none\" />\n",
       "<rect x=\"64.70588235294117mm\" y=\"0.0mm\"\n",
       "      width=\"0.9803921568627451mm\" height=\"25.0mm\"\n",
       "      fill=\"#FFD4B1\" stroke=\"none\" />\n",
       "<rect x=\"65.68627450980392mm\" y=\"0.0mm\"\n",
       "      width=\"0.9803921568627451mm\" height=\"25.0mm\"\n",
       "      fill=\"#FFD3B0\" stroke=\"none\" />\n",
       "<rect x=\"66.66666666666666mm\" y=\"0.0mm\"\n",
       "      width=\"0.9803921568627451mm\" height=\"25.0mm\"\n",
       "      fill=\"#FFD3AF\" stroke=\"none\" />\n",
       "<rect x=\"67.6470588235294mm\" y=\"0.0mm\"\n",
       "      width=\"0.9803921568627451mm\" height=\"25.0mm\"\n",
       "      fill=\"#FFD2AD\" stroke=\"none\" />\n",
       "<rect x=\"68.62745098039215mm\" y=\"0.0mm\"\n",
       "      width=\"0.9803921568627451mm\" height=\"25.0mm\"\n",
       "      fill=\"#FFD1AC\" stroke=\"none\" />\n",
       "<rect x=\"69.6078431372549mm\" y=\"0.0mm\"\n",
       "      width=\"0.9803921568627451mm\" height=\"25.0mm\"\n",
       "      fill=\"#FFD0AB\" stroke=\"none\" />\n",
       "<rect x=\"70.58823529411764mm\" y=\"0.0mm\"\n",
       "      width=\"0.9803921568627451mm\" height=\"25.0mm\"\n",
       "      fill=\"#FFD0AA\" stroke=\"none\" />\n",
       "<rect x=\"71.56862745098039mm\" y=\"0.0mm\"\n",
       "      width=\"0.9803921568627451mm\" height=\"25.0mm\"\n",
       "      fill=\"#FFCFA9\" stroke=\"none\" />\n",
       "<rect x=\"72.54901960784314mm\" y=\"0.0mm\"\n",
       "      width=\"0.9803921568627451mm\" height=\"25.0mm\"\n",
       "      fill=\"#FFCEA7\" stroke=\"none\" />\n",
       "<rect x=\"73.52941176470588mm\" y=\"0.0mm\"\n",
       "      width=\"0.9803921568627451mm\" height=\"25.0mm\"\n",
       "      fill=\"#FFCDA6\" stroke=\"none\" />\n",
       "<rect x=\"74.50980392156862mm\" y=\"0.0mm\"\n",
       "      width=\"0.9803921568627451mm\" height=\"25.0mm\"\n",
       "      fill=\"#FFCDA5\" stroke=\"none\" />\n",
       "<rect x=\"75.49019607843137mm\" y=\"0.0mm\"\n",
       "      width=\"0.9803921568627451mm\" height=\"25.0mm\"\n",
       "      fill=\"#FFCCA4\" stroke=\"none\" />\n",
       "<rect x=\"76.47058823529412mm\" y=\"0.0mm\"\n",
       "      width=\"0.9803921568627451mm\" height=\"25.0mm\"\n",
       "      fill=\"#FFCBA2\" stroke=\"none\" />\n",
       "<rect x=\"77.45098039215686mm\" y=\"0.0mm\"\n",
       "      width=\"0.9803921568627451mm\" height=\"25.0mm\"\n",
       "      fill=\"#FFCAA1\" stroke=\"none\" />\n",
       "<rect x=\"78.4313725490196mm\" y=\"0.0mm\"\n",
       "      width=\"0.9803921568627451mm\" height=\"25.0mm\"\n",
       "      fill=\"#FFC9A0\" stroke=\"none\" />\n",
       "<rect x=\"79.41176470588235mm\" y=\"0.0mm\"\n",
       "      width=\"0.9803921568627451mm\" height=\"25.0mm\"\n",
       "      fill=\"#FFC99F\" stroke=\"none\" />\n",
       "<rect x=\"80.3921568627451mm\" y=\"0.0mm\"\n",
       "      width=\"0.9803921568627451mm\" height=\"25.0mm\"\n",
       "      fill=\"#FFC89D\" stroke=\"none\" />\n",
       "<rect x=\"81.37254901960785mm\" y=\"0.0mm\"\n",
       "      width=\"0.9803921568627451mm\" height=\"25.0mm\"\n",
       "      fill=\"#FFC79C\" stroke=\"none\" />\n",
       "<rect x=\"82.35294117647058mm\" y=\"0.0mm\"\n",
       "      width=\"0.9803921568627451mm\" height=\"25.0mm\"\n",
       "      fill=\"#FFC69B\" stroke=\"none\" />\n",
       "<rect x=\"83.33333333333333mm\" y=\"0.0mm\"\n",
       "      width=\"0.9803921568627451mm\" height=\"25.0mm\"\n",
       "      fill=\"#FFC599\" stroke=\"none\" />\n",
       "<rect x=\"84.31372549019608mm\" y=\"0.0mm\"\n",
       "      width=\"0.9803921568627451mm\" height=\"25.0mm\"\n",
       "      fill=\"#FFC598\" stroke=\"none\" />\n",
       "<rect x=\"85.29411764705883mm\" y=\"0.0mm\"\n",
       "      width=\"0.9803921568627451mm\" height=\"25.0mm\"\n",
       "      fill=\"#FFC497\" stroke=\"none\" />\n",
       "<rect x=\"86.27450980392156mm\" y=\"0.0mm\"\n",
       "      width=\"0.9803921568627451mm\" height=\"25.0mm\"\n",
       "      fill=\"#FFC396\" stroke=\"none\" />\n",
       "<rect x=\"87.25490196078431mm\" y=\"0.0mm\"\n",
       "      width=\"0.9803921568627451mm\" height=\"25.0mm\"\n",
       "      fill=\"#FFC294\" stroke=\"none\" />\n",
       "<rect x=\"88.23529411764706mm\" y=\"0.0mm\"\n",
       "      width=\"0.9803921568627451mm\" height=\"25.0mm\"\n",
       "      fill=\"#FFC193\" stroke=\"none\" />\n",
       "<rect x=\"89.2156862745098mm\" y=\"0.0mm\"\n",
       "      width=\"0.9803921568627451mm\" height=\"25.0mm\"\n",
       "      fill=\"#FFC092\" stroke=\"none\" />\n",
       "<rect x=\"90.19607843137254mm\" y=\"0.0mm\"\n",
       "      width=\"0.9803921568627451mm\" height=\"25.0mm\"\n",
       "      fill=\"#FFBF90\" stroke=\"none\" />\n",
       "<rect x=\"91.17647058823529mm\" y=\"0.0mm\"\n",
       "      width=\"0.9803921568627451mm\" height=\"25.0mm\"\n",
       "      fill=\"#FFBF8F\" stroke=\"none\" />\n",
       "<rect x=\"92.15686274509804mm\" y=\"0.0mm\"\n",
       "      width=\"0.9803921568627451mm\" height=\"25.0mm\"\n",
       "      fill=\"#FFBE8E\" stroke=\"none\" />\n",
       "<rect x=\"93.13725490196079mm\" y=\"0.0mm\"\n",
       "      width=\"0.9803921568627451mm\" height=\"25.0mm\"\n",
       "      fill=\"#FFBD8C\" stroke=\"none\" />\n",
       "<rect x=\"94.11764705882352mm\" y=\"0.0mm\"\n",
       "      width=\"0.9803921568627451mm\" height=\"25.0mm\"\n",
       "      fill=\"#FFBC8B\" stroke=\"none\" />\n",
       "<rect x=\"95.09803921568627mm\" y=\"0.0mm\"\n",
       "      width=\"0.9803921568627451mm\" height=\"25.0mm\"\n",
       "      fill=\"#FFBB8A\" stroke=\"none\" />\n",
       "<rect x=\"96.07843137254902mm\" y=\"0.0mm\"\n",
       "      width=\"0.9803921568627451mm\" height=\"25.0mm\"\n",
       "      fill=\"#FFBA88\" stroke=\"none\" />\n",
       "<rect x=\"97.05882352941175mm\" y=\"0.0mm\"\n",
       "      width=\"0.9803921568627451mm\" height=\"25.0mm\"\n",
       "      fill=\"#FFB987\" stroke=\"none\" />\n",
       "<rect x=\"98.0392156862745mm\" y=\"0.0mm\"\n",
       "      width=\"0.9803921568627451mm\" height=\"25.0mm\"\n",
       "      fill=\"#FFB886\" stroke=\"none\" />\n",
       "<rect x=\"99.01960784313725mm\" y=\"0.0mm\"\n",
       "      width=\"0.9803921568627451mm\" height=\"25.0mm\"\n",
       "      fill=\"#FFB784\" stroke=\"none\" />\n",
       "<rect x=\"100.0mm\" y=\"0.0mm\"\n",
       "      width=\"0.9803921568627451mm\" height=\"25.0mm\"\n",
       "      fill=\"#FFB683\" stroke=\"none\" />\n",
       "<rect x=\"100.98039215686273mm\" y=\"0.0mm\"\n",
       "      width=\"0.9803921568627451mm\" height=\"25.0mm\"\n",
       "      fill=\"#FFB682\" stroke=\"none\" />\n",
       "<rect x=\"101.96078431372548mm\" y=\"0.0mm\"\n",
       "      width=\"0.9803921568627451mm\" height=\"25.0mm\"\n",
       "      fill=\"#FFB580\" stroke=\"none\" />\n",
       "<rect x=\"102.94117647058823mm\" y=\"0.0mm\"\n",
       "      width=\"0.9803921568627451mm\" height=\"25.0mm\"\n",
       "      fill=\"#FFB47F\" stroke=\"none\" />\n",
       "<rect x=\"103.92156862745098mm\" y=\"0.0mm\"\n",
       "      width=\"0.9803921568627451mm\" height=\"25.0mm\"\n",
       "      fill=\"#FFB37E\" stroke=\"none\" />\n",
       "<rect x=\"104.90196078431372mm\" y=\"0.0mm\"\n",
       "      width=\"0.9803921568627451mm\" height=\"25.0mm\"\n",
       "      fill=\"#FFB27C\" stroke=\"none\" />\n",
       "<rect x=\"105.88235294117646mm\" y=\"0.0mm\"\n",
       "      width=\"0.9803921568627451mm\" height=\"25.0mm\"\n",
       "      fill=\"#FFB17B\" stroke=\"none\" />\n",
       "<rect x=\"106.86274509803921mm\" y=\"0.0mm\"\n",
       "      width=\"0.9803921568627451mm\" height=\"25.0mm\"\n",
       "      fill=\"#FFB079\" stroke=\"none\" />\n",
       "<rect x=\"107.84313725490196mm\" y=\"0.0mm\"\n",
       "      width=\"0.9803921568627451mm\" height=\"25.0mm\"\n",
       "      fill=\"#FFAF78\" stroke=\"none\" />\n",
       "<rect x=\"108.8235294117647mm\" y=\"0.0mm\"\n",
       "      width=\"0.9803921568627451mm\" height=\"25.0mm\"\n",
       "      fill=\"#FFAE77\" stroke=\"none\" />\n",
       "<rect x=\"109.80392156862744mm\" y=\"0.0mm\"\n",
       "      width=\"0.9803921568627451mm\" height=\"25.0mm\"\n",
       "      fill=\"#FFAD75\" stroke=\"none\" />\n",
       "<rect x=\"110.7843137254902mm\" y=\"0.0mm\"\n",
       "      width=\"0.9803921568627451mm\" height=\"25.0mm\"\n",
       "      fill=\"#FFAC74\" stroke=\"none\" />\n",
       "<rect x=\"111.76470588235294mm\" y=\"0.0mm\"\n",
       "      width=\"0.9803921568627451mm\" height=\"25.0mm\"\n",
       "      fill=\"#FFAB72\" stroke=\"none\" />\n",
       "<rect x=\"112.74509803921568mm\" y=\"0.0mm\"\n",
       "      width=\"0.9803921568627451mm\" height=\"25.0mm\"\n",
       "      fill=\"#FFAA71\" stroke=\"none\" />\n",
       "<rect x=\"113.72549019607843mm\" y=\"0.0mm\"\n",
       "      width=\"0.9803921568627451mm\" height=\"25.0mm\"\n",
       "      fill=\"#FFA96F\" stroke=\"none\" />\n",
       "<rect x=\"114.70588235294117mm\" y=\"0.0mm\"\n",
       "      width=\"0.9803921568627451mm\" height=\"25.0mm\"\n",
       "      fill=\"#FFA86E\" stroke=\"none\" />\n",
       "<rect x=\"115.68627450980392mm\" y=\"0.0mm\"\n",
       "      width=\"0.9803921568627451mm\" height=\"25.0mm\"\n",
       "      fill=\"#FFA76D\" stroke=\"none\" />\n",
       "<rect x=\"116.66666666666666mm\" y=\"0.0mm\"\n",
       "      width=\"0.9803921568627451mm\" height=\"25.0mm\"\n",
       "      fill=\"#FFA66B\" stroke=\"none\" />\n",
       "<rect x=\"117.6470588235294mm\" y=\"0.0mm\"\n",
       "      width=\"0.9803921568627451mm\" height=\"25.0mm\"\n",
       "      fill=\"#FFA56A\" stroke=\"none\" />\n",
       "<rect x=\"118.62745098039215mm\" y=\"0.0mm\"\n",
       "      width=\"0.9803921568627451mm\" height=\"25.0mm\"\n",
       "      fill=\"#FFA368\" stroke=\"none\" />\n",
       "<rect x=\"119.6078431372549mm\" y=\"0.0mm\"\n",
       "      width=\"0.9803921568627451mm\" height=\"25.0mm\"\n",
       "      fill=\"#FFA267\" stroke=\"none\" />\n",
       "<rect x=\"120.58823529411764mm\" y=\"0.0mm\"\n",
       "      width=\"0.9803921568627451mm\" height=\"25.0mm\"\n",
       "      fill=\"#FFA165\" stroke=\"none\" />\n",
       "<rect x=\"121.56862745098039mm\" y=\"0.0mm\"\n",
       "      width=\"0.9803921568627451mm\" height=\"25.0mm\"\n",
       "      fill=\"#FFA064\" stroke=\"none\" />\n",
       "<rect x=\"122.54901960784314mm\" y=\"0.0mm\"\n",
       "      width=\"0.9803921568627451mm\" height=\"25.0mm\"\n",
       "      fill=\"#FF9F62\" stroke=\"none\" />\n",
       "<rect x=\"123.52941176470588mm\" y=\"0.0mm\"\n",
       "      width=\"0.9803921568627451mm\" height=\"25.0mm\"\n",
       "      fill=\"#FF9E61\" stroke=\"none\" />\n",
       "<rect x=\"124.50980392156862mm\" y=\"0.0mm\"\n",
       "      width=\"0.9803921568627451mm\" height=\"25.0mm\"\n",
       "      fill=\"#FF9D5F\" stroke=\"none\" />\n",
       "<rect x=\"125.49019607843137mm\" y=\"0.0mm\"\n",
       "      width=\"0.9803921568627451mm\" height=\"25.0mm\"\n",
       "      fill=\"#FF9C5E\" stroke=\"none\" />\n",
       "<rect x=\"126.47058823529412mm\" y=\"0.0mm\"\n",
       "      width=\"0.9803921568627451mm\" height=\"25.0mm\"\n",
       "      fill=\"#FF9B5C\" stroke=\"none\" />\n",
       "<rect x=\"127.45098039215685mm\" y=\"0.0mm\"\n",
       "      width=\"0.9803921568627451mm\" height=\"25.0mm\"\n",
       "      fill=\"#FF9A5B\" stroke=\"none\" />\n",
       "<rect x=\"128.4313725490196mm\" y=\"0.0mm\"\n",
       "      width=\"0.9803921568627451mm\" height=\"25.0mm\"\n",
       "      fill=\"#FF9859\" stroke=\"none\" />\n",
       "<rect x=\"129.41176470588235mm\" y=\"0.0mm\"\n",
       "      width=\"0.9803921568627451mm\" height=\"25.0mm\"\n",
       "      fill=\"#FF9758\" stroke=\"none\" />\n",
       "<rect x=\"130.39215686274508mm\" y=\"0.0mm\"\n",
       "      width=\"0.9803921568627451mm\" height=\"25.0mm\"\n",
       "      fill=\"#FF9656\" stroke=\"none\" />\n",
       "<rect x=\"131.37254901960785mm\" y=\"0.0mm\"\n",
       "      width=\"0.9803921568627451mm\" height=\"25.0mm\"\n",
       "      fill=\"#FF9555\" stroke=\"none\" />\n",
       "<rect x=\"132.35294117647058mm\" y=\"0.0mm\"\n",
       "      width=\"0.9803921568627451mm\" height=\"25.0mm\"\n",
       "      fill=\"#FF9453\" stroke=\"none\" />\n",
       "<rect x=\"133.33333333333331mm\" y=\"0.0mm\"\n",
       "      width=\"0.9803921568627451mm\" height=\"25.0mm\"\n",
       "      fill=\"#FF9252\" stroke=\"none\" />\n",
       "<rect x=\"134.31372549019608mm\" y=\"0.0mm\"\n",
       "      width=\"0.9803921568627451mm\" height=\"25.0mm\"\n",
       "      fill=\"#FF9150\" stroke=\"none\" />\n",
       "<rect x=\"135.2941176470588mm\" y=\"0.0mm\"\n",
       "      width=\"0.9803921568627451mm\" height=\"25.0mm\"\n",
       "      fill=\"#FF904E\" stroke=\"none\" />\n",
       "<rect x=\"136.27450980392157mm\" y=\"0.0mm\"\n",
       "      width=\"0.9803921568627451mm\" height=\"25.0mm\"\n",
       "      fill=\"#FF8F4D\" stroke=\"none\" />\n",
       "<rect x=\"137.2549019607843mm\" y=\"0.0mm\"\n",
       "      width=\"0.9803921568627451mm\" height=\"25.0mm\"\n",
       "      fill=\"#FF8E4B\" stroke=\"none\" />\n",
       "<rect x=\"138.23529411764704mm\" y=\"0.0mm\"\n",
       "      width=\"0.9803921568627451mm\" height=\"25.0mm\"\n",
       "      fill=\"#FF8C4A\" stroke=\"none\" />\n",
       "<rect x=\"139.2156862745098mm\" y=\"0.0mm\"\n",
       "      width=\"0.9803921568627451mm\" height=\"25.0mm\"\n",
       "      fill=\"#FF8B48\" stroke=\"none\" />\n",
       "<rect x=\"140.19607843137254mm\" y=\"0.0mm\"\n",
       "      width=\"0.9803921568627451mm\" height=\"25.0mm\"\n",
       "      fill=\"#FF8A46\" stroke=\"none\" />\n",
       "<rect x=\"141.17647058823528mm\" y=\"0.0mm\"\n",
       "      width=\"0.9803921568627451mm\" height=\"25.0mm\"\n",
       "      fill=\"#FF8845\" stroke=\"none\" />\n",
       "<rect x=\"142.15686274509804mm\" y=\"0.0mm\"\n",
       "      width=\"0.9803921568627451mm\" height=\"25.0mm\"\n",
       "      fill=\"#FF8743\" stroke=\"none\" />\n",
       "<rect x=\"143.13725490196077mm\" y=\"0.0mm\"\n",
       "      width=\"0.9803921568627451mm\" height=\"25.0mm\"\n",
       "      fill=\"#FF8642\" stroke=\"none\" />\n",
       "<rect x=\"144.11764705882354mm\" y=\"0.0mm\"\n",
       "      width=\"0.9803921568627451mm\" height=\"25.0mm\"\n",
       "      fill=\"#FF8540\" stroke=\"none\" />\n",
       "<rect x=\"145.09803921568627mm\" y=\"0.0mm\"\n",
       "      width=\"0.9803921568627451mm\" height=\"25.0mm\"\n",
       "      fill=\"#FF833E\" stroke=\"none\" />\n",
       "<rect x=\"146.078431372549mm\" y=\"0.0mm\"\n",
       "      width=\"0.9803921568627451mm\" height=\"25.0mm\"\n",
       "      fill=\"#FF823D\" stroke=\"none\" />\n",
       "<rect x=\"147.05882352941177mm\" y=\"0.0mm\"\n",
       "      width=\"0.9803921568627451mm\" height=\"25.0mm\"\n",
       "      fill=\"#FF813B\" stroke=\"none\" />\n",
       "<rect x=\"148.0392156862745mm\" y=\"0.0mm\"\n",
       "      width=\"0.9803921568627451mm\" height=\"25.0mm\"\n",
       "      fill=\"#FF7F39\" stroke=\"none\" />\n",
       "<rect x=\"149.01960784313724mm\" y=\"0.0mm\"\n",
       "      width=\"0.9803921568627451mm\" height=\"25.0mm\"\n",
       "      fill=\"#FF7E38\" stroke=\"none\" />\n",
       "<rect x=\"150.0mm\" y=\"0.0mm\"\n",
       "      width=\"0.9803921568627451mm\" height=\"25.0mm\"\n",
       "      fill=\"#FF7C36\" stroke=\"none\" />\n",
       "<rect x=\"150.98039215686273mm\" y=\"0.0mm\"\n",
       "      width=\"0.9803921568627451mm\" height=\"25.0mm\"\n",
       "      fill=\"#FF7B34\" stroke=\"none\" />\n",
       "<rect x=\"151.9607843137255mm\" y=\"0.0mm\"\n",
       "      width=\"0.9803921568627451mm\" height=\"25.0mm\"\n",
       "      fill=\"#FF7A32\" stroke=\"none\" />\n",
       "<rect x=\"152.94117647058823mm\" y=\"0.0mm\"\n",
       "      width=\"0.9803921568627451mm\" height=\"25.0mm\"\n",
       "      fill=\"#FF7831\" stroke=\"none\" />\n",
       "<rect x=\"153.92156862745097mm\" y=\"0.0mm\"\n",
       "      width=\"0.9803921568627451mm\" height=\"25.0mm\"\n",
       "      fill=\"#FF772F\" stroke=\"none\" />\n",
       "<rect x=\"154.90196078431373mm\" y=\"0.0mm\"\n",
       "      width=\"0.9803921568627451mm\" height=\"25.0mm\"\n",
       "      fill=\"#FF752D\" stroke=\"none\" />\n",
       "<rect x=\"155.88235294117646mm\" y=\"0.0mm\"\n",
       "      width=\"0.9803921568627451mm\" height=\"25.0mm\"\n",
       "      fill=\"#FF742B\" stroke=\"none\" />\n",
       "<rect x=\"156.8627450980392mm\" y=\"0.0mm\"\n",
       "      width=\"0.9803921568627451mm\" height=\"25.0mm\"\n",
       "      fill=\"#FF7229\" stroke=\"none\" />\n",
       "<rect x=\"157.84313725490196mm\" y=\"0.0mm\"\n",
       "      width=\"0.9803921568627451mm\" height=\"25.0mm\"\n",
       "      fill=\"#FF7127\" stroke=\"none\" />\n",
       "<rect x=\"158.8235294117647mm\" y=\"0.0mm\"\n",
       "      width=\"0.9803921568627451mm\" height=\"25.0mm\"\n",
       "      fill=\"#FE6F25\" stroke=\"none\" />\n",
       "<rect x=\"159.80392156862743mm\" y=\"0.0mm\"\n",
       "      width=\"0.9803921568627451mm\" height=\"25.0mm\"\n",
       "      fill=\"#FE6E24\" stroke=\"none\" />\n",
       "<rect x=\"160.7843137254902mm\" y=\"0.0mm\"\n",
       "      width=\"0.9803921568627451mm\" height=\"25.0mm\"\n",
       "      fill=\"#FE6C22\" stroke=\"none\" />\n",
       "<rect x=\"161.76470588235293mm\" y=\"0.0mm\"\n",
       "      width=\"0.9803921568627451mm\" height=\"25.0mm\"\n",
       "      fill=\"#FE6B20\" stroke=\"none\" />\n",
       "<rect x=\"162.7450980392157mm\" y=\"0.0mm\"\n",
       "      width=\"0.9803921568627451mm\" height=\"25.0mm\"\n",
       "      fill=\"#FD691D\" stroke=\"none\" />\n",
       "<rect x=\"163.72549019607843mm\" y=\"0.0mm\"\n",
       "      width=\"0.9803921568627451mm\" height=\"25.0mm\"\n",
       "      fill=\"#FD671B\" stroke=\"none\" />\n",
       "<rect x=\"164.70588235294116mm\" y=\"0.0mm\"\n",
       "      width=\"0.9803921568627451mm\" height=\"25.0mm\"\n",
       "      fill=\"#FD6619\" stroke=\"none\" />\n",
       "<rect x=\"165.68627450980392mm\" y=\"0.0mm\"\n",
       "      width=\"0.9803921568627451mm\" height=\"25.0mm\"\n",
       "      fill=\"#FC6417\" stroke=\"none\" />\n",
       "<rect x=\"166.66666666666666mm\" y=\"0.0mm\"\n",
       "      width=\"0.9803921568627451mm\" height=\"25.0mm\"\n",
       "      fill=\"#FC6315\" stroke=\"none\" />\n",
       "<rect x=\"167.6470588235294mm\" y=\"0.0mm\"\n",
       "      width=\"0.9803921568627451mm\" height=\"25.0mm\"\n",
       "      fill=\"#FC6112\" stroke=\"none\" />\n",
       "<rect x=\"168.62745098039215mm\" y=\"0.0mm\"\n",
       "      width=\"0.9803921568627451mm\" height=\"25.0mm\"\n",
       "      fill=\"#FB6010\" stroke=\"none\" />\n",
       "<rect x=\"169.6078431372549mm\" y=\"0.0mm\"\n",
       "      width=\"0.9803921568627451mm\" height=\"25.0mm\"\n",
       "      fill=\"#FA5E0E\" stroke=\"none\" />\n",
       "<rect x=\"170.58823529411765mm\" y=\"0.0mm\"\n",
       "      width=\"0.9803921568627451mm\" height=\"25.0mm\"\n",
       "      fill=\"#FA5D0C\" stroke=\"none\" />\n",
       "<rect x=\"171.5686274509804mm\" y=\"0.0mm\"\n",
       "      width=\"0.9803921568627451mm\" height=\"25.0mm\"\n",
       "      fill=\"#F85C0C\" stroke=\"none\" />\n",
       "<rect x=\"172.54901960784312mm\" y=\"0.0mm\"\n",
       "      width=\"0.9803921568627451mm\" height=\"25.0mm\"\n",
       "      fill=\"#F75B0C\" stroke=\"none\" />\n",
       "<rect x=\"173.52941176470588mm\" y=\"0.0mm\"\n",
       "      width=\"0.9803921568627451mm\" height=\"25.0mm\"\n",
       "      fill=\"#F65A0C\" stroke=\"none\" />\n",
       "<rect x=\"174.50980392156862mm\" y=\"0.0mm\"\n",
       "      width=\"0.9803921568627451mm\" height=\"25.0mm\"\n",
       "      fill=\"#F4590C\" stroke=\"none\" />\n",
       "<rect x=\"175.49019607843135mm\" y=\"0.0mm\"\n",
       "      width=\"0.9803921568627451mm\" height=\"25.0mm\"\n",
       "      fill=\"#F3590C\" stroke=\"none\" />\n",
       "<rect x=\"176.47058823529412mm\" y=\"0.0mm\"\n",
       "      width=\"0.9803921568627451mm\" height=\"25.0mm\"\n",
       "      fill=\"#F2580C\" stroke=\"none\" />\n",
       "<rect x=\"177.45098039215685mm\" y=\"0.0mm\"\n",
       "      width=\"0.9803921568627451mm\" height=\"25.0mm\"\n",
       "      fill=\"#F0570C\" stroke=\"none\" />\n",
       "<rect x=\"178.4313725490196mm\" y=\"0.0mm\"\n",
       "      width=\"0.9803921568627451mm\" height=\"25.0mm\"\n",
       "      fill=\"#EF570C\" stroke=\"none\" />\n",
       "<rect x=\"179.41176470588235mm\" y=\"0.0mm\"\n",
       "      width=\"0.9803921568627451mm\" height=\"25.0mm\"\n",
       "      fill=\"#ED560C\" stroke=\"none\" />\n",
       "<rect x=\"180.39215686274508mm\" y=\"0.0mm\"\n",
       "      width=\"0.9803921568627451mm\" height=\"25.0mm\"\n",
       "      fill=\"#EC550C\" stroke=\"none\" />\n",
       "<rect x=\"181.37254901960785mm\" y=\"0.0mm\"\n",
       "      width=\"0.9803921568627451mm\" height=\"25.0mm\"\n",
       "      fill=\"#EA540C\" stroke=\"none\" />\n",
       "<rect x=\"182.35294117647058mm\" y=\"0.0mm\"\n",
       "      width=\"0.9803921568627451mm\" height=\"25.0mm\"\n",
       "      fill=\"#E9540C\" stroke=\"none\" />\n",
       "<rect x=\"183.33333333333331mm\" y=\"0.0mm\"\n",
       "      width=\"0.9803921568627451mm\" height=\"25.0mm\"\n",
       "      fill=\"#E7530C\" stroke=\"none\" />\n",
       "<rect x=\"184.31372549019608mm\" y=\"0.0mm\"\n",
       "      width=\"0.9803921568627451mm\" height=\"25.0mm\"\n",
       "      fill=\"#E6520D\" stroke=\"none\" />\n",
       "<rect x=\"185.2941176470588mm\" y=\"0.0mm\"\n",
       "      width=\"0.9803921568627451mm\" height=\"25.0mm\"\n",
       "      fill=\"#E4510D\" stroke=\"none\" />\n",
       "<rect x=\"186.27450980392157mm\" y=\"0.0mm\"\n",
       "      width=\"0.9803921568627451mm\" height=\"25.0mm\"\n",
       "      fill=\"#E3510D\" stroke=\"none\" />\n",
       "<rect x=\"187.2549019607843mm\" y=\"0.0mm\"\n",
       "      width=\"0.9803921568627451mm\" height=\"25.0mm\"\n",
       "      fill=\"#E1500D\" stroke=\"none\" />\n",
       "<rect x=\"188.23529411764704mm\" y=\"0.0mm\"\n",
       "      width=\"0.9803921568627451mm\" height=\"25.0mm\"\n",
       "      fill=\"#E04F0D\" stroke=\"none\" />\n",
       "<rect x=\"189.2156862745098mm\" y=\"0.0mm\"\n",
       "      width=\"0.9803921568627451mm\" height=\"25.0mm\"\n",
       "      fill=\"#DE4F0D\" stroke=\"none\" />\n",
       "<rect x=\"190.19607843137254mm\" y=\"0.0mm\"\n",
       "      width=\"0.9803921568627451mm\" height=\"25.0mm\"\n",
       "      fill=\"#DD4E0D\" stroke=\"none\" />\n",
       "<rect x=\"191.17647058823528mm\" y=\"0.0mm\"\n",
       "      width=\"0.9803921568627451mm\" height=\"25.0mm\"\n",
       "      fill=\"#DB4D0D\" stroke=\"none\" />\n",
       "<rect x=\"192.15686274509804mm\" y=\"0.0mm\"\n",
       "      width=\"0.9803921568627451mm\" height=\"25.0mm\"\n",
       "      fill=\"#DA4C0D\" stroke=\"none\" />\n",
       "<rect x=\"193.13725490196077mm\" y=\"0.0mm\"\n",
       "      width=\"0.9803921568627451mm\" height=\"25.0mm\"\n",
       "      fill=\"#D84C0D\" stroke=\"none\" />\n",
       "<rect x=\"194.1176470588235mm\" y=\"0.0mm\"\n",
       "      width=\"0.9803921568627451mm\" height=\"25.0mm\"\n",
       "      fill=\"#D74B0D\" stroke=\"none\" />\n",
       "<rect x=\"195.09803921568627mm\" y=\"0.0mm\"\n",
       "      width=\"0.9803921568627451mm\" height=\"25.0mm\"\n",
       "      fill=\"#D54A0E\" stroke=\"none\" />\n",
       "<rect x=\"196.078431372549mm\" y=\"0.0mm\"\n",
       "      width=\"0.9803921568627451mm\" height=\"25.0mm\"\n",
       "      fill=\"#D34A0E\" stroke=\"none\" />\n",
       "<rect x=\"197.05882352941177mm\" y=\"0.0mm\"\n",
       "      width=\"0.9803921568627451mm\" height=\"25.0mm\"\n",
       "      fill=\"#D2490E\" stroke=\"none\" />\n",
       "<rect x=\"198.0392156862745mm\" y=\"0.0mm\"\n",
       "      width=\"0.9803921568627451mm\" height=\"25.0mm\"\n",
       "      fill=\"#D0480E\" stroke=\"none\" />\n",
       "<rect x=\"199.01960784313724mm\" y=\"0.0mm\"\n",
       "      width=\"0.9803921568627451mm\" height=\"25.0mm\"\n",
       "      fill=\"#CE470E\" stroke=\"none\" />\n",
       "<rect x=\"200.0mm\" y=\"0.0mm\"\n",
       "      width=\"0.9803921568627451mm\" height=\"25.0mm\"\n",
       "      fill=\"#CD470E\" stroke=\"none\" />\n",
       "<rect x=\"200.98039215686273mm\" y=\"0.0mm\"\n",
       "      width=\"0.9803921568627451mm\" height=\"25.0mm\"\n",
       "      fill=\"#CB460E\" stroke=\"none\" />\n",
       "<rect x=\"201.96078431372547mm\" y=\"0.0mm\"\n",
       "      width=\"0.9803921568627451mm\" height=\"25.0mm\"\n",
       "      fill=\"#CA450E\" stroke=\"none\" />\n",
       "<rect x=\"202.94117647058823mm\" y=\"0.0mm\"\n",
       "      width=\"0.9803921568627451mm\" height=\"25.0mm\"\n",
       "      fill=\"#C8450E\" stroke=\"none\" />\n",
       "<rect x=\"203.92156862745097mm\" y=\"0.0mm\"\n",
       "      width=\"0.9803921568627451mm\" height=\"25.0mm\"\n",
       "      fill=\"#C6440E\" stroke=\"none\" />\n",
       "<rect x=\"204.90196078431373mm\" y=\"0.0mm\"\n",
       "      width=\"0.9803921568627451mm\" height=\"25.0mm\"\n",
       "      fill=\"#C5430E\" stroke=\"none\" />\n",
       "<rect x=\"205.88235294117646mm\" y=\"0.0mm\"\n",
       "      width=\"0.9803921568627451mm\" height=\"25.0mm\"\n",
       "      fill=\"#C3420E\" stroke=\"none\" />\n",
       "<rect x=\"206.8627450980392mm\" y=\"0.0mm\"\n",
       "      width=\"0.9803921568627451mm\" height=\"25.0mm\"\n",
       "      fill=\"#C1420E\" stroke=\"none\" />\n",
       "<rect x=\"207.84313725490196mm\" y=\"0.0mm\"\n",
       "      width=\"0.9803921568627451mm\" height=\"25.0mm\"\n",
       "      fill=\"#C0410E\" stroke=\"none\" />\n",
       "<rect x=\"208.8235294117647mm\" y=\"0.0mm\"\n",
       "      width=\"0.9803921568627451mm\" height=\"25.0mm\"\n",
       "      fill=\"#BE400E\" stroke=\"none\" />\n",
       "<rect x=\"209.80392156862743mm\" y=\"0.0mm\"\n",
       "      width=\"0.9803921568627451mm\" height=\"25.0mm\"\n",
       "      fill=\"#BC3F0E\" stroke=\"none\" />\n",
       "<rect x=\"210.7843137254902mm\" y=\"0.0mm\"\n",
       "      width=\"0.9803921568627451mm\" height=\"25.0mm\"\n",
       "      fill=\"#BA3F0E\" stroke=\"none\" />\n",
       "<rect x=\"211.76470588235293mm\" y=\"0.0mm\"\n",
       "      width=\"0.9803921568627451mm\" height=\"25.0mm\"\n",
       "      fill=\"#B93E0E\" stroke=\"none\" />\n",
       "<rect x=\"212.7450980392157mm\" y=\"0.0mm\"\n",
       "      width=\"0.9803921568627451mm\" height=\"25.0mm\"\n",
       "      fill=\"#B73D0E\" stroke=\"none\" />\n",
       "<rect x=\"213.72549019607843mm\" y=\"0.0mm\"\n",
       "      width=\"0.9803921568627451mm\" height=\"25.0mm\"\n",
       "      fill=\"#B53C0E\" stroke=\"none\" />\n",
       "<rect x=\"214.70588235294116mm\" y=\"0.0mm\"\n",
       "      width=\"0.9803921568627451mm\" height=\"25.0mm\"\n",
       "      fill=\"#B43C0E\" stroke=\"none\" />\n",
       "<rect x=\"215.68627450980392mm\" y=\"0.0mm\"\n",
       "      width=\"0.9803921568627451mm\" height=\"25.0mm\"\n",
       "      fill=\"#B23B0D\" stroke=\"none\" />\n",
       "<rect x=\"216.66666666666666mm\" y=\"0.0mm\"\n",
       "      width=\"0.9803921568627451mm\" height=\"25.0mm\"\n",
       "      fill=\"#B03A0D\" stroke=\"none\" />\n",
       "<rect x=\"217.6470588235294mm\" y=\"0.0mm\"\n",
       "      width=\"0.9803921568627451mm\" height=\"25.0mm\"\n",
       "      fill=\"#AE390D\" stroke=\"none\" />\n",
       "<rect x=\"218.62745098039215mm\" y=\"0.0mm\"\n",
       "      width=\"0.9803921568627451mm\" height=\"25.0mm\"\n",
       "      fill=\"#AD390D\" stroke=\"none\" />\n",
       "<rect x=\"219.6078431372549mm\" y=\"0.0mm\"\n",
       "      width=\"0.9803921568627451mm\" height=\"25.0mm\"\n",
       "      fill=\"#AB380D\" stroke=\"none\" />\n",
       "<rect x=\"220.58823529411762mm\" y=\"0.0mm\"\n",
       "      width=\"0.9803921568627451mm\" height=\"25.0mm\"\n",
       "      fill=\"#A9370D\" stroke=\"none\" />\n",
       "<rect x=\"221.5686274509804mm\" y=\"0.0mm\"\n",
       "      width=\"0.9803921568627451mm\" height=\"25.0mm\"\n",
       "      fill=\"#A7360D\" stroke=\"none\" />\n",
       "<rect x=\"222.54901960784312mm\" y=\"0.0mm\"\n",
       "      width=\"0.9803921568627451mm\" height=\"25.0mm\"\n",
       "      fill=\"#A5360D\" stroke=\"none\" />\n",
       "<rect x=\"223.52941176470588mm\" y=\"0.0mm\"\n",
       "      width=\"0.9803921568627451mm\" height=\"25.0mm\"\n",
       "      fill=\"#A4350D\" stroke=\"none\" />\n",
       "<rect x=\"224.50980392156862mm\" y=\"0.0mm\"\n",
       "      width=\"0.9803921568627451mm\" height=\"25.0mm\"\n",
       "      fill=\"#A2340D\" stroke=\"none\" />\n",
       "<rect x=\"225.49019607843135mm\" y=\"0.0mm\"\n",
       "      width=\"0.9803921568627451mm\" height=\"25.0mm\"\n",
       "      fill=\"#A0330C\" stroke=\"none\" />\n",
       "<rect x=\"226.47058823529412mm\" y=\"0.0mm\"\n",
       "      width=\"0.9803921568627451mm\" height=\"25.0mm\"\n",
       "      fill=\"#9E330C\" stroke=\"none\" />\n",
       "<rect x=\"227.45098039215685mm\" y=\"0.0mm\"\n",
       "      width=\"0.9803921568627451mm\" height=\"25.0mm\"\n",
       "      fill=\"#9C320C\" stroke=\"none\" />\n",
       "<rect x=\"228.43137254901958mm\" y=\"0.0mm\"\n",
       "      width=\"0.9803921568627451mm\" height=\"25.0mm\"\n",
       "      fill=\"#9B310C\" stroke=\"none\" />\n",
       "<rect x=\"229.41176470588235mm\" y=\"0.0mm\"\n",
       "      width=\"0.9803921568627451mm\" height=\"25.0mm\"\n",
       "      fill=\"#99300C\" stroke=\"none\" />\n",
       "<rect x=\"230.39215686274508mm\" y=\"0.0mm\"\n",
       "      width=\"0.9803921568627451mm\" height=\"25.0mm\"\n",
       "      fill=\"#97300C\" stroke=\"none\" />\n",
       "<rect x=\"231.37254901960785mm\" y=\"0.0mm\"\n",
       "      width=\"0.9803921568627451mm\" height=\"25.0mm\"\n",
       "      fill=\"#952F0C\" stroke=\"none\" />\n",
       "<rect x=\"232.35294117647058mm\" y=\"0.0mm\"\n",
       "      width=\"0.9803921568627451mm\" height=\"25.0mm\"\n",
       "      fill=\"#932E0B\" stroke=\"none\" />\n",
       "<rect x=\"233.33333333333331mm\" y=\"0.0mm\"\n",
       "      width=\"0.9803921568627451mm\" height=\"25.0mm\"\n",
       "      fill=\"#912D0B\" stroke=\"none\" />\n",
       "<rect x=\"234.31372549019608mm\" y=\"0.0mm\"\n",
       "      width=\"0.9803921568627451mm\" height=\"25.0mm\"\n",
       "      fill=\"#8F2D0B\" stroke=\"none\" />\n",
       "<rect x=\"235.2941176470588mm\" y=\"0.0mm\"\n",
       "      width=\"0.9803921568627451mm\" height=\"25.0mm\"\n",
       "      fill=\"#8E2C0B\" stroke=\"none\" />\n",
       "<rect x=\"236.27450980392155mm\" y=\"0.0mm\"\n",
       "      width=\"0.9803921568627451mm\" height=\"25.0mm\"\n",
       "      fill=\"#8C2B0B\" stroke=\"none\" />\n",
       "<rect x=\"237.2549019607843mm\" y=\"0.0mm\"\n",
       "      width=\"0.9803921568627451mm\" height=\"25.0mm\"\n",
       "      fill=\"#8A2A0A\" stroke=\"none\" />\n",
       "<rect x=\"238.23529411764704mm\" y=\"0.0mm\"\n",
       "      width=\"0.9803921568627451mm\" height=\"25.0mm\"\n",
       "      fill=\"#88290A\" stroke=\"none\" />\n",
       "<rect x=\"239.2156862745098mm\" y=\"0.0mm\"\n",
       "      width=\"0.9803921568627451mm\" height=\"25.0mm\"\n",
       "      fill=\"#86290A\" stroke=\"none\" />\n",
       "<rect x=\"240.19607843137254mm\" y=\"0.0mm\"\n",
       "      width=\"0.9803921568627451mm\" height=\"25.0mm\"\n",
       "      fill=\"#84280A\" stroke=\"none\" />\n",
       "<rect x=\"241.17647058823528mm\" y=\"0.0mm\"\n",
       "      width=\"0.9803921568627451mm\" height=\"25.0mm\"\n",
       "      fill=\"#82270A\" stroke=\"none\" />\n",
       "<rect x=\"242.15686274509804mm\" y=\"0.0mm\"\n",
       "      width=\"0.9803921568627451mm\" height=\"25.0mm\"\n",
       "      fill=\"#802609\" stroke=\"none\" />\n",
       "<rect x=\"243.13725490196077mm\" y=\"0.0mm\"\n",
       "      width=\"0.9803921568627451mm\" height=\"25.0mm\"\n",
       "      fill=\"#7E2609\" stroke=\"none\" />\n",
       "<rect x=\"244.1176470588235mm\" y=\"0.0mm\"\n",
       "      width=\"0.9803921568627451mm\" height=\"25.0mm\"\n",
       "      fill=\"#7C2509\" stroke=\"none\" />\n",
       "<rect x=\"245.09803921568627mm\" y=\"0.0mm\"\n",
       "      width=\"0.9803921568627451mm\" height=\"25.0mm\"\n",
       "      fill=\"#7B2409\" stroke=\"none\" />\n",
       "<rect x=\"246.078431372549mm\" y=\"0.0mm\"\n",
       "      width=\"0.9803921568627451mm\" height=\"25.0mm\"\n",
       "      fill=\"#792308\" stroke=\"none\" />\n",
       "<rect x=\"247.05882352941177mm\" y=\"0.0mm\"\n",
       "      width=\"0.9803921568627451mm\" height=\"25.0mm\"\n",
       "      fill=\"#772208\" stroke=\"none\" />\n",
       "<rect x=\"248.0392156862745mm\" y=\"0.0mm\"\n",
       "      width=\"0.9803921568627451mm\" height=\"25.0mm\"\n",
       "      fill=\"#752208\" stroke=\"none\" />\n",
       "<rect x=\"249.01960784313724mm\" y=\"0.0mm\"\n",
       "      width=\"0.9803921568627451mm\" height=\"25.0mm\"\n",
       "      fill=\"#732108\" stroke=\"none\" />\n",
       "</svg>"
      ],
      "text/plain": [
       "255-element Array{RGB{Float64},1}:\n",
       " RGB{Float64}(1.0,0.984979,0.965569)      \n",
       " RGB{Float64}(1.0,0.983121,0.961993)      \n",
       " RGB{Float64}(1.0,0.981252,0.958401)      \n",
       " RGB{Float64}(1.0,0.97937,0.954794)       \n",
       " RGB{Float64}(1.0,0.977476,0.95117)       \n",
       " RGB{Float64}(1.0,0.97557,0.947531)       \n",
       " RGB{Float64}(1.0,0.973651,0.943876)      \n",
       " RGB{Float64}(1.0,0.971719,0.940205)      \n",
       " RGB{Float64}(1.0,0.969775,0.936518)      \n",
       " RGB{Float64}(1.0,0.967818,0.932816)      \n",
       " RGB{Float64}(1.0,0.965848,0.929097)      \n",
       " RGB{Float64}(1.0,0.963866,0.925362)      \n",
       " RGB{Float64}(1.0,0.96187,0.921611)       \n",
       " ⋮                                        \n",
       " RGB{Float64}(0.533003,0.162558,0.0400482)\n",
       " RGB{Float64}(0.525573,0.159503,0.0391938)\n",
       " RGB{Float64}(0.51812,0.156443,0.0383254) \n",
       " RGB{Float64}(0.510647,0.153378,0.0374438)\n",
       " RGB{Float64}(0.503152,0.150308,0.0365499)\n",
       " RGB{Float64}(0.495636,0.147232,0.0356445)\n",
       " RGB{Float64}(0.4881,0.144152,0.0347284)  \n",
       " RGB{Float64}(0.480543,0.141067,0.0338025)\n",
       " RGB{Float64}(0.472967,0.137977,0.0328676)\n",
       " RGB{Float64}(0.465372,0.134883,0.0319246)\n",
       " RGB{Float64}(0.457758,0.131783,0.0309745)\n",
       " RGB{Float64}(0.450125,0.128679,0.0300179)"
      ]
     },
     "execution_count": 33,
     "metadata": {},
     "output_type": "execute_result"
    }
   ],
   "source": [
    "c = colormap(\"oranges\", 255)"
   ]
  },
  {
   "cell_type": "code",
   "execution_count": null,
   "metadata": {
    "collapsed": false
   },
   "outputs": [],
   "source": []
  },
  {
   "cell_type": "code",
   "execution_count": 14,
   "metadata": {
    "collapsed": false
   },
   "outputs": [],
   "source": [
    "@edit colormap(\"green\")"
   ]
  },
  {
   "cell_type": "code",
   "execution_count": null,
   "metadata": {
    "collapsed": true
   },
   "outputs": [],
   "source": []
  }
 ],
 "metadata": {
  "kernelspec": {
   "display_name": "Julia 0.5.2",
   "language": "julia",
   "name": "julia-0.5"
  },
  "language_info": {
   "file_extension": ".jl",
   "mimetype": "application/julia",
   "name": "julia",
   "version": "0.5.2"
  }
 },
 "nbformat": 4,
 "nbformat_minor": 2
}
