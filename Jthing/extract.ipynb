{
 "cells": [
  {
   "cell_type": "code",
   "execution_count": 6,
   "metadata": {
    "scrolled": true
   },
   "outputs": [
    {
     "name": "stderr",
     "output_type": "stream",
     "text": [
      "WARNING: both DataFrames and Images export \"NA\"; uses of it in module Main must be qualified\n",
      "WARNING: both DataFrames and Images export \"data\"; uses of it in module Main must be qualified\n",
      "WARNING: both DataFrames and Images export \"entropy\"; uses of it in module Main must be qualified\n"
     ]
    }
   ],
   "source": [
    "using Plots, Interact,  Images;\n",
    "using DataFrames,ExcelReaders;\n",
    "using Logging;\n",
    "using ImageView\n",
    "push!(LOAD_PATH, \".\")\n",
    "# include(\"get_data.jl\");\n",
    "using ISCLib, Colors"
   ]
  },
  {
   "cell_type": "code",
   "execution_count": 9,
   "metadata": {
    "collapsed": true
   },
   "outputs": [],
   "source": [
    "dfr = readxl(DataFrame,joinpath(ISCLib.PATH,\"logs\",\"1.xlsx\"), \"Лист1!A1:G$(NEXP+1)\");"
   ]
  },
  {
   "cell_type": "code",
   "execution_count": 30,
   "metadata": {
    "collapsed": true
   },
   "outputs": [],
   "source": [
    "A = Array(dfr[[:Stimul,:Response,:Stimul_1]])\n",
    "s = Array(dfr[:Stimul_1]);"
   ]
  },
  {
   "cell_type": "code",
   "execution_count": 88,
   "metadata": {},
   "outputs": [
    {
     "data": {
      "image/svg+xml": [
       "<?xml version=\"1.0\" encoding=\"UTF-8\"?>\n",
       "<!DOCTYPE svg PUBLIC \"-//W3C//DTD SVG 1.1//EN\"\n",
       " \"http://www.w3.org/Graphics/SVG/1.1/DTD/svg11.dtd\">\n",
       "<svg xmlns=\"http://www.w3.org/2000/svg\" version=\"1.1\"\n",
       "     width=\"250.0mm\" height=\"25.0mm\"\n",
       "     shape-rendering=\"crispEdges\">\n",
       "<rect x=\"0.0mm\" y=\"0.0mm\"\n",
       "      width=\"2.7472527472527473mm\" height=\"25.0mm\"\n",
       "      fill=\"#B5E5F4\" stroke=\"none\" />\n",
       "<rect x=\"2.7472527472527473mm\" y=\"0.0mm\"\n",
       "      width=\"2.7472527472527473mm\" height=\"25.0mm\"\n",
       "      fill=\"#E42621\" stroke=\"none\" />\n",
       "<rect x=\"5.4945054945054945mm\" y=\"0.0mm\"\n",
       "      width=\"2.7472527472527473mm\" height=\"25.0mm\"\n",
       "      fill=\"#FF685B\" stroke=\"none\" />\n",
       "<rect x=\"8.241758241758241mm\" y=\"0.0mm\"\n",
       "      width=\"2.7472527472527473mm\" height=\"25.0mm\"\n",
       "      fill=\"#80CAEC\" stroke=\"none\" />\n",
       "<rect x=\"10.989010989010989mm\" y=\"0.0mm\"\n",
       "      width=\"2.7472527472527473mm\" height=\"25.0mm\"\n",
       "      fill=\"#FF9D8F\" stroke=\"none\" />\n",
       "<rect x=\"13.736263736263737mm\" y=\"0.0mm\"\n",
       "      width=\"2.7472527472527473mm\" height=\"25.0mm\"\n",
       "      fill=\"#FFC6BB\" stroke=\"none\" />\n",
       "<rect x=\"16.483516483516482mm\" y=\"0.0mm\"\n",
       "      width=\"2.7472527472527473mm\" height=\"25.0mm\"\n",
       "      fill=\"#FF9D8F\" stroke=\"none\" />\n",
       "<rect x=\"19.23076923076923mm\" y=\"0.0mm\"\n",
       "      width=\"2.7472527472527473mm\" height=\"25.0mm\"\n",
       "      fill=\"#E42621\" stroke=\"none\" />\n",
       "<rect x=\"21.978021978021978mm\" y=\"0.0mm\"\n",
       "      width=\"2.7472527472527473mm\" height=\"25.0mm\"\n",
       "      fill=\"#FF685B\" stroke=\"none\" />\n",
       "<rect x=\"24.725274725274726mm\" y=\"0.0mm\"\n",
       "      width=\"2.7472527472527473mm\" height=\"25.0mm\"\n",
       "      fill=\"#80CAEC\" stroke=\"none\" />\n",
       "<rect x=\"27.472527472527474mm\" y=\"0.0mm\"\n",
       "      width=\"2.7472527472527473mm\" height=\"25.0mm\"\n",
       "      fill=\"#FFC6BB\" stroke=\"none\" />\n",
       "<rect x=\"30.21978021978022mm\" y=\"0.0mm\"\n",
       "      width=\"2.7472527472527473mm\" height=\"25.0mm\"\n",
       "      fill=\"#B5E5F4\" stroke=\"none\" />\n",
       "<rect x=\"32.967032967032964mm\" y=\"0.0mm\"\n",
       "      width=\"2.7472527472527473mm\" height=\"25.0mm\"\n",
       "      fill=\"#FFC6BB\" stroke=\"none\" />\n",
       "<rect x=\"35.714285714285715mm\" y=\"0.0mm\"\n",
       "      width=\"2.7472527472527473mm\" height=\"25.0mm\"\n",
       "      fill=\"#B5E5F4\" stroke=\"none\" />\n",
       "<rect x=\"38.46153846153846mm\" y=\"0.0mm\"\n",
       "      width=\"2.7472527472527473mm\" height=\"25.0mm\"\n",
       "      fill=\"#FF685B\" stroke=\"none\" />\n",
       "<rect x=\"41.20879120879121mm\" y=\"0.0mm\"\n",
       "      width=\"2.7472527472527473mm\" height=\"25.0mm\"\n",
       "      fill=\"#B5E5F4\" stroke=\"none\" />\n",
       "<rect x=\"43.956043956043956mm\" y=\"0.0mm\"\n",
       "      width=\"2.7472527472527473mm\" height=\"25.0mm\"\n",
       "      fill=\"#FF685B\" stroke=\"none\" />\n",
       "<rect x=\"46.7032967032967mm\" y=\"0.0mm\"\n",
       "      width=\"2.7472527472527473mm\" height=\"25.0mm\"\n",
       "      fill=\"#80CAEC\" stroke=\"none\" />\n",
       "<rect x=\"49.45054945054945mm\" y=\"0.0mm\"\n",
       "      width=\"2.7472527472527473mm\" height=\"25.0mm\"\n",
       "      fill=\"#E42621\" stroke=\"none\" />\n",
       "<rect x=\"52.1978021978022mm\" y=\"0.0mm\"\n",
       "      width=\"2.7472527472527473mm\" height=\"25.0mm\"\n",
       "      fill=\"#FF9D8F\" stroke=\"none\" />\n",
       "<rect x=\"54.94505494505495mm\" y=\"0.0mm\"\n",
       "      width=\"2.7472527472527473mm\" height=\"25.0mm\"\n",
       "      fill=\"#80CAEC\" stroke=\"none\" />\n",
       "<rect x=\"57.69230769230769mm\" y=\"0.0mm\"\n",
       "      width=\"2.7472527472527473mm\" height=\"25.0mm\"\n",
       "      fill=\"#FF9D8F\" stroke=\"none\" />\n",
       "<rect x=\"60.43956043956044mm\" y=\"0.0mm\"\n",
       "      width=\"2.7472527472527473mm\" height=\"25.0mm\"\n",
       "      fill=\"#FFC6BB\" stroke=\"none\" />\n",
       "<rect x=\"63.18681318681319mm\" y=\"0.0mm\"\n",
       "      width=\"2.7472527472527473mm\" height=\"25.0mm\"\n",
       "      fill=\"#80CAEC\" stroke=\"none\" />\n",
       "<rect x=\"65.93406593406593mm\" y=\"0.0mm\"\n",
       "      width=\"2.7472527472527473mm\" height=\"25.0mm\"\n",
       "      fill=\"#FF685B\" stroke=\"none\" />\n",
       "<rect x=\"68.68131868131869mm\" y=\"0.0mm\"\n",
       "      width=\"2.7472527472527473mm\" height=\"25.0mm\"\n",
       "      fill=\"#FFC6BB\" stroke=\"none\" />\n",
       "<rect x=\"71.42857142857143mm\" y=\"0.0mm\"\n",
       "      width=\"2.7472527472527473mm\" height=\"25.0mm\"\n",
       "      fill=\"#E42621\" stroke=\"none\" />\n",
       "<rect x=\"74.17582417582418mm\" y=\"0.0mm\"\n",
       "      width=\"2.7472527472527473mm\" height=\"25.0mm\"\n",
       "      fill=\"#FF685B\" stroke=\"none\" />\n",
       "<rect x=\"76.92307692307692mm\" y=\"0.0mm\"\n",
       "      width=\"2.7472527472527473mm\" height=\"25.0mm\"\n",
       "      fill=\"#FF9D8F\" stroke=\"none\" />\n",
       "<rect x=\"79.67032967032966mm\" y=\"0.0mm\"\n",
       "      width=\"2.7472527472527473mm\" height=\"25.0mm\"\n",
       "      fill=\"#FFC6BB\" stroke=\"none\" />\n",
       "<rect x=\"82.41758241758242mm\" y=\"0.0mm\"\n",
       "      width=\"2.7472527472527473mm\" height=\"25.0mm\"\n",
       "      fill=\"#FF9D8F\" stroke=\"none\" />\n",
       "<rect x=\"85.16483516483517mm\" y=\"0.0mm\"\n",
       "      width=\"2.7472527472527473mm\" height=\"25.0mm\"\n",
       "      fill=\"#FFC6BB\" stroke=\"none\" />\n",
       "<rect x=\"87.91208791208791mm\" y=\"0.0mm\"\n",
       "      width=\"2.7472527472527473mm\" height=\"25.0mm\"\n",
       "      fill=\"#80CAEC\" stroke=\"none\" />\n",
       "<rect x=\"90.65934065934066mm\" y=\"0.0mm\"\n",
       "      width=\"2.7472527472527473mm\" height=\"25.0mm\"\n",
       "      fill=\"#FF685B\" stroke=\"none\" />\n",
       "<rect x=\"93.4065934065934mm\" y=\"0.0mm\"\n",
       "      width=\"2.7472527472527473mm\" height=\"25.0mm\"\n",
       "      fill=\"#E42621\" stroke=\"none\" />\n",
       "<rect x=\"96.15384615384616mm\" y=\"0.0mm\"\n",
       "      width=\"2.7472527472527473mm\" height=\"25.0mm\"\n",
       "      fill=\"#80CAEC\" stroke=\"none\" />\n",
       "<rect x=\"98.9010989010989mm\" y=\"0.0mm\"\n",
       "      width=\"2.7472527472527473mm\" height=\"25.0mm\"\n",
       "      fill=\"#E42621\" stroke=\"none\" />\n",
       "<rect x=\"101.64835164835165mm\" y=\"0.0mm\"\n",
       "      width=\"2.7472527472527473mm\" height=\"25.0mm\"\n",
       "      fill=\"#FF685B\" stroke=\"none\" />\n",
       "<rect x=\"104.3956043956044mm\" y=\"0.0mm\"\n",
       "      width=\"2.7472527472527473mm\" height=\"25.0mm\"\n",
       "      fill=\"#FFC6BB\" stroke=\"none\" />\n",
       "<rect x=\"107.14285714285714mm\" y=\"0.0mm\"\n",
       "      width=\"2.7472527472527473mm\" height=\"25.0mm\"\n",
       "      fill=\"#FF9D8F\" stroke=\"none\" />\n",
       "<rect x=\"109.8901098901099mm\" y=\"0.0mm\"\n",
       "      width=\"2.7472527472527473mm\" height=\"25.0mm\"\n",
       "      fill=\"#E42621\" stroke=\"none\" />\n",
       "<rect x=\"112.63736263736264mm\" y=\"0.0mm\"\n",
       "      width=\"2.7472527472527473mm\" height=\"25.0mm\"\n",
       "      fill=\"#80CAEC\" stroke=\"none\" />\n",
       "<rect x=\"115.38461538461539mm\" y=\"0.0mm\"\n",
       "      width=\"2.7472527472527473mm\" height=\"25.0mm\"\n",
       "      fill=\"#FFC6BB\" stroke=\"none\" />\n",
       "<rect x=\"118.13186813186813mm\" y=\"0.0mm\"\n",
       "      width=\"2.7472527472527473mm\" height=\"25.0mm\"\n",
       "      fill=\"#B5E5F4\" stroke=\"none\" />\n",
       "<rect x=\"120.87912087912088mm\" y=\"0.0mm\"\n",
       "      width=\"2.7472527472527473mm\" height=\"25.0mm\"\n",
       "      fill=\"#80CAEC\" stroke=\"none\" />\n",
       "<rect x=\"123.62637362637362mm\" y=\"0.0mm\"\n",
       "      width=\"2.7472527472527473mm\" height=\"25.0mm\"\n",
       "      fill=\"#B5E5F4\" stroke=\"none\" />\n",
       "<rect x=\"126.37362637362638mm\" y=\"0.0mm\"\n",
       "      width=\"2.7472527472527473mm\" height=\"25.0mm\"\n",
       "      fill=\"#E42621\" stroke=\"none\" />\n",
       "<rect x=\"129.12087912087912mm\" y=\"0.0mm\"\n",
       "      width=\"2.7472527472527473mm\" height=\"25.0mm\"\n",
       "      fill=\"#FFC6BB\" stroke=\"none\" />\n",
       "<rect x=\"131.86813186813185mm\" y=\"0.0mm\"\n",
       "      width=\"2.7472527472527473mm\" height=\"25.0mm\"\n",
       "      fill=\"#FF9D8F\" stroke=\"none\" />\n",
       "<rect x=\"134.6153846153846mm\" y=\"0.0mm\"\n",
       "      width=\"2.7472527472527473mm\" height=\"25.0mm\"\n",
       "      fill=\"#FFC6BB\" stroke=\"none\" />\n",
       "<rect x=\"137.36263736263737mm\" y=\"0.0mm\"\n",
       "      width=\"2.7472527472527473mm\" height=\"25.0mm\"\n",
       "      fill=\"#E42621\" stroke=\"none\" />\n",
       "<rect x=\"140.1098901098901mm\" y=\"0.0mm\"\n",
       "      width=\"2.7472527472527473mm\" height=\"25.0mm\"\n",
       "      fill=\"#FF685B\" stroke=\"none\" />\n",
       "<rect x=\"142.85714285714286mm\" y=\"0.0mm\"\n",
       "      width=\"2.7472527472527473mm\" height=\"25.0mm\"\n",
       "      fill=\"#FFC6BB\" stroke=\"none\" />\n",
       "<rect x=\"145.6043956043956mm\" y=\"0.0mm\"\n",
       "      width=\"2.7472527472527473mm\" height=\"25.0mm\"\n",
       "      fill=\"#80CAEC\" stroke=\"none\" />\n",
       "<rect x=\"148.35164835164835mm\" y=\"0.0mm\"\n",
       "      width=\"2.7472527472527473mm\" height=\"25.0mm\"\n",
       "      fill=\"#FF685B\" stroke=\"none\" />\n",
       "<rect x=\"151.0989010989011mm\" y=\"0.0mm\"\n",
       "      width=\"2.7472527472527473mm\" height=\"25.0mm\"\n",
       "      fill=\"#B5E5F4\" stroke=\"none\" />\n",
       "<rect x=\"153.84615384615384mm\" y=\"0.0mm\"\n",
       "      width=\"2.7472527472527473mm\" height=\"25.0mm\"\n",
       "      fill=\"#FF685B\" stroke=\"none\" />\n",
       "<rect x=\"156.5934065934066mm\" y=\"0.0mm\"\n",
       "      width=\"2.7472527472527473mm\" height=\"25.0mm\"\n",
       "      fill=\"#80CAEC\" stroke=\"none\" />\n",
       "<rect x=\"159.34065934065933mm\" y=\"0.0mm\"\n",
       "      width=\"2.7472527472527473mm\" height=\"25.0mm\"\n",
       "      fill=\"#FF685B\" stroke=\"none\" />\n",
       "<rect x=\"162.0879120879121mm\" y=\"0.0mm\"\n",
       "      width=\"2.7472527472527473mm\" height=\"25.0mm\"\n",
       "      fill=\"#B5E5F4\" stroke=\"none\" />\n",
       "<rect x=\"164.83516483516485mm\" y=\"0.0mm\"\n",
       "      width=\"2.7472527472527473mm\" height=\"25.0mm\"\n",
       "      fill=\"#FFC6BB\" stroke=\"none\" />\n",
       "<rect x=\"167.58241758241758mm\" y=\"0.0mm\"\n",
       "      width=\"2.7472527472527473mm\" height=\"25.0mm\"\n",
       "      fill=\"#FF9D8F\" stroke=\"none\" />\n",
       "<rect x=\"170.32967032967034mm\" y=\"0.0mm\"\n",
       "      width=\"2.7472527472527473mm\" height=\"25.0mm\"\n",
       "      fill=\"#E42621\" stroke=\"none\" />\n",
       "<rect x=\"173.07692307692307mm\" y=\"0.0mm\"\n",
       "      width=\"2.7472527472527473mm\" height=\"25.0mm\"\n",
       "      fill=\"#B5E5F4\" stroke=\"none\" />\n",
       "<rect x=\"175.82417582417582mm\" y=\"0.0mm\"\n",
       "      width=\"2.7472527472527473mm\" height=\"25.0mm\"\n",
       "      fill=\"#FF9D8F\" stroke=\"none\" />\n",
       "<rect x=\"178.57142857142858mm\" y=\"0.0mm\"\n",
       "      width=\"2.7472527472527473mm\" height=\"25.0mm\"\n",
       "      fill=\"#FF685B\" stroke=\"none\" />\n",
       "<rect x=\"181.3186813186813mm\" y=\"0.0mm\"\n",
       "      width=\"2.7472527472527473mm\" height=\"25.0mm\"\n",
       "      fill=\"#E42621\" stroke=\"none\" />\n",
       "<rect x=\"184.06593406593407mm\" y=\"0.0mm\"\n",
       "      width=\"2.7472527472527473mm\" height=\"25.0mm\"\n",
       "      fill=\"#FF9D8F\" stroke=\"none\" />\n",
       "<rect x=\"186.8131868131868mm\" y=\"0.0mm\"\n",
       "      width=\"2.7472527472527473mm\" height=\"25.0mm\"\n",
       "      fill=\"#FFC6BB\" stroke=\"none\" />\n",
       "<rect x=\"189.56043956043956mm\" y=\"0.0mm\"\n",
       "      width=\"2.7472527472527473mm\" height=\"25.0mm\"\n",
       "      fill=\"#80CAEC\" stroke=\"none\" />\n",
       "<rect x=\"192.30769230769232mm\" y=\"0.0mm\"\n",
       "      width=\"2.7472527472527473mm\" height=\"25.0mm\"\n",
       "      fill=\"#FFC6BB\" stroke=\"none\" />\n",
       "<rect x=\"195.05494505494505mm\" y=\"0.0mm\"\n",
       "      width=\"2.7472527472527473mm\" height=\"25.0mm\"\n",
       "      fill=\"#B5E5F4\" stroke=\"none\" />\n",
       "<rect x=\"197.8021978021978mm\" y=\"0.0mm\"\n",
       "      width=\"2.7472527472527473mm\" height=\"25.0mm\"\n",
       "      fill=\"#80CAEC\" stroke=\"none\" />\n",
       "<rect x=\"200.54945054945054mm\" y=\"0.0mm\"\n",
       "      width=\"2.7472527472527473mm\" height=\"25.0mm\"\n",
       "      fill=\"#B5E5F4\" stroke=\"none\" />\n",
       "<rect x=\"203.2967032967033mm\" y=\"0.0mm\"\n",
       "      width=\"2.7472527472527473mm\" height=\"25.0mm\"\n",
       "      fill=\"#FF9D8F\" stroke=\"none\" />\n",
       "<rect x=\"206.04395604395606mm\" y=\"0.0mm\"\n",
       "      width=\"2.7472527472527473mm\" height=\"25.0mm\"\n",
       "      fill=\"#E42621\" stroke=\"none\" />\n",
       "<rect x=\"208.7912087912088mm\" y=\"0.0mm\"\n",
       "      width=\"2.7472527472527473mm\" height=\"25.0mm\"\n",
       "      fill=\"#B5E5F4\" stroke=\"none\" />\n",
       "<rect x=\"211.53846153846155mm\" y=\"0.0mm\"\n",
       "      width=\"2.7472527472527473mm\" height=\"25.0mm\"\n",
       "      fill=\"#E42621\" stroke=\"none\" />\n",
       "<rect x=\"214.28571428571428mm\" y=\"0.0mm\"\n",
       "      width=\"2.7472527472527473mm\" height=\"25.0mm\"\n",
       "      fill=\"#80CAEC\" stroke=\"none\" />\n",
       "<rect x=\"217.03296703296704mm\" y=\"0.0mm\"\n",
       "      width=\"2.7472527472527473mm\" height=\"25.0mm\"\n",
       "      fill=\"#E42621\" stroke=\"none\" />\n",
       "<rect x=\"219.7802197802198mm\" y=\"0.0mm\"\n",
       "      width=\"2.7472527472527473mm\" height=\"25.0mm\"\n",
       "      fill=\"#B5E5F4\" stroke=\"none\" />\n",
       "<rect x=\"222.52747252747253mm\" y=\"0.0mm\"\n",
       "      width=\"2.7472527472527473mm\" height=\"25.0mm\"\n",
       "      fill=\"#FF9D8F\" stroke=\"none\" />\n",
       "<rect x=\"225.27472527472528mm\" y=\"0.0mm\"\n",
       "      width=\"2.7472527472527473mm\" height=\"25.0mm\"\n",
       "      fill=\"#FF685B\" stroke=\"none\" />\n",
       "<rect x=\"228.02197802197801mm\" y=\"0.0mm\"\n",
       "      width=\"2.7472527472527473mm\" height=\"25.0mm\"\n",
       "      fill=\"#80CAEC\" stroke=\"none\" />\n",
       "<rect x=\"230.76923076923077mm\" y=\"0.0mm\"\n",
       "      width=\"2.7472527472527473mm\" height=\"25.0mm\"\n",
       "      fill=\"#B5E5F4\" stroke=\"none\" />\n",
       "<rect x=\"233.5164835164835mm\" y=\"0.0mm\"\n",
       "      width=\"2.7472527472527473mm\" height=\"25.0mm\"\n",
       "      fill=\"#FF9D8F\" stroke=\"none\" />\n",
       "<rect x=\"236.26373626373626mm\" y=\"0.0mm\"\n",
       "      width=\"2.7472527472527473mm\" height=\"25.0mm\"\n",
       "      fill=\"#B5E5F4\" stroke=\"none\" />\n",
       "<rect x=\"239.01098901098902mm\" y=\"0.0mm\"\n",
       "      width=\"2.7472527472527473mm\" height=\"25.0mm\"\n",
       "      fill=\"#FF685B\" stroke=\"none\" />\n",
       "<rect x=\"241.75824175824175mm\" y=\"0.0mm\"\n",
       "      width=\"2.7472527472527473mm\" height=\"25.0mm\"\n",
       "      fill=\"#E42621\" stroke=\"none\" />\n",
       "<rect x=\"244.5054945054945mm\" y=\"0.0mm\"\n",
       "      width=\"2.7472527472527473mm\" height=\"25.0mm\"\n",
       "      fill=\"#FF9D8F\" stroke=\"none\" />\n",
       "<rect x=\"247.25274725274724mm\" y=\"0.0mm\"\n",
       "      width=\"2.7472527472527473mm\" height=\"25.0mm\"\n",
       "      fill=\"#B5E5F4\" stroke=\"none\" />\n",
       "</svg>"
      ],
      "text/plain": [
       "91-element Array{RGB{Float64},1}:\n",
       " RGB{Float64}(0.71022,0.896476,0.958597) \n",
       " RGB{Float64}(0.893948,0.148863,0.13017) \n",
       " RGB{Float64}(1.0,0.409234,0.355349)     \n",
       " RGB{Float64}(0.501711,0.792682,0.927251)\n",
       " RGB{Float64}(1.0,0.616514,0.561631)     \n",
       " RGB{Float64}(1.0,0.775445,0.734515)     \n",
       " RGB{Float64}(1.0,0.616514,0.561631)     \n",
       " RGB{Float64}(0.893948,0.148863,0.13017) \n",
       " RGB{Float64}(1.0,0.409234,0.355349)     \n",
       " RGB{Float64}(0.501711,0.792682,0.927251)\n",
       " RGB{Float64}(1.0,0.775445,0.734515)     \n",
       " RGB{Float64}(0.71022,0.896476,0.958597) \n",
       " RGB{Float64}(1.0,0.775445,0.734515)     \n",
       " ⋮                                       \n",
       " RGB{Float64}(0.893948,0.148863,0.13017) \n",
       " RGB{Float64}(0.71022,0.896476,0.958597) \n",
       " RGB{Float64}(1.0,0.616514,0.561631)     \n",
       " RGB{Float64}(1.0,0.409234,0.355349)     \n",
       " RGB{Float64}(0.501711,0.792682,0.927251)\n",
       " RGB{Float64}(0.71022,0.896476,0.958597) \n",
       " RGB{Float64}(1.0,0.616514,0.561631)     \n",
       " RGB{Float64}(0.71022,0.896476,0.958597) \n",
       " RGB{Float64}(1.0,0.409234,0.355349)     \n",
       " RGB{Float64}(0.893948,0.148863,0.13017) \n",
       " RGB{Float64}(1.0,0.616514,0.561631)     \n",
       " RGB{Float64}(0.71022,0.896476,0.958597) "
      ]
     },
     "execution_count": 88,
     "metadata": {},
     "output_type": "execute_result"
    }
   ],
   "source": [
    "Rs = colormap(\"reds\", 30, mid=0.1, logscale=false)[8:5:end]\n",
    "Bs = colormap(\"blues\", 30, mid=0.1, logscale=false)[8:5:end]\n",
    "cols = map(x->x[1]=='V'?Rs[Int(x[2])-Int('0')]:Bs[Int(x[2])-Int('0')], s)"
   ]
  },
  {
   "cell_type": "code",
   "execution_count": 90,
   "metadata": {},
   "outputs": [
    {
     "data": {
      "text/plain": [
       "\"/run/media/ashedko/5cdd1287-7dba-4138-8a1b-91148f9f8ab5/ashedko/UNC/\""
      ]
     },
     "execution_count": 90,
     "metadata": {},
     "output_type": "execute_result"
    }
   ],
   "source": [
    "ISCLib.PATH"
   ]
  },
  {
   "cell_type": "code",
   "execution_count": 2,
   "metadata": {
    "scrolled": true
   },
   "outputs": [
    {
     "data": {
      "text/plain": [
       "(Array{Int64,1}[[94791,94793,94881,94882,94883,94884,94885,94972,94973,94974  …  145113,145114,145119,145120,145210,154575,154576,154667,154758,155129],[95398,95399,95400,95488,95489,95490,95491,95579,95580,95581  …  155090,155091,155092,155093,155182,155183,155184,165011,165101,165102],[295261,295351,295352,295442,305180,305181,305271,305272,315099,315100,315190,325109],[310288,310379,310380,310469,310470,310471,310472,310560,310561,310562  …  330307,330308,330309,330310,330398,330399,330400,330401,330490,330491],[325562,325563,325652,325653,325654,335481,335482,335571,335572,335573],[348923,349013,349014,349103,349104,349105,349194,349195,358841,358842  …  408803,418447,418448,418537,418538,418539,418540,418629,418630,418631],[368793,368794,378711,378712,378713,378714,388540,388541,388630,388631  …  408470,408471,408561,418205,418295,418296,418297,418387,418388,418389],[370360,370451,380370],[380628,380629,380720,390456,390457,390547,390548,390639,390640,400375  …  400467,410204,410295,410386,420214,420215,420305,420306,430134,430225],[390310,390401,400229,400320,400411,410057,410148,410239,419976]  …  [579242,579422,579512,579513,579603,588979,589069,589070,589071,589160  …  599079,599080,599081,599170,599171,599172,599260,599261,599262,608908],[588009,588099,588100,597745,597746,597835,597836,597837,597838,597926  …  687653,687654,687655,687745,687746,697477,697478,697571,697663,697664],[589147],[589200,599119,599120,609039],[599067,599157,599158,608895,608986,608987,609077,609167,609168,618906,618996,619087],[628644,628645,638564,638565],[648212],[658132],[658183],[727872,727873]],\n",
       "[0.0 0.0 … 0.0 0.0; 0.0 0.0 … 0.0 0.0; … ; 0.0 0.0 … 0.0 0.0; 0.0 0.0 … 0.0 0.0]\n",
       "\n",
       "[0.0 0.0 … 0.0 0.0; 0.0 0.0 … 0.0 0.0; … ; 0.0 0.0 … 0.0 0.0; 0.0 0.0 … 0.0 0.0]\n",
       "\n",
       "[0.0 0.0 … 0.0 0.0; 0.0 0.0 … 0.0 0.0; … ; 0.0 0.0 … 0.0 0.0; 0.0 0.0 … 0.0 0.0]\n",
       "\n",
       "...\n",
       "\n",
       "[0.0 0.0 … 0.0 0.0; 0.0 0.0 … 0.0 0.0; … ; 0.0 0.0 … 0.0 0.0; 0.0 0.0 … 0.0 0.0]\n",
       "\n",
       "[0.0 0.0 … 0.0 0.0; 0.0 0.0 … 0.0 0.0; … ; 0.0 0.0 … 0.0 0.0; 0.0 0.0 … 0.0 0.0]\n",
       "\n",
       "[0.0 0.0 … 0.0 0.0; 0.0 0.0 … 0.0 0.0; … ; 0.0 0.0 … 0.0 0.0; 0.0 0.0 … 0.0 0.0],\n",
       "\n",
       "Float32[0.0 0.0 … 0.0 0.0; 0.0 0.0 … 0.0 0.0; … ; 0.0 0.0 … 0.0 0.0; 0.0 0.0 … 0.0 0.0]\n",
       "\n",
       "Float32[0.0 0.0 … 0.0 0.0; 0.0 0.0 … 0.0 0.0; … ; 0.0 0.0 … 0.0 0.0; 0.0 0.0 … 0.0 0.0]\n",
       "\n",
       "Float32[0.0 0.0 … 0.0 0.0; 0.0 0.0 … 0.0 0.0; … ; 0.0 0.0 … 0.0 0.0; 0.0 0.0 … 0.0 0.0]\n",
       "\n",
       "...\n",
       "\n",
       "Float32[0.0 0.0 … 0.0 0.0; 0.0 0.0 … 0.0 0.0; … ; 0.0 0.0 … 0.0 0.0; 0.0 0.0 … 0.0 0.0]\n",
       "\n",
       "Float32[0.0 0.0 … 0.0 0.0; 0.0 0.0 … 0.0 0.0; … ; 0.0 0.0 … 0.0 0.0; 0.0 0.0 … 0.0 0.0]\n",
       "\n",
       "Float32[0.0 0.0 … 0.0 0.0; 0.0 0.0 … 0.0 0.0; … ; 0.0 0.0 … 0.0 0.0; 0.0 0.0 … 0.0 0.0],\n",
       "\n",
       "Float32[0.0 0.0 … 0.0 0.0; 0.0 0.0 … 0.0 0.0; … ; 0.0 0.0 … 0.0 0.0; 0.0 0.0 … 0.0 0.0]\n",
       "\n",
       "Float32[0.0 0.0 … 0.0 0.0; 0.0 0.0 … 0.0 0.0; … ; 0.0 0.0 … 0.0 0.0; 0.0 0.0 … 0.0 0.0]\n",
       "\n",
       "Float32[0.0 0.0 … 0.0 0.0; 0.0 0.0 … 0.0 0.0; … ; 0.0 0.0 … 0.0 0.0; 0.0 0.0 … 0.0 0.0]\n",
       "\n",
       "...\n",
       "\n",
       "Float32[0.0 0.0 … 0.0 0.0; 0.0 0.0 … 0.0 0.0; … ; 0.0 0.0 … 0.0 0.0; 0.0 0.0 … 0.0 0.0]\n",
       "\n",
       "Float32[0.0 0.0 … 0.0 0.0; 0.0 0.0 … 0.0 0.0; … ; 0.0 0.0 … 0.0 0.0; 0.0 0.0 … 0.0 0.0]\n",
       "\n",
       "Float32[0.0 0.0 … 0.0 0.0; 0.0 0.0 … 0.0 0.0; … ; 0.0 0.0 … 0.0 0.0; 0.0 0.0 … 0.0 0.0])"
      ]
     },
     "execution_count": 2,
     "metadata": {},
     "output_type": "execute_result"
    }
   ],
   "source": [
    "groups,msk,med,coeff_of_var,atl,labels\n",
    "\n",
    "# A = rand(3,300)\n",
    "# for i in 1:size(A,2)\n",
    "#     c = view(A,:,i)\n",
    "#     display(c)\n",
    "# end\n",
    "\n",
    "# view(A,:,4)\n",
    "\n",
    "Gray.(mask)"
   ]
  },
  {
   "cell_type": "code",
   "execution_count": 240,
   "metadata": {
    "collapsed": true
   },
   "outputs": [],
   "source": [
    "groups,mask,med,coeff_of_var = get_segment();"
   ]
  },
  {
   "cell_type": "code",
   "execution_count": 35,
   "metadata": {
    "collapsed": true
   },
   "outputs": [],
   "source": [
    "δVol = [[i,j,k] for i in -1:1 for j in -1:1 for k in -1:1];"
   ]
  },
  {
   "cell_type": "code",
   "execution_count": 163,
   "metadata": {},
   "outputs": [
    {
     "data": {
      "text/plain": [
       "rndsample (generic function with 2 methods)"
      ]
     },
     "execution_count": 163,
     "metadata": {},
     "output_type": "execute_result"
    }
   ],
   "source": []
  },
  {
   "cell_type": "code",
   "execution_count": 302,
   "metadata": {},
   "outputs": [
    {
     "name": "stderr",
     "output_type": "stream",
     "text": [
      "WARNING: Method definition get_params(Any, Any) in module Main at In[292]:2 overwritten at In[302]:2.\n",
      "WARNING: Method definition get_params(Any, Any, Any) in module Main at In[292]:2 overwritten at In[302]:2.\n"
     ]
    },
    {
     "data": {
      "text/plain": [
       "get_params (generic function with 2 methods)"
      ]
     },
     "execution_count": 302,
     "metadata": {},
     "output_type": "execute_result"
    }
   ],
   "source": [
    "function get_params(niis,mask, num = 3)   \n",
    "    len  = length(niis)\n",
    "    step = div(len,num)\n",
    "    frames = map(x -> x.raw[mask],niis)\n",
    "    ms = [mean(frames[1: min(i,len)]) for i=1:step:step*4]   \n",
    "    return vcat(ms...)    \n",
    "end"
   ]
  },
  {
   "cell_type": "code",
   "execution_count": 304,
   "metadata": {},
   "outputs": [
    {
     "name": "stdout",
     "output_type": "stream",
     "text": [
      " 51.174985 seconds (4.01 M allocations: 300.943 MB, 0.22% gc time)\n"
     ]
    },
    {
     "name": "stderr",
     "output_type": "stream",
     "text": [
      "WARNING: Method definition get_data(Any) in module Main at In[298]:2 overwritten at In[304]:2.\n",
      "WARNING: Method definition get_data(Any, Real) in module Main at In[298]:2 overwritten at In[304]:2.\n",
      "WARNING: Method definition get_data(Any, Real, Any) in module Main at In[298]:2 overwritten at In[304]:2.\n",
      "WARNING: Method definition get_data(Any, Real, Any, Any) in module Main at In[298]:2 overwritten at In[304]:2.\n"
     ]
    }
   ],
   "source": [
    "function get_data(mask, perc::Real = 0.2, transform = s->s[1]=='S',num = 3)\n",
    "    coll = []\n",
    "    for subj in shuffle(1:NSUBJ)\n",
    "        data = readxl(DataFrame,joinpath(ISCLib.PATH,\"logs\",\"$subj.xlsx\"), \"Лист1!A1:G$(NEXP+1)\");\n",
    "        \n",
    "        data[:Stimul_1] = map(transform,data[:Stimul_1])\n",
    "        data[:Stimul] = map(Int,(ceil.(2*data[:Stimul])))\n",
    "        data[:Response] = map(Int,(ceil.(2*data[:Response])))\n",
    "        ind_end = data[[:Stimul,:Response,:Stimul_1]][2:end-2,:]\n",
    "        push!(coll,(subj,ind_end))\n",
    "    end\n",
    "    count = 0\n",
    "    ds = []\n",
    "    \n",
    "    for col in coll\n",
    "        subj = col[1]\n",
    "        dfr = col[2]\n",
    "        idxs = Array(rndsample(dfr,perc))'\n",
    "        for i in 1:size(idxs,2)\n",
    "            row = view(idxs, :, i)\n",
    "            if row[2]- row[1] < num\n",
    "                continue\n",
    "            else\n",
    "                params = get_params(get_niis(subj,row[1]:row[2]),mask, num)\n",
    "                push!(ds,(params,row[3]))\n",
    "            end\n",
    "        end\n",
    "    end\n",
    "    ds\n",
    "end\n",
    "@time data = get_data(mask.>0.6, 0.1);"
   ]
  },
  {
   "cell_type": "code",
   "execution_count": 319,
   "metadata": {
    "collapsed": true
   },
   "outputs": [],
   "source": [
    "# vcat(data[1][1]...),data[1][2]\n",
    "# histogram(data[1][1])\n"
   ]
  },
  {
   "cell_type": "code",
   "execution_count": 372,
   "metadata": {
    "scrolled": false
   },
   "outputs": [
    {
     "data": {
      "text/plain": [
       "5-element Array{Any,1}:\n",
       " (1,6)  \n",
       " (7,12) \n",
       " (13,18)\n",
       " (19,24)\n",
       " (25,28)"
      ]
     },
     "execution_count": 372,
     "metadata": {},
     "output_type": "execute_result"
    }
   ],
   "source": [
    "num = 5\n",
    "len = 28\n",
    "stp = Int(ceil(len/num))\n",
    "frames = rand(len)\n",
    "ms = Any[0 for i in 1:num]\n",
    "for i = 1:num\n",
    "  ms[i] = (1+stp*(i-1), min(stp*i,len))\n",
    "end\n",
    "ms"
   ]
  },
  {
   "cell_type": "code",
   "execution_count": 95,
   "metadata": {
    "collapsed": true
   },
   "outputs": [],
   "source": [
    "df1 = readxl(DataFrame,joinpath(ISCLib.PATH,\"logs\",\"1.xlsx\"), \"Лист1!A1:G$(NEXP+1)\");\n",
    "df2 = readxl(DataFrame,joinpath(ISCLib.PATH,\"logs\",\"2.xlsx\"), \"Лист1!A1:G$(NEXP+1)\");"
   ]
  },
  {
   "cell_type": "code",
   "execution_count": 320,
   "metadata": {
    "collapsed": true
   },
   "outputs": [],
   "source": [
    "# df1[[:Stimul,:Response]]\n",
    "# transform(s) = s[1]=='S'"
   ]
  },
  {
   "cell_type": "code",
   "execution_count": 167,
   "metadata": {},
   "outputs": [
    {
     "data": {
      "text/plain": [
       "true"
      ]
     },
     "execution_count": 167,
     "metadata": {},
     "output_type": "execute_result"
    }
   ],
   "source": [
    "s = \"s11\"\n",
    "s[1]=='s'"
   ]
  },
  {
   "cell_type": "code",
   "execution_count": null,
   "metadata": {
    "collapsed": true
   },
   "outputs": [],
   "source": []
  },
  {
   "cell_type": "code",
   "execution_count": null,
   "metadata": {},
   "outputs": [],
   "source": []
  },
  {
   "cell_type": "code",
   "execution_count": 8,
   "metadata": {},
   "outputs": [
    {
     "data": {
      "text/plain": [
       "(Colon(),Colon(),Colon())"
      ]
     },
     "execution_count": 8,
     "metadata": {},
     "output_type": "execute_result"
    }
   ],
   "source": [
    "ntuple(d->Colon(),Val{3})"
   ]
  },
  {
   "cell_type": "code",
   "execution_count": 93,
   "metadata": {
    "collapsed": true
   },
   "outputs": [],
   "source": [
    "ni = niread(\"out/isc_r.nii\");"
   ]
  },
  {
   "cell_type": "code",
   "execution_count": 97,
   "metadata": {},
   "outputs": [
    {
     "data": {
      "text/plain": [
       "(28, 70, 13)"
      ]
     },
     "execution_count": 97,
     "metadata": {},
     "output_type": "execute_result"
    }
   ],
   "source": [
    "ind2sub(SHAPE,findmax(ni)[2])"
   ]
  },
  {
   "cell_type": "code",
   "execution_count": 3,
   "metadata": {},
   "outputs": [
    {
     "ename": "LoadError",
     "evalue": "\u001b[91mUndefVarError: dilate not defined\u001b[39m",
     "output_type": "error",
     "traceback": [
      "\u001b[91mUndefVarError: dilate not defined\u001b[39m",
      "",
      "Stacktrace:",
      " [1] \u001b[1mexecute_request\u001b[22m\u001b[22m\u001b[1m(\u001b[22m\u001b[22m::ZMQ.Socket, ::IJulia.Msg\u001b[1m)\u001b[22m\u001b[22m at \u001b[1m/home/ashedko/.julia/v0.6/IJulia/src/execute_request.jl:160\u001b[22m\u001b[22m",
      " [2] \u001b[1meventloop\u001b[22m\u001b[22m\u001b[1m(\u001b[22m\u001b[22m::ZMQ.Socket\u001b[1m)\u001b[22m\u001b[22m at \u001b[1m/home/ashedko/.julia/v0.6/IJulia/src/eventloop.jl:8\u001b[22m\u001b[22m",
      " [3] \u001b[1m(::IJulia.##11#14)\u001b[22m\u001b[22m\u001b[1m(\u001b[22m\u001b[22m\u001b[1m)\u001b[22m\u001b[22m at \u001b[1m./task.jl:335\u001b[22m\u001b[22m"
     ]
    }
   ],
   "source": [
    "dilatete"
   ]
  },
  {
   "cell_type": "code",
   "execution_count": null,
   "metadata": {
    "collapsed": true
   },
   "outputs": [],
   "source": []
  }
 ],
 "metadata": {
  "kernelspec": {
   "display_name": "Julia 0.5.2",
   "language": "julia",
   "name": "julia-0.5"
  },
  "language_info": {
   "file_extension": ".jl",
   "mimetype": "application/julia",
   "name": "julia",
   "version": "0.6.0"
  }
 },
 "nbformat": 4,
 "nbformat_minor": 2
}
