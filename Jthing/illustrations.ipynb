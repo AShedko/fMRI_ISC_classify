{
 "cells": [
  {
   "cell_type": "code",
   "execution_count": 55,
   "metadata": {},
   "outputs": [
    {
     "name": "stderr",
     "output_type": "stream",
     "text": [
      "WARNING: using ImageView.annotate! in module Main conflicts with an existing identifier.\n"
     ]
    }
   ],
   "source": [
    "using Plots, Interact, Images;\n",
    "using DataFrames, ExcelReaders;\n",
    "# using Logging;\n",
    "using ImageView\n",
    "push!(LOAD_PATH, \".\")\n",
    "using ISCLib, Colors\n",
    "using HypothesisTests, HDF5, NIfTI\n",
    "using Distributions"
   ]
  },
  {
   "cell_type": "code",
   "execution_count": 1,
   "metadata": {
    "scrolled": true
   },
   "outputs": [],
   "source": [
    "🐱 = \"cat\"\n",
    "abstract type Animal end    \n",
    "struct 🐵 <: Animal\n",
    "    has_tail::Bool\n",
    "end"
   ]
  },
  {
   "cell_type": "code",
   "execution_count": 5,
   "metadata": {},
   "outputs": [
    {
     "data": {
      "text/plain": [
       "🐵(true)"
      ]
     },
     "execution_count": 5,
     "metadata": {},
     "output_type": "execute_result"
    }
   ],
   "source": [
    "a = 🐵(true)\n"
   ]
  },
  {
   "cell_type": "code",
   "execution_count": 30,
   "metadata": {},
   "outputs": [],
   "source": [
    "function TTest(x::AbstractVector, y::AbstractVector, μ0=0)\n",
    "    nx, ny = length(x), length(y)    \n",
    "    m1, m2 = sum(x)/nx,sum(y)/ny\n",
    "    xbar = m1-m2\n",
    "    varx, vary = reduce((a,b)-> a+(b-m1).^2, x)/(nx-1), reduce((a,b)-> a+(b-m2).^2, y)/(ny-1)\n",
    "    stderr = sqrt.(varx/nx + vary/ny)\n",
    "    t = (xbar-μ0)./stderr    \n",
    "    df = (varx ./ nx + vary ./ ny).^2 ./ ((varx / nx).^2 ./ (nx - 1) + (vary ./ ny).^2 / (ny - 1))\n",
    "    (nx, ny, xbar, df, stderr, t)\n",
    "end\n",
    "\n",
    "sind = get_indexes(1,[\"S1\",\"S2\"]);\n",
    "vind = get_indexes(1,[\"V1\",\"V2\",\"V3\",\"V4\"]);\n",
    "S_seq = vcat([get_niis(1,sind[i,1]:sind[i,2]) for i =1:size(sind,1)]...);\n",
    "V_seq = vcat([get_niis(1,vind[i,1]:vind[i,2]) for i =1:size(vind,1)]...);\n",
    "(nx, ny, xbar, df, stderr, t) = TTest(S_seq,V_seq);\n",
    "\n",
    "df = (x->isnan(x)?0:x).(df)\n",
    "t = (x->isnan(x)?0:x).(t)\n",
    "pvals = zeros(df)\n",
    "for (i,(df_el,t_el)) = enumerate(zip(df,t))\n",
    "    try\n",
    "        pvals[i] = pvalue(TDist(df_el),t_el)\n",
    "    catch\n",
    "        pvals[i] = 1\n",
    "    end\n",
    "end\n",
    "\n",
    "pvals\n",
    "logpvals = -log10.(pvals);\n",
    "logpvals[logpvals < 5] = 0\n",
    "# logpvals[logpvals > 20] = 20\n",
    "ni = get_nii(1,1)\n",
    "res = NIfTI.NIVolume(ni.header, ni.extensions,logpvals) # Cheap, as reshape returns a view\n",
    "niwrite(\"out/$pref|segmentation_result.nii\",res)\n"
   ]
  },
  {
   "cell_type": "code",
   "execution_count": 96,
   "metadata": {},
   "outputs": [
    {
     "name": "stderr",
     "output_type": "stream",
     "text": [
      "\u001b[1m\u001b[33mWARNING: \u001b[39m\u001b[22m\u001b[33mArray{T}(::Type{T}, m::Int) is deprecated, use Array{T}(m) instead.\u001b[39m\n",
      "Stacktrace:\n",
      " [1] \u001b[1mdepwarn\u001b[22m\u001b[22m\u001b[1m(\u001b[22m\u001b[22m::String, ::Symbol\u001b[1m)\u001b[22m\u001b[22m at \u001b[1m./deprecated.jl:70\u001b[22m\u001b[22m\n",
      " [2] \u001b[1mArray\u001b[22m\u001b[22m\u001b[1m(\u001b[22m\u001b[22m::Type{UInt8}, ::Int64\u001b[1m)\u001b[22m\u001b[22m at \u001b[1m./deprecated.jl:57\u001b[22m\u001b[22m\n",
      " [3] \u001b[1mwrite\u001b[22m\u001b[22m\u001b[1m(\u001b[22m\u001b[22m::IOStream, ::NIfTI.NIfTI1Header\u001b[1m)\u001b[22m\u001b[22m at \u001b[1m/home/ashedko/.julia/v0.6/NIfTI/src/NIfTI.jl:26\u001b[22m\u001b[22m\n",
      " [4] \u001b[1mwrite\u001b[22m\u001b[22m\u001b[1m(\u001b[22m\u001b[22m::IOStream, ::NIfTI.NIVolume{Float64,3,Array{Float64,3}}\u001b[1m)\u001b[22m\u001b[22m at \u001b[1m/home/ashedko/.julia/v0.6/NIfTI/src/NIfTI.jl:385\u001b[22m\u001b[22m\n",
      " [5] \u001b[1mniwrite\u001b[22m\u001b[22m\u001b[1m(\u001b[22m\u001b[22m::String, ::NIfTI.NIVolume{Float64,3,Array{Float64,3}}\u001b[1m)\u001b[22m\u001b[22m at \u001b[1m/home/ashedko/.julia/v0.6/NIfTI/src/NIfTI.jl:408\u001b[22m\u001b[22m\n",
      " [6] \u001b[1mexecute_request\u001b[22m\u001b[22m\u001b[1m(\u001b[22m\u001b[22m::ZMQ.Socket, ::IJulia.Msg\u001b[1m)\u001b[22m\u001b[22m at \u001b[1m/home/ashedko/.julia/v0.6/IJulia/src/execute_request.jl:160\u001b[22m\u001b[22m\n",
      " [7] \u001b[1meventloop\u001b[22m\u001b[22m\u001b[1m(\u001b[22m\u001b[22m::ZMQ.Socket\u001b[1m)\u001b[22m\u001b[22m at \u001b[1m/home/ashedko/.julia/v0.6/IJulia/src/eventloop.jl:8\u001b[22m\u001b[22m\n",
      " [8] \u001b[1m(::IJulia.##11#14)\u001b[22m\u001b[22m\u001b[1m(\u001b[22m\u001b[22m\u001b[1m)\u001b[22m\u001b[22m at \u001b[1m./task.jl:335\u001b[22m\u001b[22m\n",
      "while loading In[96], in expression starting on line 9\n"
     ]
    }
   ],
   "source": [
    "\n",
    "logpvals = -log10.(pvals);\n",
    "logpvals[logpvals .< 10] = 0\n",
    "# logpvals[logpvals .> 20] = 20\n",
    "# histogram(logpvals[0.<logpvals.<50], bins = 100)\n",
    "\n",
    "ni = get_nii(1,1)\n",
    "res = NIfTI.NIVolume(ni.header, ni.extensions,logpvals) # Cheap, as reshape returns a view\n",
    "niwrite(\"out/Tstat|segmentation_result.nii\",res)\n"
   ]
  },
  {
   "cell_type": "code",
   "execution_count": 93,
   "metadata": {},
   "outputs": [
    {
     "data": {
      "image/png": "[encoded data removed]",
      "text/plain": [
       "91×109 Array{Gray{Float64},2}:\n",
       " Gray{Float64}(0.0)  Gray{Float64}(0.0)  …  Gray{Float64}(0.0)\n",
       " Gray{Float64}(0.0)  Gray{Float64}(0.0)     Gray{Float64}(0.0)\n",
       " Gray{Float64}(0.0)  Gray{Float64}(0.0)     Gray{Float64}(0.0)\n",
       " Gray{Float64}(0.0)  Gray{Float64}(0.0)     Gray{Float64}(0.0)\n",
       " Gray{Float64}(0.0)  Gray{Float64}(0.0)     Gray{Float64}(0.0)\n",
       " Gray{Float64}(0.0)  Gray{Float64}(0.0)  …  Gray{Float64}(0.0)\n",
       " Gray{Float64}(0.0)  Gray{Float64}(0.0)     Gray{Float64}(0.0)\n",
       " Gray{Float64}(0.0)  Gray{Float64}(0.0)     Gray{Float64}(0.0)\n",
       " Gray{Float64}(0.0)  Gray{Float64}(0.0)     Gray{Float64}(0.0)\n",
       " Gray{Float64}(0.0)  Gray{Float64}(0.0)     Gray{Float64}(0.0)\n",
       " Gray{Float64}(0.0)  Gray{Float64}(0.0)  …  Gray{Float64}(0.0)\n",
       " Gray{Float64}(0.0)  Gray{Float64}(0.0)     Gray{Float64}(0.0)\n",
       " Gray{Float64}(0.0)  Gray{Float64}(0.0)     Gray{Float64}(0.0)\n",
       " ⋮                                       ⋱                    \n",
       " Gray{Float64}(0.0)  Gray{Float64}(0.0)     Gray{Float64}(0.0)\n",
       " Gray{Float64}(0.0)  Gray{Float64}(0.0)  …  Gray{Float64}(0.0)\n",
       " Gray{Float64}(0.0)  Gray{Float64}(0.0)     Gray{Float64}(0.0)\n",
       " Gray{Float64}(0.0)  Gray{Float64}(0.0)     Gray{Float64}(0.0)\n",
       " Gray{Float64}(0.0)  Gray{Float64}(0.0)     Gray{Float64}(0.0)\n",
       " Gray{Float64}(0.0)  Gray{Float64}(0.0)     Gray{Float64}(0.0)\n",
       " Gray{Float64}(0.0)  Gray{Float64}(0.0)  …  Gray{Float64}(0.0)\n",
       " Gray{Float64}(0.0)  Gray{Float64}(0.0)     Gray{Float64}(0.0)\n",
       " Gray{Float64}(0.0)  Gray{Float64}(0.0)     Gray{Float64}(0.0)\n",
       " Gray{Float64}(0.0)  Gray{Float64}(0.0)     Gray{Float64}(0.0)\n",
       " Gray{Float64}(0.0)  Gray{Float64}(0.0)     Gray{Float64}(0.0)\n",
       " Gray{Float64}(0.0)  Gray{Float64}(0.0)  …  Gray{Float64}(0.0)"
      ]
     },
     "execution_count": 93,
     "metadata": {},
     "output_type": "execute_result"
    }
   ],
   "source": [
    "Gray.(logpvals[:,:,60])"
   ]
  },
  {
   "cell_type": "code",
   "execution_count": 26,
   "metadata": {},
   "outputs": [
    {
     "data": {
      "text/html": [
       "0.0"
      ],
      "text/plain": [
       "0.0"
      ]
     },
     "execution_count": 26,
     "metadata": {},
     "output_type": "execute_result"
    }
   ],
   "source": [
    "log_p_values = -log10.(p_values)\n",
    "map!(x->isnan(x)?0:x,log_p_values,log_p_values );\n",
    "# log_p_values[log_p_values .> 100.] = 100.\n",
    "log_p_values[log_p_values .< 5.] = 0."
   ]
  },
  {
   "cell_type": "code",
   "execution_count": 32,
   "metadata": {},
   "outputs": [
    {
     "data": {
      "text/html": [
       "168158"
      ],
      "text/plain": [
       "168158"
      ]
     },
     "execution_count": 32,
     "metadata": {},
     "output_type": "execute_result"
    }
   ],
   "source": [
    "count(isinf,log_p_values)\n",
    "# histogram(log_p_values[log_p_values.>0])"
   ]
  },
  {
   "cell_type": "code",
   "execution_count": 10,
   "metadata": {},
   "outputs": [
    {
     "ename": "LoadError",
     "evalue": "\u001b[91mUndefVarError: ps not defined\u001b[39m",
     "output_type": "error",
     "traceback": [
      "\u001b[91mUndefVarError: ps not defined\u001b[39m",
      "",
      "Stacktrace:",
      " [1] \u001b[1mexecute_request\u001b[22m\u001b[22m\u001b[1m(\u001b[22m\u001b[22m::ZMQ.Socket, ::IJulia.Msg\u001b[1m)\u001b[22m\u001b[22m at \u001b[1m/home/ashedko/.julia/v0.6/IJulia/src/execute_request.jl:160\u001b[22m\u001b[22m",
      " [2] \u001b[1meventloop\u001b[22m\u001b[22m\u001b[1m(\u001b[22m\u001b[22m::ZMQ.Socket\u001b[1m)\u001b[22m\u001b[22m at \u001b[1m/home/ashedko/.julia/v0.6/IJulia/src/eventloop.jl:8\u001b[22m\u001b[22m",
      " [3] \u001b[1m(::IJulia.##11#14)\u001b[22m\u001b[22m\u001b[1m(\u001b[22m\u001b[22m\u001b[1m)\u001b[22m\u001b[22m at \u001b[1m./task.jl:335\u001b[22m\u001b[22m"
     ]
    }
   ],
   "source": []
  },
  {
   "cell_type": "code",
   "execution_count": null,
   "metadata": {
    "collapsed": true
   },
   "outputs": [],
   "source": []
  },
  {
   "cell_type": "code",
   "execution_count": null,
   "metadata": {
    "collapsed": true
   },
   "outputs": [],
   "source": []
  },
  {
   "cell_type": "code",
   "execution_count": null,
   "metadata": {
    "collapsed": true
   },
   "outputs": [],
   "source": []
  },
  {
   "cell_type": "code",
   "execution_count": null,
   "metadata": {
    "collapsed": true
   },
   "outputs": [],
   "source": []
  },
  {
   "cell_type": "code",
   "execution_count": 67,
   "metadata": {
    "collapsed": true
   },
   "outputs": [],
   "source": [
    "function process!(v::Array{Float64,1})\n",
    "  map!(x-> isnan(x)?0:x, v, v) # no nan`s\n",
    "  map!(x-> x<0.0? 0: x, v, v) # no insignificant values\n",
    "  v\n",
    "end\n",
    "\n",
    "function reverse_tri_index(k::Int)\n",
    "  j = round(floor(-.5 + .5 * sqrt(1 + 8 * (k - 1))) + 2);\n",
    "  i = round(j * (3 - j) / 2 + k - 1);\n",
    "  Int(i),Int(j)\n",
    "end\n",
    "\n",
    "covs = h5read(\"out/S_V|covs.h5\", \"data\")\n",
    "disps = h5read(\"out/S_V|disps.h5\", \"data\")*89*16\n",
    "niscores = ISC_res(covs,disps)\n",
    "\n",
    "for i=1:SIZE for k in 2:NSUBJ for j in 1:k-1\n",
    "    covs[i,triangular_index(j,k)] = covs[i,triangular_index(j,k)]/sqrt(disps[i,j]*disps[i,k])\n",
    "end end end\n",
    "\n",
    "ind = findmax(niscores)[2]\n",
    "cell = covs[ind,:]\n",
    "cormat = zeros(NSUBJ,NSUBJ)\n",
    "\n",
    "for k = eachindex(cell)\n",
    "    cormat[reverse_tri_index(k)...] = cell[k]\n",
    "end"
   ]
  },
  {
   "cell_type": "code",
   "execution_count": 95,
   "metadata": {},
   "outputs": [
    {
     "data": {
      "text/html": [
       "<?xml version=\"1.0\" encoding=\"utf-8\"?>\n",
       "<svg xmlns=\"http://www.w3.org/2000/svg\" xmlns:xlink=\"http://www.w3.org/1999/xlink\" width=\"600\" height=\"400\" viewBox=\"0 0 600 400\">\n",
       "<defs>\n",
       "  <clipPath id=\"clip00\">\n",
       "    <rect x=\"0\" y=\"0\" width=\"600\" height=\"400\"/>\n",
       "  </clipPath>\n",
       "</defs>\n",
       "<polygon clip-path=\"url(#clip00)\" points=\"\n",
       "0,400 600,400 600,0 0,0 \n",
       "  \" fill=\"#ffffff\" fill-opacity=\"1\"/>\n",
       "<defs>\n",
       "  <clipPath id=\"clip01\">\n",
       "    <rect x=\"120\" y=\"0\" width=\"421\" height=\"400\"/>\n",
       "  </clipPath>\n",
       "</defs>\n",
       "<polygon clip-path=\"url(#clip00)\" points=\"\n",
       "39.3701,368.504 592.126,368.504 592.126,7.87402 39.3701,7.87402 \n",
       "  \" fill=\"#ffffff\" fill-opacity=\"1\"/>\n",
       "<defs>\n",
       "  <clipPath id=\"clip02\">\n",
       "    <rect x=\"39\" y=\"7\" width=\"494\" height=\"362\"/>\n",
       "  </clipPath>\n",
       "</defs>\n",
       "<polyline clip-path=\"url(#clip02)\" style=\"stroke:#000000; stroke-width:1; stroke-opacity:0.5; fill:none\" stroke-dasharray=\"1, 2\" points=\"\n",
       "  200.79,363.094 200.79,13.2835 \n",
       "  \"/>\n",
       "<polyline clip-path=\"url(#clip02)\" style=\"stroke:#000000; stroke-width:1; stroke-opacity:0.5; fill:none\" stroke-dasharray=\"1, 2\" points=\"\n",
       "  370.706,363.094 370.706,13.2835 \n",
       "  \"/>\n",
       "<polyline clip-path=\"url(#clip02)\" style=\"stroke:#000000; stroke-width:1; stroke-opacity:0.5; fill:none\" stroke-dasharray=\"1, 2\" points=\"\n",
       "  46.7614,250.367 524.735,250.367 \n",
       "  \"/>\n",
       "<polyline clip-path=\"url(#clip02)\" style=\"stroke:#000000; stroke-width:1; stroke-opacity:0.5; fill:none\" stroke-dasharray=\"1, 2\" points=\"\n",
       "  46.7614,126.011 524.735,126.011 \n",
       "  \"/>\n",
       "<polyline clip-path=\"url(#clip00)\" style=\"stroke:#000000; stroke-width:1; stroke-opacity:1; fill:none\" points=\"\n",
       "  39.3701,368.504 532.126,368.504 \n",
       "  \"/>\n",
       "<polyline clip-path=\"url(#clip00)\" style=\"stroke:#000000; stroke-width:1; stroke-opacity:1; fill:none\" points=\"\n",
       "  200.79,368.504 200.79,363.094 \n",
       "  \"/>\n",
       "<polyline clip-path=\"url(#clip00)\" style=\"stroke:#000000; stroke-width:1; stroke-opacity:1; fill:none\" points=\"\n",
       "  370.706,368.504 370.706,363.094 \n",
       "  \"/>\n",
       "<polyline clip-path=\"url(#clip00)\" style=\"stroke:#000000; stroke-width:1; stroke-opacity:1; fill:none\" points=\"\n",
       "  39.3701,368.504 39.3701,7.87402 \n",
       "  \"/>\n",
       "<polyline clip-path=\"url(#clip00)\" style=\"stroke:#000000; stroke-width:1; stroke-opacity:1; fill:none\" points=\"\n",
       "  39.3701,250.367 46.7614,250.367 \n",
       "  \"/>\n",
       "<polyline clip-path=\"url(#clip00)\" style=\"stroke:#000000; stroke-width:1; stroke-opacity:1; fill:none\" points=\"\n",
       "  39.3701,126.011 46.7614,126.011 \n",
       "  \"/>\n",
       "<g clip-path=\"url(#clip00)\">\n",
       "<text style=\"fill:#000000; fill-opacity:1; font-family:Arial,Helvetica Neue,Helvetica,sans-serif; font-size:12; text-anchor:middle;\" transform=\"rotate(0, 200.79, 382.304)\" x=\"200.79\" y=\"382.304\">10</text>\n",
       "</g>\n",
       "<g clip-path=\"url(#clip00)\">\n",
       "<text style=\"fill:#000000; fill-opacity:1; font-family:Arial,Helvetica Neue,Helvetica,sans-serif; font-size:12; text-anchor:middle;\" transform=\"rotate(0, 370.706, 382.304)\" x=\"370.706\" y=\"382.304\">20</text>\n",
       "</g>\n",
       "<g clip-path=\"url(#clip00)\">\n",
       "<text style=\"fill:#000000; fill-opacity:1; font-family:Arial,Helvetica Neue,Helvetica,sans-serif; font-size:12; text-anchor:end;\" transform=\"rotate(0, 33.3701, 254.867)\" x=\"33.3701\" y=\"254.867\">10</text>\n",
       "</g>\n",
       "<g clip-path=\"url(#clip00)\">\n",
       "<text style=\"fill:#000000; fill-opacity:1; font-family:Arial,Helvetica Neue,Helvetica,sans-serif; font-size:12; text-anchor:end;\" transform=\"rotate(0, 33.3701, 130.511)\" x=\"33.3701\" y=\"130.511\">20</text>\n",
       "</g>\n",
       "<g clip-path=\"url(#clip00)\">\n",
       "<text style=\"fill:#000000; fill-opacity:1; font-family:Arial,Helvetica Neue,Helvetica,sans-serif; font-size:16; text-anchor:middle;\" transform=\"rotate(0, 285.748, 397.6)\" x=\"285.748\" y=\"397.6\">subject</text>\n",
       "</g>\n",
       "<g clip-path=\"url(#clip00)\">\n",
       "<text style=\"fill:#000000; fill-opacity:1; font-family:Arial,Helvetica Neue,Helvetica,sans-serif; font-size:16; text-anchor:middle;\" transform=\"rotate(-90, 14.4, 188.189)\" x=\"14.4\" y=\"188.189\">subject</text>\n",
       "</g>\n",
       "<g clip-path=\"url(#clip02)\">\n",
       "<image width=\"493\" height=\"361\" xlink:href=\"data:;base64,\n",
       "iVBORw0KGgoAAAANSUhEUgAAAe0AAAFpCAYAAACxlXA1AAAOy0lEQVR4nO3d22/f913H8d/PZ8d2\n",
       "7MSxc3KTNIeSNWu7plndtQzUTjCBJnYxwobopsEFEhpcABIXiIOEhsQQk7ihgCpVYnCxTas4aWM0\n",
       "o63GVNY2o6Vdl4SkScipbhzXiRPHZ5t7EAL0cuu828fjD3jpG/vn3zPfm8+neWT08EoDALjltaz1\n",
       "AwAA/zeiDQBFiDYAFCHaAFCEaANAEaINAEWINgAUIdoAUIRoA0ARog0ARYg2ABQh2gBQRNtaPwAA\n",
       "vBf86KN/H2940waAIkQbAIoQbQAoQrQBoAjRBoAiRBsAihBtAChCtAGgCNEGgCJEGwCKEG0AKKJ5\n",
       "ZPTwylo/BADcyv7y5NZ4Y3JhKd7wpg0ARYg2ABQh2gBQhGgDQBGiDQBFiDYAFCHaAFCEaANAEaIN\n",
       "AEWINgAUIdoAUIRoA0ARbWv9AADwdurtnIk3Ht4yHW+0NPP7ubxpA0ARog0ARYg2ABQh2gBQhGgD\n",
       "QBGiDQBFiDYAFCHaAFCEaANAEaINAEWINgAU4exxAG5Zb82sizeWlpvxxn23nc2fY6k13vCmDQBF\n",
       "iDYAFCHaAFCEaANAEaINAEWINgAUIdoAUIRoA0ARog0ARYg2ABQh2gBQhGgDQBEuDAHgbbGp71q8\n",
       "8dL4ULxxoGMu3pie7Y43Ng1MxhvetAGgCNEGgCJEGwCKEG0AKEK0AaAI0QaAIkQbAIoQbQAoQrQB\n",
       "oAjRBoAiRBsAinD2OAD/zfbB8XhjeSV/Lzw4fDneePri1njj137yX+ONRqMZL3jTBoAiRBsAihBt\n",
       "AChCtAGgCNEGgCJEGwCKEG0AKEK0AaAI0QaAIkQbAIoQbQAoQrQBoAgXhgC8yxwaPRpvnPi3O1fh\n",
       "SXITN9fFG2Mz+UUd3cOT8UZb/814w5s2ABQh2gBQhGgDQBGiDQBFiDYAFCHaAFCEaANAEaINAEWI\n",
       "NgAUIdoAUIRoA0ARzh4HuIWsxrnhi7Md8UYzP667sWX4crxx4srmeOP6wkq8sTzfHm+09C3lG/EC\n",
       "APCOEG0AKEK0AaAI0QaAIkQbAIoQbQAoQrQBoAjRBoAiRBsAihBtAChCtAGgCNEGgCKaR0YP5yep\n",
       "A9B44fJwvHF773S8MTmXXxjS1bocb1y82RVv7Oy9GW+8f/OleOOpM7vjjS3dc/GGN20AKEK0AaAI\n",
       "0QaAIkQbAIoQbQAoQrQBoAjRBoAiRBsAihBtAChCtAGgCNEGgCLa1voBAG4Ft2+7GG984dVN8caL\n",
       "E73xxvjiTLzxuT1L8caOnvw5DqzCueF3f/LZeOO3fz0/e3xiOT/P3Zs2ABQh2gBQhGgDQBGiDQBF\n",
       "iDYAFCHaAFCEaANAEaINAEWINgAUIdoAUIRoA0ARzSOjh1fW+iEAEl89vTXe2L9+Id74pc98Jd4Y\n",
       "f21PvNEzMBVvXBvfmD9H/41442vPPRhvdLTkZ35/4pFn443ODfnvxZs2ABQh2gBQhGgDQBGiDQBF\n",
       "iDYAFCHaAFCEaANAEaINAEWINgAUIdoAUIRoA0ARog0ARbgwBFhT4zd74o0fe+C78cb3Xr4n3lha\n",
       "acYbxyY3xBtTC63xxgeHJuKN3ZvfiDfOXt4Sb9x31/fjjS/84yPxxkh3fimNN20AKEK0AaAI0QaA\n",
       "IkQbAIoQbQAoQrQBoAjRBoAiRBsAihBtAChCtAGgCNEGgCLa1voBgLpuLrTHG4d/9cvxxugvH443\n",
       "fmVXR7zx6d//23hj9JuD8UbvzrF44/gz98cbzfwo9sal6d544y/++uF447FPfTPe6D94Lt7wpg0A\n",
       "RYg2ABQh2gBQhGgDQBGiDQBFiDYAFCHaAFCEaANAEaINAEWINgAUIdoAUIRoA0ARzSOjh1fW+iGA\n",
       "d95g71S8cX1mXbwxfjO/EGLf8BvxRktL/lX4nTN74o1mI3+OTV2z8caG7pvxxqmrG+ONezZfijeu\n",
       "z3bHGy9fGYo3BtoX4w1v2gBQhGgDQBGiDQBFiDYAFCHaAFCEaANAEaINAEWINgAUIdoAUIRoA0AR\n",
       "og0ARbSt9QMA/387hsfijc17zsUbTz/74Xjj0L4T8cafPDeaP8dgfhb7z3zk6XjjxpUN8cbsTFe8\n",
       "Mb/QHm+MDF2ON54/vS/eODHVE28c3p9/Toe2vBlveNMGgCJEGwCKEG0AKEK0AaAI0QaAIkQbAIoQ\n",
       "bQAoQrQBoAjRBoAiRBsAihBtAChCtAGgCBeGwDtsNS77OD22Ld7YftfJeGPjuul4Y13/9XijcxVe\n",
       "P1672hdvfHxkPN548+xIvNHXn19+cvWNrfHG8Lb8goyFU/kvt7NlJd7YOnIx3lheao03vGkDQBGi\n",
       "DQBFiDYAFCHaAFCEaANAEaINAEWINgAUIdoAUIRoA0ARog0ARYg2ABTRPDJ6OD+UFd4j/n1yY7wx\n",
       "2DUbb3S2LsUbF6Z74o2Hd+fnlx89vyve+JH9P4g3lpfzd5h/OnYg3rg23x5vrG9fjDdWw0DnXLxx\n",
       "cNfr8UZH53y88Xcv3xtv9K3C78WbNgAUIdoAUIRoA0ARog0ARYg2ABQh2gBQhGgDQBGiDQBFiDYA\n",
       "FCHaAFCEaANAEaINAEW0rfUDwDtl64aJeOOl8aF4482rffHGx3afjjf+4UJ++clnP3As3njilffH\n",
       "G58a/X68cfbbB+ONZ9/sjjeGu+KJxlvzrfHG/UOT8UZvR35hyOxs/gPZ/Ymj8cYrzz4Qb1xf6Ig3\n",
       "vGkDQBGiDQBFiDYAFCHaAFCEaANAEaINAEWINgAUIdoAUIRoA0ARog0ARYg2ABTh7HFK+OADL8Yb\n",
       "//ydD8Ub+weuxhtzS/m50H090/HGvRtn441XnzsUb9zZfzPeOPbUg/HGD8a2xRs7elbijbsGbsQb\n",
       "G7pm4o09Wy7FG8cu7og3lpbzd8vxp/fFG3cPzMcb+afDmzYAlCHaAFCEaANAEaINAEWINgAUIdoA\n",
       "UIRoA0ARog0ARYg2ABQh2gBQhGgDQBHNI6OHV+M4VPgfbR54a60fodFoNBpHz++KNw6N/Ee80bf+\n",
       "erxxcWxLvLH/wLF44+zJ3fHGQP9UvHH09fxs6bfmOuONH955Ot5YjbO2V0OzmW90dszFG29MbIo3\n",
       "FlfhZzqwLj/vf3h4PN64NT4dAMD/SrQBoAjRBoAiRBsAihBtAChCtAGgCNEGgCJEGwCKEG0AKEK0\n",
       "AaAI0QaAIkQbAIpoW+sH4NY2frMn3tjQk1+Qcenqxnijs2Up3rgx2x1vXL42EG8sN/LbHL730gfi\n",
       "jVNX839L91j+e1mFuy0aD63CZR+vXLot3ji480y8sbCQf7V//eQPxRsf23ci3hgemIw3/uXsnnij\n",
       "q30h3jhzPv98eNMGgCJEGwCKEG0AKEK0AaAI0QaAIkQbAIoQbQAoQrQBoAjRBoAiRBsAihBtACii\n",
       "eWT08MpaPwRvj4mZdfHG1t6peGP3jnP5c/xsvnH6ifws5cePHow3etuW442P7srPp/7z1/LzmP/4\n",
       "038Tb/zRkx+PN373i38Vb7z8p6PxxmOv3BFvTC/mX8k78ysDGh+97VK8cW4qP5v+wT0n4409nzwa\n",
       "b3zkF38u3lhs5H/73rQBoAjRBoAiRBsAihBtAChCtAGgCNEGgCJEGwCKEG0AKEK0AaAI0QaAIkQb\n",
       "AIoQbQAowoUht6gtGybijfNXhuKN8Zn85oGetoV4487t5+ONxaXWeOO5s/klG/mVAY3GcPdMvNHZ\n",
       "shhv7N2aXypxfTr/jPX1TMcbHZ3z8cbzJ/NLaXra87+Xt2a74o2+jvznsW391Xjjtctb4o37d+QX\n",
       "7Bwf2x5v9LbPxRvetAGgCNEGgCJEGwCKEG0AKEK0AaAI0QaAIkQbAIoQbQAoQrQBoAjRBoAiRBsA\n",
       "imhb6wd4N5qe74g3Pvft/Izrz987Hm/s2JRvfOvUHfHGN164O944NDgbbzz6U1+PN5ZmO+ONr33r\n",
       "kXjj53/zyXjj8c8/Gm989tGvxhuH/uDH442fHhyON37riW/EGyvH8/Pc5y8OxBvPP/NQvLH3jlPx\n",
       "xotv5Gd+/9533xdvfPmLj8cbzXX5/QfetAGgCNEGgCJEGwCKEG0AKEK0AaAI0QaAIkQbAIoQbQAo\n",
       "QrQBoAjRBoAiRBsAihBtACjChSH/xYf/7GK88eRn8gsyLrTklwa0teb/J1teacYbF2fa440XZsbi\n",
       "jZGZ/EKIlaVVOPC/bTHe6FmFjcUD98QbUwv5V0hrX36Ry0Qz/3vpax+MNxaH8sst2sfzS3o6Wq7G\n",
       "G4N9U/HGjcn+eKOrdSneeGn5fLzRyP/0G0u798Yb3rQBoAjRBoAiRBsAihBtAChCtAGgCNEGgCJE\n",
       "GwCKEG0AKEK0AaAI0QaAIkQbAIp4V509fmj0aLwx96XleOO29fkZ17+xfVu80VjJz+uevL4+3tjc\n",
       "lZ+T/Tt7u+KNga43443xMyPxxvXrvfHGyPr8bOmpx/KN0c35Z+zUUw/EG3+48/Z4Y2llPt5Y+NLZ\n",
       "eOPM8fvijWZjJd44NzEUb9zRORdvdK/C2eO/sGlXvHHsKw/FG4PDV+INb9oAUIRoA0ARog0ARYg2\n",
       "ABQh2gBQhGgDQBGiDQBFiDYAFCHaAFCEaANAEaINAEWINgAU8a66MGRprj3eGLuwNd44f20g3uhp\n",
       "zy/ZWA3rOmfjjQ9tuxhvHDm3I97Y29cabxzanl86cur5/NKRxeX839LZfyPeeP3ahnhjcP21eOOl\n",
       "yb5449DGqXhjbqon3ljJ7/po9G/ML4NpHcu/C49dvC3e2NQ9HW9MzHXEG52d+YUyjZVmPOFNGwCK\n",
       "EG0AKEK0AaAI0QaAIkQbAIoQbQAoQrQBoAjRBoAiRBsAihBtAChCtAGgiFU5e3xk0+V4Y2Exf5Rm\n",
       "S35o74ahiXij7fyueGNuKf//1ImJ4Xjj4QOvxhvPvHZXvDGyLj8DvX8VzlFfns8/p3tHLsQbK6tw\n",
       "hnHnUH7m94GhsXhj1z3H442B4++LN05d7403fqIjvzNgfj4/J3thFc7ablmF79P9W/LP+oUrQ/HG\n",
       "uraleGPyWn+8sbLs7HEAeM8QbQAoQrQBoAjRBoAiRBsAihBtAChCtAGgCNEGgCJEGwCKEG0AKEK0\n",
       "AaCI/wQ0Vl1MwECfcQAAAABJRU5ErkJggg==\n",
       "\" transform=\"translate(39, 8)\"/>\n",
       "</g>\n",
       "<defs>\n",
       "  <clipPath id=\"clip03\">\n",
       "    <rect x=\"544\" y=\"7\" width=\"19\" height=\"362\"/>\n",
       "  </clipPath>\n",
       "</defs>\n",
       "<g clip-path=\"url(#clip03)\">\n",
       "<image width=\"18\" height=\"361\" xlink:href=\"data:;base64,\n",
       "iVBORw0KGgoAAAANSUhEUgAAABIAAAFpCAYAAACRXHjhAAACEUlEQVR4nO3c0W3EMAyDYafI/lN0\n",
       "y17jjpCXD8UPwR6AMElR8hkXX5/ney+wvgTIWmvdz/4YoI2AHLX9zKVWc42JPVgjR22pynZAR6O3\n",
       "Jan9ICAVkaJGiNq1fwmQpGZ2dF8IKEhtIdcmazSa2mOA1I6SGvWoIdcUtdn2G7GD9rspMlejov3H\n",
       "tX8EIvdQUqMd00jab8Tu1dFgjSS1GhCK2mSNitRMQugN+2WAoP1mR/IammlUo6Z2NFsjg8U0KtrP\n",
       "2sg27IIdUgENruxg+ndNo2T6c6FVBenSn2tsueaftH9s+mFl96jFXDsReV9Far3KrhXk/eTmWk6j\n",
       "IrUaUFCjZy61HNBgjeQfvWPUkhrFjn6D7R9MbbRGay41N/sJTnGu9Y41DyrIyRo5agSmSa3nmqps\n",
       "1iGDja2WftnYENBJ/ztQMf0ICB79zCoe/QhMkprq2cmTvwLKUduM2uTGpoAG229wio1tsEaQWq2y\n",
       "4ThCQL0fNWdkvwMVT2w1oMkaGZxkzz72vwJt9C1MkhoC6s21ydRcY0PfQaodyQtNRK3Y/MdSy/Xs\n",
       "YPpdaHtzzYWW2V/TyFX2sf8VaKNvhYsaXT1q6MEJBSRDq6hdLCI1jZj9xdCi14agRrW3xkan/9j/\n",
       "smCHRO/NBKlt9WpVr0O6iBz731bQtcmV7ajlenbNtXvn3s9m1FbuJmLVGhvbUdL+udQQ0B+p8+fh\n",
       "sEs94QAAAABJRU5ErkJggg==\n",
       "\" transform=\"translate(544, 8)\"/>\n",
       "</g>\n",
       "<g clip-path=\"url(#clip00)\">\n",
       "<text style=\"fill:#000000; fill-opacity:1; font-family:Arial,Helvetica Neue,Helvetica,sans-serif; font-size:12; text-anchor:start;\" transform=\"rotate(0, 568.126, 371.917)\" x=\"568.126\" y=\"371.917\">-</text>\n",
       "</g>\n",
       "<g clip-path=\"url(#clip00)\">\n",
       "<text style=\"fill:#000000; fill-opacity:1; font-family:Arial,Helvetica Neue,Helvetica,sans-serif; font-size:12; text-anchor:start;\" transform=\"rotate(0, 575.047, 371.917)\" x=\"575.047\" y=\"371.917\">0.3</text>\n",
       "</g>\n",
       "<g clip-path=\"url(#clip00)\">\n",
       "<text style=\"fill:#000000; fill-opacity:1; font-family:Arial,Helvetica Neue,Helvetica,sans-serif; font-size:12; text-anchor:start;\" transform=\"rotate(0, 568.126, 311.812)\" x=\"568.126\" y=\"311.812\">-</text>\n",
       "</g>\n",
       "<g clip-path=\"url(#clip00)\">\n",
       "<text style=\"fill:#000000; fill-opacity:1; font-family:Arial,Helvetica Neue,Helvetica,sans-serif; font-size:12; text-anchor:start;\" transform=\"rotate(0, 575.047, 311.812)\" x=\"575.047\" y=\"311.812\">0.2</text>\n",
       "</g>\n",
       "<g clip-path=\"url(#clip00)\">\n",
       "<text style=\"fill:#000000; fill-opacity:1; font-family:Arial,Helvetica Neue,Helvetica,sans-serif; font-size:12; text-anchor:start;\" transform=\"rotate(0, 568.126, 251.707)\" x=\"568.126\" y=\"251.707\">-</text>\n",
       "</g>\n",
       "<g clip-path=\"url(#clip00)\">\n",
       "<text style=\"fill:#000000; fill-opacity:1; font-family:Arial,Helvetica Neue,Helvetica,sans-serif; font-size:12; text-anchor:start;\" transform=\"rotate(0, 575.047, 251.707)\" x=\"575.047\" y=\"251.707\">0.1</text>\n",
       "</g>\n",
       "<g clip-path=\"url(#clip00)\">\n",
       "<text style=\"fill:#000000; fill-opacity:1; font-family:Arial,Helvetica Neue,Helvetica,sans-serif; font-size:12; text-anchor:start;\" transform=\"rotate(0, 568.126, 191.602)\" x=\"568.126\" y=\"191.602\">0</text>\n",
       "</g>\n",
       "<g clip-path=\"url(#clip00)\">\n",
       "<text style=\"fill:#000000; fill-opacity:1; font-family:Arial,Helvetica Neue,Helvetica,sans-serif; font-size:12; text-anchor:start;\" transform=\"rotate(0, 568.126, 131.497)\" x=\"568.126\" y=\"131.497\">0.1</text>\n",
       "</g>\n",
       "<g clip-path=\"url(#clip00)\">\n",
       "<text style=\"fill:#000000; fill-opacity:1; font-family:Arial,Helvetica Neue,Helvetica,sans-serif; font-size:12; text-anchor:start;\" transform=\"rotate(0, 568.126, 71.3918)\" x=\"568.126\" y=\"71.3918\">0.2</text>\n",
       "</g>\n",
       "<g clip-path=\"url(#clip00)\">\n",
       "<text style=\"fill:#000000; fill-opacity:1; font-family:Arial,Helvetica Neue,Helvetica,sans-serif; font-size:12; text-anchor:start;\" transform=\"rotate(0, 568.126, 11.2868)\" x=\"568.126\" y=\"11.2868\">0.3</text>\n",
       "</g>\n",
       "</svg>\n"
      ]
     },
     "execution_count": 95,
     "metadata": {},
     "output_type": "execute_result"
    }
   ],
   "source": [
    "ind = rand(1:SIZE)\n",
    "cell = covs[ind,:]\n",
    "cormat = zeros(NSUBJ,NSUBJ)\n",
    "\n",
    "for k = eachindex(cell)\n",
    "    cormat[reverse_tri_index(k)...] = cell[k]\n",
    "end\n",
    "\n",
    "gr()\n",
    "h = heatmap(cormat, xlab = \"subject\", ylab = \"subject\")\n",
    "# savefig(h, \"../out/incisc.png\")\n",
    "\n",
    "# histogram(niscores, bins = 100)"
   ]
  },
  {
   "cell_type": "code",
   "execution_count": 96,
   "metadata": {
    "collapsed": true
   },
   "outputs": [],
   "source": [
    "savefig(h, \"../out/incisc.png\")\n",
    "\n",
    "# # g = sum(covs,2)\n",
    "# # map!(x->isnan(x)?0:x, g, g)\n",
    "# niscores = ISC_res(covs,disps)\n",
    "# map!(x->isnan(x)?0:x, niscores, niscores)"
   ]
  },
  {
   "cell_type": "code",
   "execution_count": 131,
   "metadata": {},
   "outputs": [
    {
     "data": {
      "text/html": [
       "28"
      ],
      "text/plain": [
       "28"
      ]
     },
     "execution_count": 131,
     "metadata": {},
     "output_type": "execute_result"
    }
   ],
   "source": []
  },
  {
   "cell_type": "code",
   "execution_count": 133,
   "metadata": {},
   "outputs": [
    {
     "name": "stderr",
     "output_type": "stream",
     "text": [
      "\u001b[1m\u001b[33mWARNING: \u001b[39m\u001b[22m\u001b[33mArray{T}(::Type{T}, m::Int) is deprecated, use Array{T}(m) instead.\u001b[39m\n",
      "Stacktrace:\n",
      " [1] \u001b[1mdepwarn\u001b[22m\u001b[22m\u001b[1m(\u001b[22m\u001b[22m::String, ::Symbol\u001b[1m)\u001b[22m\u001b[22m at \u001b[1m./deprecated.jl:70\u001b[22m\u001b[22m\n",
      " [2] \u001b[1mArray\u001b[22m\u001b[22m\u001b[1m(\u001b[22m\u001b[22m::Type{UInt8}, ::Int64\u001b[1m)\u001b[22m\u001b[22m at \u001b[1m./deprecated.jl:57\u001b[22m\u001b[22m\n",
      " [3] \u001b[1mwrite\u001b[22m\u001b[22m\u001b[1m(\u001b[22m\u001b[22m::IOStream, ::NIfTI.NIfTI1Header\u001b[1m)\u001b[22m\u001b[22m at \u001b[1m/home/ashedko/.julia/v0.6/NIfTI/src/NIfTI.jl:26\u001b[22m\u001b[22m\n",
      " [4] \u001b[1mwrite\u001b[22m\u001b[22m\u001b[1m(\u001b[22m\u001b[22m::IOStream, ::NIfTI.NIVolume{Float64,3,Array{Float64,3}}\u001b[1m)\u001b[22m\u001b[22m at \u001b[1m/home/ashedko/.julia/v0.6/NIfTI/src/NIfTI.jl:385\u001b[22m\u001b[22m\n",
      " [5] \u001b[1mniwrite\u001b[22m\u001b[22m\u001b[1m(\u001b[22m\u001b[22m::String, ::NIfTI.NIVolume{Float64,3,Array{Float64,3}}\u001b[1m)\u001b[22m\u001b[22m at \u001b[1m/home/ashedko/.julia/v0.6/NIfTI/src/NIfTI.jl:408\u001b[22m\u001b[22m\n",
      " [6] \u001b[1mmacro expansion\u001b[22m\u001b[22m at \u001b[1m./In[133]:17\u001b[22m\u001b[22m [inlined]\n",
      " [7] \u001b[1manonymous\u001b[22m\u001b[22m at \u001b[1m./<missing>:?\u001b[22m\u001b[22m\n",
      " [8] \u001b[1mexecute_request\u001b[22m\u001b[22m\u001b[1m(\u001b[22m\u001b[22m::ZMQ.Socket, ::IJulia.Msg\u001b[1m)\u001b[22m\u001b[22m at \u001b[1m/home/ashedko/.julia/v0.6/IJulia/src/execute_request.jl:160\u001b[22m\u001b[22m\n",
      " [9] \u001b[1meventloop\u001b[22m\u001b[22m\u001b[1m(\u001b[22m\u001b[22m::ZMQ.Socket\u001b[1m)\u001b[22m\u001b[22m at \u001b[1m/home/ashedko/.julia/v0.6/IJulia/src/eventloop.jl:8\u001b[22m\u001b[22m\n",
      " [10] \u001b[1m(::IJulia.##11#14)\u001b[22m\u001b[22m\u001b[1m(\u001b[22m\u001b[22m\u001b[1m)\u001b[22m\u001b[22m at \u001b[1m./task.jl:335\u001b[22m\u001b[22m\n",
      "while loading In[133], in expression starting on line 9\n"
     ]
    }
   ],
   "source": [
    "function process!(v::Array{Float64,1})\n",
    "  map!(x-> isnan(x)?0:x, v, v) # no nan`s\n",
    "  map!(x-> x<0.0? 0: x, v, v) # no insignificant values\n",
    "  v\n",
    "end\n",
    "\n",
    "lenDic = Dict(\"S\"=>28, \"V\"=>57, \"S_V\"=> 89)\n",
    "\n",
    "for pref in [\"S\",\"V\",\"S_V\"]\n",
    "    covs = h5read(\"out/$pref|covs.h5\", \"data\")\n",
    "    disps = h5read(\"out/$pref|disps.h5\", \"data\")*16*lenDic[pref]\n",
    "    niscores = ISC_res(covs,disps)\n",
    "\n",
    "    res = process!(niscores)\n",
    "    ni = get_nii(1,1)\n",
    "    res = NIfTI.NIVolume(ni.header, ni.extensions, reshape(res, SHAPE)) # Cheap, as reshape returns a view\n",
    "    niwrite(\"out/$pref|segmentation_result.nii\",res)\n",
    "end"
   ]
  },
  {
   "cell_type": "code",
   "execution_count": null,
   "metadata": {
    "collapsed": true
   },
   "outputs": [],
   "source": []
  },
  {
   "cell_type": "code",
   "execution_count": null,
   "metadata": {
    "collapsed": true
   },
   "outputs": [],
   "source": []
  },
  {
   "cell_type": "code",
   "execution_count": null,
   "metadata": {
    "collapsed": true
   },
   "outputs": [],
   "source": []
  }
 ],
 "metadata": {
  "kernelspec": {
   "display_name": "Julia 0.6.0",
   "language": "julia",
   "name": "julia-0.6"
  },
  "language_info": {
   "file_extension": ".jl",
   "mimetype": "application/julia",
   "name": "julia",
   "version": "0.6.0"
  }
 },
 "nbformat": 4,
 "nbformat_minor": 2
}
