{
 "cells": [
  {
   "cell_type": "code",
   "execution_count": 16,
   "metadata": {
    "collapsed": false
   },
   "outputs": [],
   "source": [
    "push!(LOAD_PATH,\".\")\n",
    "using ISCLib"
   ]
  },
  {
   "cell_type": "code",
   "execution_count": 2,
   "metadata": {
    "collapsed": false
   },
   "outputs": [
    {
     "data": {
      "text/plain": [
       "3620"
      ]
     },
     "execution_count": 2,
     "metadata": {},
     "output_type": "execute_result"
    }
   ],
   "source": [
    "@everywhere using DistributedArrays, NIfTI\n",
    "PATH = \"/run/media/ashedko/5cdd1287-7dba-4138-8a1b-91148f9f8ab5/ashedko/UNC/\"\n",
    "PATH_Fmt = x -> PATH * string(x) * \"/\"\n",
    "NSUBJ = 29 # 7 in test runs\n",
    "SIZEX = 91\n",
    "SIZEY = 109\n",
    "SIZEZ = 91\n",
    "SHAPE = (SIZEX,SIZEY,SIZEZ)\n",
    "SIZE = SIZEX * SIZEY * SIZEZ\n",
    "LEN = 3620"
   ]
  },
  {
   "cell_type": "code",
   "execution_count": 15,
   "metadata": {
    "collapsed": false
   },
   "outputs": [
    {
     "data": {
      "text/plain": [
       "rema! (generic function with 2 methods)"
      ]
     },
     "execution_count": 15,
     "metadata": {},
     "output_type": "execute_result"
    }
   ],
   "source": [
    "function get_nii(subj::Int, ind::Int)\n",
    "    return niread(joinpath(PATH_Fmt(subj),FNAMES[subj][ind]),mmap= true)\n",
    "end\n",
    "\n",
    "function get_niis(subj::Int, rng::AbstractArray=1:LEN)\n",
    "    fnames = readdir(PATH_Fmt(subj))\n",
    "    return [niread(joinpath(PATH_Fmt(subj),fnames[ind]),mmap= true) for ind in rng]\n",
    "end\n",
    "\n",
    "@inline function rema!(shadow::Array, variable::Array,decay::Float64= 0.3)\n",
    "    shadow -= (1 - decay) * (shadow - variable)\n",
    "end"
   ]
  },
  {
   "cell_type": "code",
   "execution_count": 54,
   "metadata": {
    "collapsed": false
   },
   "outputs": [
    {
     "name": "stdout",
     "output_type": "stream",
     "text": [
      "  5.564585 seconds (2.38 M allocations: 53.562 MB, 0.30% gc time)\n"
     ]
    }
   ],
   "source": [
    "@time D = distribute(disp = ans;get_niis(2,1:3620));"
   ]
  },
  {
   "cell_type": "code",
   "execution_count": 55,
   "metadata": {
    "collapsed": false
   },
   "outputs": [],
   "source": [
    "m = niread(joinpath(PATH_Fmt(2),\"mean.nii\")).raw;"
   ]
  },
  {
   "cell_type": "code",
   "execution_count": 18,
   "metadata": {
    "collapsed": false
   },
   "outputs": [],
   "source": [
    "@time disp = mapfoldl(x->(x-m).*(x-m),+,D);"
   ]
  },
  {
   "cell_type": "code",
   "execution_count": 2,
   "metadata": {
    "collapsed": false,
    "scrolled": true
   },
   "outputs": [
    {
     "ename": "LoadError",
     "evalue": "ArgumentError: Module SharedArrays not found in current path.\nRun `Pkg.add(\"SharedArrays\")` to install the SharedArrays package.",
     "output_type": "error",
     "traceback": [
      "ArgumentError: Module SharedArrays not found in current path.\nRun `Pkg.add(\"SharedArrays\")` to install the SharedArrays package.",
      "",
      " in execute_request(::ZMQ.Socket, ::IJulia.Msg) at /home/ashedko/.julia/v0.5/IJulia/src/execute_request.jl:156",
      " in eventloop(::ZMQ.Socket) at /home/ashedko/.julia/v0.5/IJulia/src/eventloop.jl:8",
      " in (::IJulia.##13#19)() at ./task.jl:360"
     ]
    }
   ],
   "source": []
  },
  {
   "cell_type": "code",
   "execution_count": 20,
   "metadata": {
    "collapsed": false
   },
   "outputs": [
    {
     "name": "stdout",
     "output_type": "stream",
     "text": [
      "  1.315722 seconds (12.48 k allocations: 5.656 GB, 4.15% gc time)\n"
     ]
    }
   ],
   "source": [
    "@time corrs = zeros(SIZE, NSUBJ, NSUBJ); disps = zeros(corrs);"
   ]
  },
  {
   "cell_type": "code",
   "execution_count": 15,
   "metadata": {
    "collapsed": false
   },
   "outputs": [
    {
     "name": "stderr",
     "output_type": "stream",
     "text": [
      "22-май 17:04:35:DEBUG:root:debug message\n",
      "22-май 17:04:35:INFO:root:info message\n",
      "22-май 17:04:35:WARNING:root:warning message\n",
      "22-май 17:04:35:ERROR:root:error message\n",
      "22-май 17:04:35:CRITICAL:root:critical message\n"
     ]
    }
   ],
   "source": [
    "@Logging.configure(level=DEBUG)\n",
    "\n",
    "function macro_log_test()\n",
    "    @debug(\"debug message\")\n",
    "    @info(\"info message\")\n",
    "    @warn(\"warning message\")\n",
    "    @err(\"error message\")\n",
    "    @critical(\"critical message\")\n",
    "end\n",
    "\n",
    "macro_log_test()"
   ]
  },
  {
   "cell_type": "code",
   "execution_count": null,
   "metadata": {
    "collapsed": true
   },
   "outputs": [],
   "source": []
  }
 ],
 "metadata": {
  "kernelspec": {
   "display_name": "Julia 0.5.1",
   "language": "julia",
   "name": "julia-0.5"
  },
  "language_info": {
   "file_extension": ".jl",
   "mimetype": "application/julia",
   "name": "julia",
   "version": "0.5.2"
  }
 },
 "nbformat": 4,
 "nbformat_minor": 2
}
