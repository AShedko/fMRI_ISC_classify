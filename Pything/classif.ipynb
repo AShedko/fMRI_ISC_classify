{
 "cells": [
  {
   "cell_type": "code",
   "execution_count": 1,
   "metadata": {
    "collapsed": true
   },
   "outputs": [],
   "source": [
    "import h5py\n",
    "\n",
    "import numpy as np\n",
    "import matplotlib.pyplot as plt\n",
    "import matplotlib.colors as mplc\n",
    "import scipy.stats as stats\n",
    "import scipy\n",
    "import seaborn as sns\n",
    "import pandas as pd\n",
    "\n",
    "from sklearn import svm, datasets\n",
    "from sklearn.metrics import roc_curve, auc, classification_report, confusion_matrix\n",
    "from sklearn.model_selection import train_test_split\n",
    "from sklearn.decomposition import PCA\n",
    "from sklearn.feature_selection import SelectKBest\n",
    "from sklearn.preprocessing import StandardScaler,MinMaxScaler\n",
    "from sklearn.discriminant_analysis import LinearDiscriminantAnalysis\n",
    "from sklearn.linear_model import LogisticRegression\n",
    "from sklearn.svm import SVC\n",
    "from sklearn.pipeline import Pipeline, FeatureUnion\n",
    "from sklearn.model_selection import GridSearchCV"
   ]
  },
  {
   "cell_type": "code",
   "execution_count": 2,
   "metadata": {
    "collapsed": true
   },
   "outputs": [],
   "source": [
    "def spe_sen(y_pred, y_test):\n",
    "    CM = confusion_matrix(y_pred, y_test)\n",
    "    TN = CM[0][0]\n",
    "    FN = CM[1][0]\n",
    "    TP = CM[1][1]\n",
    "    FP = CM[0][1]\n",
    "    SEN = TP/(TP+FN)\n",
    "    SPE = TN/(TN+FP)\n",
    "    return SPE,SEN"
   ]
  },
  {
   "cell_type": "code",
   "execution_count": 3,
   "metadata": {
    "collapsed": true
   },
   "outputs": [],
   "source": [
    "def h5read(fn, idx):\n",
    "    file=h5py.File(fn, 'r') \n",
    "    with file:\n",
    "        dat = file[idx]\n",
    "        return dat[:]\n",
    "\n",
    "# dimred = KernelPCA(kernel=\"poly\")\n",
    "dimred = PCA(n_components = 0.9999)\n",
    "# lenc = OneHotEncoder()\n",
    "# X_ = h5read(\"../Jthing/out/isc|res_x.h5\", \"data\")\n",
    "# y_ = h5read(\"../Jthing/out/isc|res_y.h5\", \"data\")\n",
    "# X_ = h5read(\"../Jthing/out/rnd|res_x.h5\", \"data\")\n",
    "# y_ = h5read(\"../Jthing/out/rnd|res_y.h5\", \"data\")\n",
    "# X_ = h5read(\"../Jthing/out/ttest|res_x.h5\", \"data\")\n",
    "# y_ = h5read(\"../Jthing/out/ttest|res_y.h5\", \"data\")\n",
    "X_ = h5read(\"../Jthing/out/tstat_all|res_x.h5\", \"data\")\n",
    "y_ = h5read(\"../Jthing/out/tstat_all|res_y.h5\", \"data\")"
   ]
  },
  {
   "cell_type": "code",
   "execution_count": 4,
   "metadata": {},
   "outputs": [
    {
     "name": "stdout",
     "output_type": "stream",
     "text": [
      "             precision    recall  f1-score   support\n",
      "\n",
      "      False       0.92      0.92      0.92       164\n",
      "       True       0.96      0.96      0.96       344\n",
      "\n",
      "avg / total       0.95      0.95      0.95       508\n",
      "\n"
     ]
    },
    {
     "data": {
      "text/plain": [
       "(0.91515151515151516, 0.96209912536443154)"
      ]
     },
     "execution_count": 4,
     "metadata": {},
     "output_type": "execute_result"
    }
   ],
   "source": [
    "# lenc = LabelEncoder()\n",
    "# y2 = fit_transform!(lenc, y_)\n",
    "y2 = list(map( lambda x: x[0]=='V', y_))\n",
    "# y2 = y_\n",
    "\n",
    "combined_features = FeatureUnion([(\"pca\", PCA(n_components = 600)), (\"univ_select\", SelectKBest(k = 30))])\n",
    "pip = Pipeline([(\"features\", combined_features),(\"scale\",MinMaxScaler()),(\"svc\", SVC(C=4000, probability=1))])\n",
    "# top = GridSearchCV(estimator =pip, n_jobs = 1, param_grid =  {\"svc__C\":[4000]})\n",
    "top = pip\n",
    "\n",
    "\n",
    "# X_train, X_test, y_train, y_test = train_test_split(X_, y2, test_size=.2)\n",
    "# top.fit(X_train, y_train)\n",
    "# scor = top.score(X_test, y_test)\n",
    "\n",
    "scor = 0.\n",
    "for i in range(20):\n",
    "    X_train, X_test, y_train, y_test = train_test_split(X_, y2, test_size=.2)\n",
    "    top.fit(X_train, y_train)\n",
    "    scor += top.score(X_test, y_test)\n",
    "scor /= 20\n",
    "\n",
    "y_pred = top.predict(X_test)\n",
    "print(classification_report(y_test, y_pred))\n",
    "spe_sen(y_pred, y_test)"
   ]
  },
  {
   "cell_type": "code",
   "execution_count": 6,
   "metadata": {
    "collapsed": true
   },
   "outputs": [],
   "source": [
    "y_proba = top.predict_proba(X_test)"
   ]
  },
  {
   "cell_type": "code",
   "execution_count": 7,
   "metadata": {},
   "outputs": [
    {
     "data": {
      "text/plain": [
       "array([[  1.61446425e-02,   9.83855358e-01],\n",
       "       [  5.96189340e-01,   4.03810660e-01],\n",
       "       [  1.08567161e-05,   9.99989143e-01],\n",
       "       ..., \n",
       "       [  8.35018175e-01,   1.64981825e-01],\n",
       "       [  1.42965792e-01,   8.57034208e-01],\n",
       "       [  7.68128906e-01,   2.31871094e-01]])"
      ]
     },
     "execution_count": 7,
     "metadata": {},
     "output_type": "execute_result"
    }
   ],
   "source": [
    "y_proba"
   ]
  },
  {
   "cell_type": "code",
   "execution_count": 2,
   "metadata": {
    "collapsed": true
   },
   "outputs": [],
   "source": [
    "from joblib import Parallel, delayed\n",
    "import multiprocessing\n",
    "# what are your inputs, and what operation do you want to \n",
    "# perform on each input. For example..."
   ]
  },
  {
   "cell_type": "code",
   "execution_count": 35,
   "metadata": {
    "collapsed": true
   },
   "outputs": [],
   "source": [
    "def processInp(segm):\n",
    "    X_ = h5read(\"../Jthing/out/{}|res_x.h5\".format(segm), \"data\")\n",
    "    y_ = h5read(\"../Jthing/out/{}|res_y.h5\".format(segm), \"data\")\n",
    "    y2 = list(map( lambda x: x[0]=='V', y_))\n",
    "    tst = dict()\n",
    "    for cls,nm in zip([SVC(C=4000, probability=True), LinearDiscriminantAnalysis(), LogisticRegression(C=4000)],\n",
    "                      [\"SVC\",\"LDA\",\"LogRegr\"]):\n",
    "        combined_features = FeatureUnion([(\"pca\", PCA(n_components = 600)), (\"univ_select\", SelectKBest(k = 30))])\n",
    "        pip = Pipeline([(\"features\", combined_features),(\"scale\",MinMaxScaler()),(\"svc\", cls)])\n",
    "        # top = GridSearchCV(estimator =pip, n_jobs = 1, param_grid =  {\"svc__C\":[4000]})\n",
    "        top = pip\n",
    "        \n",
    "        bars = []\n",
    "        for i in range(20):\n",
    "            X_train, X_test, y_train, y_test = train_test_split(X_, y2, test_size=.2)\n",
    "            top.fit(X_train, y_train)\n",
    "            scor = top.score(X_test, y_test)\n",
    "            bars.append(scor)\n",
    "        \n",
    "        tst[nm] = bars\n",
    "    return tst\n",
    "\n",
    "num_cores = multiprocessing.cpu_count()\n",
    "result_rnd = processInp(\"rnd\")\n",
    "# result = Parallel(n_jobs=num_cores)(delayed(processInp)(segm) for segm in [\"glm\",\"isc\",\"ttest\",\"rnd\"])\n"
   ]
  },
  {
   "cell_type": "code",
   "execution_count": 9,
   "metadata": {},
   "outputs": [
    {
     "ename": "NameError",
     "evalue": "name 'result' is not defined",
     "output_type": "error",
     "traceback": [
      "\u001b[0;31m---------------------------------------------------------------------------\u001b[0m",
      "\u001b[0;31mNameError\u001b[0m                                 Traceback (most recent call last)",
      "\u001b[0;32m<ipython-input-9-d498bda167fe>\u001b[0m in \u001b[0;36m<module>\u001b[0;34m()\u001b[0m\n\u001b[1;32m      1\u001b[0m \u001b[0mcompar\u001b[0m \u001b[0;34m=\u001b[0m \u001b[0;34m[\u001b[0m\u001b[0;34m]\u001b[0m\u001b[0;34m\u001b[0m\u001b[0m\n\u001b[0;32m----> 2\u001b[0;31m \u001b[0;32mfor\u001b[0m \u001b[0mr\u001b[0m \u001b[0;32min\u001b[0m \u001b[0mresult\u001b[0m\u001b[0;34m:\u001b[0m\u001b[0;34m\u001b[0m\u001b[0m\n\u001b[0m\u001b[1;32m      3\u001b[0m     \u001b[0mtst\u001b[0m \u001b[0;34m=\u001b[0m \u001b[0mdict\u001b[0m\u001b[0;34m(\u001b[0m\u001b[0;34m)\u001b[0m\u001b[0;34m\u001b[0m\u001b[0m\n\u001b[1;32m      4\u001b[0m     \u001b[0;32mfor\u001b[0m \u001b[0mrec\u001b[0m \u001b[0;32min\u001b[0m \u001b[0mr\u001b[0m\u001b[0;34m.\u001b[0m\u001b[0mitems\u001b[0m\u001b[0;34m(\u001b[0m\u001b[0;34m)\u001b[0m\u001b[0;34m:\u001b[0m\u001b[0;34m\u001b[0m\u001b[0m\n\u001b[1;32m      5\u001b[0m         \u001b[0mprint\u001b[0m\u001b[0;34m(\u001b[0m\u001b[0mrec\u001b[0m\u001b[0;34m[\u001b[0m\u001b[0;36m0\u001b[0m\u001b[0;34m]\u001b[0m\u001b[0;34m,\u001b[0m \u001b[0mnp\u001b[0m\u001b[0;34m.\u001b[0m\u001b[0mmean\u001b[0m\u001b[0;34m(\u001b[0m\u001b[0mrec\u001b[0m\u001b[0;34m[\u001b[0m\u001b[0;36m1\u001b[0m\u001b[0;34m]\u001b[0m\u001b[0;34m)\u001b[0m\u001b[0;34m,\u001b[0m\u001b[0mnp\u001b[0m\u001b[0;34m.\u001b[0m\u001b[0mvar\u001b[0m\u001b[0;34m(\u001b[0m\u001b[0mrec\u001b[0m\u001b[0;34m[\u001b[0m\u001b[0;36m1\u001b[0m\u001b[0;34m]\u001b[0m\u001b[0;34m)\u001b[0m\u001b[0;34m)\u001b[0m\u001b[0;34m\u001b[0m\u001b[0m\n",
      "\u001b[0;31mNameError\u001b[0m: name 'result' is not defined"
     ]
    }
   ],
   "source": [
    "compar = []\n",
    "for r in result:\n",
    "    tst = dict()\n",
    "    for rec in r.items():\n",
    "        print(rec[0], np.mean(rec[1]),np.var(rec[1]))\n",
    "        tst[rec[0]] = [np.mean(rec[1]),np.var(rec[1])]\n",
    "    compar.append(tst)"
   ]
  },
  {
   "cell_type": "code",
   "execution_count": 36,
   "metadata": {
    "collapsed": true
   },
   "outputs": [],
   "source": [
    "result[3] = result_rnd"
   ]
  },
  {
   "cell_type": "code",
   "execution_count": null,
   "metadata": {
    "collapsed": true
   },
   "outputs": [],
   "source": []
  },
  {
   "cell_type": "code",
   "execution_count": 11,
   "metadata": {},
   "outputs": [],
   "source": [
    "y2 = list(map( lambda x: x[0]=='V', y_))\n",
    "# y2 = y_\n",
    "\n",
    "res = []\n",
    "segm = \"tstat_all\"\n",
    "X_ = h5read(\"../Jthing/out/{}|res_x.h5\".format(segm), \"data\")\n",
    "y_ = h5read(\"../Jthing/out/{}|res_y.h5\".format(segm), \"data\")\n",
    "for cls in [SVC(C=4000, probability=True), LinearDiscriminantAnalysis(), LogisticRegression(C=4000)]:\n",
    "    combined_features = FeatureUnion([(\"pca\", PCA(n_components = 600)), (\"univ_select\", SelectKBest(k = 30))])\n",
    "    pip = Pipeline([(\"features\", combined_features),(\"scale\",MinMaxScaler()),(\"svc\", cls)])\n",
    "    # top = GridSearchCV(estimator =pip, n_jobs = 1, param_grid =  {\"svc__C\":[4000]})\n",
    "    top = pip\n",
    "\n",
    "\n",
    "    X_train, X_test, y_train, y_test = train_test_split(X_, y2, test_size=.2)\n",
    "    top.fit(X_train, y_train)\n",
    "    scor = top.score(X_test, y_test)\n",
    "\n",
    "    y_pred = top.predict(X_test)\n",
    "    res+=[top]"
   ]
  },
  {
   "cell_type": "code",
   "execution_count": 38,
   "metadata": {},
   "outputs": [
    {
     "data": {
      "text/plain": [
       "902629"
      ]
     },
     "execution_count": 38,
     "metadata": {},
     "output_type": "execute_result"
    }
   ],
   "source": [
    "91*109*91"
   ]
  },
  {
   "cell_type": "code",
   "execution_count": 182,
   "metadata": {
    "collapsed": true
   },
   "outputs": [],
   "source": []
  },
  {
   "cell_type": "code",
   "execution_count": 12,
   "metadata": {},
   "outputs": [
    {
     "data": {
      "image/png": "[encoded data removed]",
      "text/plain": [
       "<matplotlib.figure.Figure at 0x7fb5e07a2668>"
      ]
     },
     "metadata": {},
     "output_type": "display_data"
    },
    {
     "data": {
      "image/png": "[encoded data removed]",
      "text/plain": [
       "<matplotlib.figure.Figure at 0x7fb5e36499b0>"
      ]
     },
     "metadata": {},
     "output_type": "display_data"
    }
   ],
   "source": [
    "plt.figure(1)\n",
    "plt.clf()\n",
    "for cls,name in zip(res,[\"SVM\",\"LDA\",\"LogisticRegression\"]):\n",
    "    prob = cls.predict_proba(X_test)\n",
    "    fpr, tpr, _ = roc_curve(y_test, prob[:,1])\n",
    "    scr = auc(fpr,tpr)\n",
    "    plt.plot(fpr, tpr,label= name+\" ({:1.4f})\".format(scr))\n",
    "\n",
    "plt.xlabel('False positive rate')\n",
    "plt.ylabel('True positive rate')\n",
    "plt.legend(loc='best')\n",
    "plt.title('ROC curves')\n",
    "plt.show()\n",
    "# plt.savefig(\"../out/clsROC.png\")\n",
    "\n",
    "plt.figure(2)\n",
    "plt.clf()\n",
    "plt.xlim(0,.2)\n",
    "plt.ylim(0.8,1)\n",
    "for cls,name in zip(res,[\"SVM\",\"LDA\",\"LogisticRegression\"]):\n",
    "    prob = cls.predict_proba(X_test)\n",
    "    fpr, tpr, _ = roc_curve(y_test, prob[:,1])\n",
    "    scr = auc(fpr,tpr)\n",
    "    plt.plot(fpr, tpr,label= name+\" (AUC = {:1.4f})\".format(scr))\n",
    "\n",
    "plt.xlabel('False positive rate')\n",
    "plt.ylabel('True positive rate')\n",
    "plt.legend(loc='best')\n",
    "plt.title('ROC curves: top left corner')\n",
    "plt.show()\n",
    "# plt.savefig(\"../out/clsROCcrn.png\")"
   ]
  },
  {
   "cell_type": "code",
   "execution_count": null,
   "metadata": {
    "collapsed": true
   },
   "outputs": [],
   "source": [
    "for i in res:\n",
    "    print(str(i[0])+\",\"+str(i[1]))"
   ]
  },
  {
   "cell_type": "code",
   "execution_count": 84,
   "metadata": {},
   "outputs": [
    {
     "ename": "NameError",
     "evalue": "name 'isc' is not defined",
     "output_type": "error",
     "traceback": [
      "\u001b[0;31m---------------------------------------------------------------------------\u001b[0m",
      "\u001b[0;31mNameError\u001b[0m                                 Traceback (most recent call last)",
      "\u001b[0;32m<ipython-input-84-1ff7eafad83a>\u001b[0m in \u001b[0;36m<module>\u001b[0;34m()\u001b[0m\n\u001b[0;32m----> 1\u001b[0;31m \u001b[0misc\u001b[0m\u001b[0;34m,\u001b[0m \u001b[0;36m0.88764044943820219\u001b[0m\u001b[0;34m,\u001b[0m \u001b[0;36m0.94864048338368578\u001b[0m\u001b[0;34m\u001b[0m\u001b[0m\n\u001b[0m\u001b[1;32m      2\u001b[0m \u001b[0mrnd\u001b[0m\u001b[0;34m,\u001b[0m \u001b[0;36m0.84883720930232553\u001b[0m\u001b[0;34m,\u001b[0m \u001b[0;36m0.94362017804154308\u001b[0m\u001b[0;34m\u001b[0m\u001b[0m\n\u001b[1;32m      3\u001b[0m \u001b[0mtt\u001b[0m\u001b[0;34m,\u001b[0m \u001b[0;36m0.94972067039106145\u001b[0m\u001b[0;34m,\u001b[0m \u001b[0;36m0.94224924012158051\u001b[0m\u001b[0;34m\u001b[0m\u001b[0m\n",
      "\u001b[0;31mNameError\u001b[0m: name 'isc' is not defined"
     ]
    }
   ],
   "source": [
    "isc, 0.93965517241379315, 0.88819875776397517\n",
    "rnd, 0.93452380952380953, 0.80346820809248554\n",
    "tt, 0.95795795795795791, 0.93142857142857138\n",
    "glm, 0.93314763231197773, 0.87248322147651003"
   ]
  },
  {
   "cell_type": "code",
   "execution_count": 160,
   "metadata": {
    "collapsed": true
   },
   "outputs": [],
   "source": [
    "?auc"
   ]
  },
  {
   "cell_type": "code",
   "execution_count": 16,
   "metadata": {},
   "outputs": [
    {
     "data": {
      "text/plain": [
       "[(False, False),\n",
       " (True, True),\n",
       " (False, False),\n",
       " (True, True),\n",
       " (True, True),\n",
       " (True, True),\n",
       " (True, True),\n",
       " (False, False),\n",
       " (True, True),\n",
       " (False, True),\n",
       " (True, True),\n",
       " (False, False),\n",
       " (True, True),\n",
       " (True, True),\n",
       " (True, True),\n",
       " (False, False),\n",
       " (True, True),\n",
       " (False, False),\n",
       " (True, False),\n",
       " (True, True),\n",
       " (True, True),\n",
       " (False, False),\n",
       " (True, True),\n",
       " (True, True),\n",
       " (False, False),\n",
       " (True, True),\n",
       " (True, True),\n",
       " (True, True),\n",
       " (True, True),\n",
       " (True, True),\n",
       " (False, False),\n",
       " (True, True),\n",
       " (True, True),\n",
       " (True, True),\n",
       " (True, True),\n",
       " (False, False),\n",
       " (True, True),\n",
       " (True, True),\n",
       " (False, False),\n",
       " (True, True),\n",
       " (False, False),\n",
       " (True, True),\n",
       " (True, True),\n",
       " (True, True),\n",
       " (True, True),\n",
       " (True, True),\n",
       " (False, False),\n",
       " (True, True),\n",
       " (True, True),\n",
       " (False, False),\n",
       " (True, True),\n",
       " (True, True),\n",
       " (True, True),\n",
       " (True, True),\n",
       " (True, True),\n",
       " (True, True),\n",
       " (True, True),\n",
       " (False, False),\n",
       " (True, True),\n",
       " (True, True),\n",
       " (True, True),\n",
       " (True, True),\n",
       " (True, True),\n",
       " (True, True),\n",
       " (True, True),\n",
       " (True, False),\n",
       " (False, False),\n",
       " (False, False),\n",
       " (True, True),\n",
       " (True, True),\n",
       " (True, True),\n",
       " (False, False),\n",
       " (True, True),\n",
       " (True, False),\n",
       " (True, True),\n",
       " (True, True),\n",
       " (False, False),\n",
       " (True, True),\n",
       " (False, False),\n",
       " (False, False),\n",
       " (False, False),\n",
       " (True, True),\n",
       " (False, False),\n",
       " (True, True),\n",
       " (False, False),\n",
       " (False, False),\n",
       " (True, False),\n",
       " (False, False),\n",
       " (True, True),\n",
       " (True, True),\n",
       " (True, True),\n",
       " (True, False),\n",
       " (True, True),\n",
       " (True, True),\n",
       " (True, True),\n",
       " (True, True),\n",
       " (False, False),\n",
       " (False, False),\n",
       " (True, True),\n",
       " (False, False),\n",
       " (False, False),\n",
       " (True, True),\n",
       " (False, False),\n",
       " (True, True),\n",
       " (False, False),\n",
       " (True, True),\n",
       " (False, False),\n",
       " (True, True),\n",
       " (True, True),\n",
       " (False, False),\n",
       " (False, False),\n",
       " (False, False),\n",
       " (False, False),\n",
       " (True, True),\n",
       " (True, True),\n",
       " (True, True),\n",
       " (True, True),\n",
       " (True, True),\n",
       " (False, False),\n",
       " (False, False),\n",
       " (True, True),\n",
       " (True, True),\n",
       " (True, True),\n",
       " (True, True),\n",
       " (True, True),\n",
       " (True, True),\n",
       " (True, True),\n",
       " (True, True),\n",
       " (True, True),\n",
       " (False, False),\n",
       " (True, True),\n",
       " (True, False),\n",
       " (True, True),\n",
       " (True, True),\n",
       " (True, True),\n",
       " (True, True),\n",
       " (False, False),\n",
       " (False, False),\n",
       " (True, True),\n",
       " (True, True),\n",
       " (True, True),\n",
       " (False, False),\n",
       " (True, True),\n",
       " (False, False),\n",
       " (False, False),\n",
       " (False, False),\n",
       " (True, True),\n",
       " (True, True),\n",
       " (False, False),\n",
       " (True, True),\n",
       " (True, True),\n",
       " (True, True),\n",
       " (False, True),\n",
       " (True, True),\n",
       " (True, True),\n",
       " (True, True),\n",
       " (False, False),\n",
       " (True, True),\n",
       " (True, True),\n",
       " (False, False),\n",
       " (True, True),\n",
       " (True, True),\n",
       " (True, True),\n",
       " (False, False),\n",
       " (True, True),\n",
       " (True, True),\n",
       " (True, True),\n",
       " (True, True),\n",
       " (True, True),\n",
       " (True, False),\n",
       " (False, False),\n",
       " (True, False),\n",
       " (False, False),\n",
       " (True, True),\n",
       " (True, True),\n",
       " (True, True),\n",
       " (True, True),\n",
       " (True, True),\n",
       " (False, False),\n",
       " (True, True),\n",
       " (True, False),\n",
       " (True, True),\n",
       " (True, True),\n",
       " (True, True),\n",
       " (True, True),\n",
       " (True, True),\n",
       " (True, True),\n",
       " (True, True),\n",
       " (True, True),\n",
       " (False, False),\n",
       " (False, False),\n",
       " (True, True),\n",
       " (True, True),\n",
       " (False, False),\n",
       " (True, True),\n",
       " (True, True),\n",
       " (True, True),\n",
       " (True, True),\n",
       " (True, True),\n",
       " (True, True),\n",
       " (False, False),\n",
       " (True, True),\n",
       " (True, True),\n",
       " (False, False),\n",
       " (True, True),\n",
       " (False, False),\n",
       " (True, True),\n",
       " (False, False),\n",
       " (False, False),\n",
       " (True, True),\n",
       " (True, True),\n",
       " (True, True),\n",
       " (False, False),\n",
       " (True, False),\n",
       " (True, True),\n",
       " (False, False),\n",
       " (True, True),\n",
       " (True, True),\n",
       " (False, False),\n",
       " (True, True),\n",
       " (True, True),\n",
       " (False, False),\n",
       " (False, False),\n",
       " (True, True),\n",
       " (True, True),\n",
       " (False, False),\n",
       " (True, True),\n",
       " (False, False),\n",
       " (False, False),\n",
       " (True, True),\n",
       " (True, True),\n",
       " (True, True),\n",
       " (True, True),\n",
       " (True, True),\n",
       " (True, True),\n",
       " (True, True),\n",
       " (True, True),\n",
       " (True, True),\n",
       " (False, False),\n",
       " (True, True),\n",
       " (True, True),\n",
       " (True, True),\n",
       " (False, False),\n",
       " (True, True),\n",
       " (True, True),\n",
       " (True, True),\n",
       " (False, True),\n",
       " (True, False),\n",
       " (True, True),\n",
       " (True, True),\n",
       " (False, False),\n",
       " (False, False),\n",
       " (False, False),\n",
       " (True, True),\n",
       " (True, True),\n",
       " (True, True),\n",
       " (True, True),\n",
       " (True, False),\n",
       " (True, True),\n",
       " (True, True),\n",
       " (True, False),\n",
       " (True, True),\n",
       " (True, True),\n",
       " (True, True),\n",
       " (False, False),\n",
       " (False, False),\n",
       " (True, True),\n",
       " (True, False),\n",
       " (False, False),\n",
       " (True, False),\n",
       " (True, True),\n",
       " (True, True),\n",
       " (False, False),\n",
       " (False, False),\n",
       " (True, True),\n",
       " (True, True),\n",
       " (True, True),\n",
       " (True, True),\n",
       " (True, True),\n",
       " (False, False),\n",
       " (True, True),\n",
       " (False, False),\n",
       " (True, True),\n",
       " (False, False),\n",
       " (True, True),\n",
       " (True, False),\n",
       " (True, True),\n",
       " (True, True),\n",
       " (True, True),\n",
       " (False, False),\n",
       " (True, True),\n",
       " (True, True),\n",
       " (True, True),\n",
       " (True, True),\n",
       " (True, False),\n",
       " (True, True),\n",
       " (False, False),\n",
       " (True, True),\n",
       " (True, True),\n",
       " (False, False),\n",
       " (False, False),\n",
       " (True, True),\n",
       " (True, True),\n",
       " (False, False),\n",
       " (True, True),\n",
       " (True, False),\n",
       " (True, True),\n",
       " (False, False),\n",
       " (True, True),\n",
       " (False, True),\n",
       " (True, True),\n",
       " (True, True),\n",
       " (True, True),\n",
       " (True, False),\n",
       " (True, True),\n",
       " (False, False),\n",
       " (True, True),\n",
       " (True, True),\n",
       " (True, True),\n",
       " (True, True),\n",
       " (True, True),\n",
       " (False, False),\n",
       " (True, True),\n",
       " (True, True),\n",
       " (False, False),\n",
       " (False, False),\n",
       " (True, True),\n",
       " (False, True),\n",
       " (True, True),\n",
       " (True, True),\n",
       " (True, True),\n",
       " (False, False),\n",
       " (False, False),\n",
       " (True, True),\n",
       " (True, True),\n",
       " (True, True),\n",
       " (False, False),\n",
       " (False, False),\n",
       " (True, True),\n",
       " (True, True),\n",
       " (True, True),\n",
       " (False, False),\n",
       " (True, True),\n",
       " (True, True),\n",
       " (True, True),\n",
       " (True, True),\n",
       " (False, False),\n",
       " (True, True),\n",
       " (True, True),\n",
       " (True, True),\n",
       " (True, True),\n",
       " (True, True),\n",
       " (False, False),\n",
       " (False, False),\n",
       " (False, True),\n",
       " (False, False),\n",
       " (False, False),\n",
       " (True, True),\n",
       " (True, True),\n",
       " (True, True),\n",
       " (True, True),\n",
       " (False, False),\n",
       " (True, True),\n",
       " (True, False),\n",
       " (True, True),\n",
       " (True, False),\n",
       " (True, True),\n",
       " (True, True),\n",
       " (False, False),\n",
       " (True, True),\n",
       " (True, True),\n",
       " (True, True),\n",
       " (False, False),\n",
       " (True, True),\n",
       " (True, True),\n",
       " (True, True),\n",
       " (False, True),\n",
       " (True, True),\n",
       " (True, True),\n",
       " (False, False),\n",
       " (False, False),\n",
       " (True, True),\n",
       " (True, True),\n",
       " (False, False),\n",
       " (True, True),\n",
       " (True, True),\n",
       " (False, False),\n",
       " (True, True),\n",
       " (True, True),\n",
       " (True, False),\n",
       " (False, False),\n",
       " (False, False),\n",
       " (True, True),\n",
       " (True, True),\n",
       " (True, False),\n",
       " (True, True),\n",
       " (False, False),\n",
       " (False, False),\n",
       " (True, True),\n",
       " (False, False),\n",
       " (False, False),\n",
       " (True, True),\n",
       " (True, True),\n",
       " (True, True),\n",
       " (False, False),\n",
       " (True, True),\n",
       " (True, True),\n",
       " (True, True),\n",
       " (True, True),\n",
       " (False, False),\n",
       " (True, True),\n",
       " (True, True),\n",
       " (True, True),\n",
       " (False, False),\n",
       " (True, True),\n",
       " (False, False),\n",
       " (True, True),\n",
       " (True, True),\n",
       " (True, True),\n",
       " (True, True),\n",
       " (True, True),\n",
       " (True, False),\n",
       " (True, True),\n",
       " (False, False),\n",
       " (True, True),\n",
       " (False, False),\n",
       " (True, True),\n",
       " (True, True),\n",
       " (True, True),\n",
       " (True, True),\n",
       " (True, False),\n",
       " (False, False),\n",
       " (False, False),\n",
       " (True, True),\n",
       " (True, True),\n",
       " (True, True),\n",
       " (False, False),\n",
       " (True, True),\n",
       " (True, True),\n",
       " (True, True),\n",
       " (True, True),\n",
       " (True, True),\n",
       " (True, True),\n",
       " (True, True),\n",
       " (False, False),\n",
       " (True, True),\n",
       " (True, True),\n",
       " (True, True),\n",
       " (True, True),\n",
       " (False, False),\n",
       " (False, False),\n",
       " (False, False),\n",
       " (True, True),\n",
       " (True, True),\n",
       " (True, True),\n",
       " (True, True),\n",
       " (True, True),\n",
       " (True, True),\n",
       " (True, True),\n",
       " (True, True),\n",
       " (False, False),\n",
       " (False, False),\n",
       " (False, False),\n",
       " (False, False),\n",
       " (True, True),\n",
       " (True, True),\n",
       " (False, False),\n",
       " (False, False),\n",
       " (True, True),\n",
       " (True, True),\n",
       " (True, True),\n",
       " (True, True),\n",
       " (True, True),\n",
       " (True, True),\n",
       " (False, False),\n",
       " (True, True),\n",
       " (True, True),\n",
       " (True, True),\n",
       " (True, True),\n",
       " (False, False),\n",
       " (True, True),\n",
       " (True, True),\n",
       " (True, True),\n",
       " (True, True),\n",
       " (True, True),\n",
       " (True, True),\n",
       " (False, False),\n",
       " (True, True),\n",
       " (False, False),\n",
       " (True, True),\n",
       " (True, True),\n",
       " (True, True),\n",
       " (True, True),\n",
       " (True, True),\n",
       " (True, True),\n",
       " (True, True),\n",
       " (True, True),\n",
       " (True, True),\n",
       " (False, False),\n",
       " (True, True),\n",
       " (False, False),\n",
       " (False, False),\n",
       " (False, False),\n",
       " (True, True),\n",
       " (True, True),\n",
       " (True, True),\n",
       " (True, False),\n",
       " (True, True)]"
      ]
     },
     "execution_count": 16,
     "metadata": {},
     "output_type": "execute_result"
    }
   ],
   "source": [
    "list(zip(y_pred,y_test))"
   ]
  },
  {
   "cell_type": "code",
   "execution_count": 10,
   "metadata": {
    "collapsed": true
   },
   "outputs": [],
   "source": [
    "f(x) = lambda x: if x : \"V\" else: \"S\" \n",
    "fpr, tpr, l = roc_curve(map(y_test), y_pred)"
   ]
  },
  {
   "cell_type": "code",
   "execution_count": 11,
   "metadata": {},
   "outputs": [
    {
     "data": {
      "text/plain": [
       "array([ 0.       ,  0.1547619,  1.       ])"
      ]
     },
     "execution_count": 11,
     "metadata": {},
     "output_type": "execute_result"
    }
   ],
   "source": []
  },
  {
   "cell_type": "code",
   "execution_count": 48,
   "metadata": {},
   "outputs": [
    {
     "ename": "SyntaxError",
     "evalue": "invalid syntax (<ipython-input-48-27f1d16a5f92>, line 1)",
     "output_type": "error",
     "traceback": [
      "\u001b[0;36m  File \u001b[0;32m\"<ipython-input-48-27f1d16a5f92>\"\u001b[0;36m, line \u001b[0;32m1\u001b[0m\n\u001b[0;31m    precision    recall  f1-score   support\u001b[0m\n\u001b[0m                      ^\u001b[0m\n\u001b[0;31mSyntaxError\u001b[0m\u001b[0;31m:\u001b[0m invalid syntax\n"
     ]
    }
   ],
   "source": [
    "             precision    recall  f1-score   support\n",
    "\n",
    "      False       0.78      0.83      0.80       168\n",
    "       True       0.91      0.89      0.90       341\n",
    "\n",
    "avg / total       0.87      0.87      0.87       509"
   ]
  },
  {
   "cell_type": "code",
   "execution_count": null,
   "metadata": {
    "collapsed": true
   },
   "outputs": [],
   "source": [
    "best\n",
    "    precision    recall  f1-score   support\n",
    "\n",
    "      False       0.88      0.92      0.90       153\n",
    "       True       0.97      0.94      0.95       356\n",
    "\n",
    "avg / total       0.94      0.94      0.94       509"
   ]
  },
  {
   "cell_type": "code",
   "execution_count": 27,
   "metadata": {},
   "outputs": [
    {
     "name": "stdout",
     "output_type": "stream",
     "text": [
      "Automatically created module for IPython interactive environment\n"
     ]
    }
   ],
   "source": [
    "t-test:\n",
    "\n",
    "precision    recall  f1-score   support\n",
    "\n",
    "      False       0.93      0.88      0.91       173\n",
    "       True       0.94      0.96      0.95       335\n",
    "\n",
    "avg / total       0.94      0.94      0.94       508\n"
   ]
  },
  {
   "cell_type": "code",
   "execution_count": null,
   "metadata": {
    "collapsed": true
   },
   "outputs": [],
   "source": []
  },
  {
   "cell_type": "code",
   "execution_count": null,
   "metadata": {
    "collapsed": true
   },
   "outputs": [],
   "source": []
  }
 ],
 "metadata": {
  "kernelspec": {
   "display_name": "Python 3",
   "language": "python",
   "name": "python3"
  },
  "language_info": {
   "codemirror_mode": {
    "name": "ipython",
    "version": 3
   },
   "file_extension": ".py",
   "mimetype": "text/x-python",
   "name": "python",
   "nbconvert_exporter": "python",
   "pygments_lexer": "ipython3",
   "version": "3.6.1"
  }
 },
 "nbformat": 4,
 "nbformat_minor": 2
}
